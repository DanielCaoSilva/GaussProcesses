{
 "cells": [
  {
   "cell_type": "code",
   "execution_count": 1,
   "metadata": {
    "collapsed": true
   },
   "outputs": [],
   "source": [
    "import torch\n",
    "import gpytorch\n",
    "from matplotlib import pyplot as plt\n",
    "import math\n",
    "import numpy as np\n",
    "import pandas as pd\n",
    "import tqdm.notebook\n",
    "import time\n",
    "import DataGrabber\n",
    "import utils\n",
    "\n",
    "%matplotlib inline\n",
    "%load_ext autoreload\n",
    "%autoreload 2\n",
    "plt.style.use('classic')\n",
    "\n",
    "from utils import set_gpytorch_settings\n",
    "#gpytorch.settings.max_cholesky_size\n",
    "set_gpytorch_settings()\n",
    "\n",
    "# Command in terminal to help with memory allocation\n",
    "# set PYTORCH_CUDA_ALLOC_CONF=max_split_size_mb:512"
   ]
  },
  {
   "cell_type": "code",
   "execution_count": 2,
   "outputs": [],
   "source": [
    "# Kernel Imports\n",
    "from gpytorch.kernels import PeriodicKernel\n",
    "from custom_kernel import MinKernel, AR2Kernel, MaternKernel, LinearKernel\n",
    "from gpytorch.means import ConstantMean\n",
    "from gpytorch.kernels import ScaleKernel, RBFKernel, InducingPointKernel\n",
    "from gpytorch.distributions import MultivariateNormal\n",
    "from gpytorch.constraints import Interval\n",
    "from custom_kernel import noise_lower, noise_upper, noise_init"
   ],
   "metadata": {
    "collapsed": false
   }
  },
  {
   "cell_type": "code",
   "execution_count": 7,
   "outputs": [
    {
     "name": "stdout",
     "output_type": "stream",
     "text": [
      "                time\n",
      "0       1.349049e+09\n",
      "1       1.349051e+09\n",
      "2       1.349053e+09\n",
      "3       1.349055e+09\n",
      "4       1.349057e+09\n",
      "...              ...\n",
      "174517  1.676590e+09\n",
      "174518  1.676592e+09\n",
      "174519  1.676594e+09\n",
      "174520  1.676595e+09\n",
      "174521  1.676597e+09\n",
      "\n",
      "[174522 rows x 1 columns]\n",
      "                time  wind_dir\n",
      "0       1.349049e+09     999.0\n",
      "1       1.349051e+09     999.0\n",
      "2       1.349053e+09     999.0\n",
      "3       1.349055e+09     999.0\n",
      "4       1.349057e+09     999.0\n",
      "...              ...       ...\n",
      "174517  1.676590e+09     999.0\n",
      "174518  1.676592e+09     999.0\n",
      "174519  1.676594e+09     999.0\n",
      "174520  1.676595e+09     999.0\n",
      "174521  1.676597e+09     999.0\n",
      "\n",
      "[174522 rows x 2 columns]\n",
      "                time  wind_dir  wind_spd\n",
      "0       1.349049e+09     999.0      99.0\n",
      "1       1.349051e+09     999.0      99.0\n",
      "2       1.349053e+09     999.0      99.0\n",
      "3       1.349055e+09     999.0      99.0\n",
      "4       1.349057e+09     999.0      99.0\n",
      "...              ...       ...       ...\n",
      "174517  1.676590e+09     999.0      99.0\n",
      "174518  1.676592e+09     999.0      99.0\n",
      "174519  1.676594e+09     999.0      99.0\n",
      "174520  1.676595e+09     999.0      99.0\n",
      "174521  1.676597e+09     999.0      99.0\n",
      "\n",
      "[174522 rows x 3 columns]\n",
      "                time  wind_dir  wind_spd  gust\n",
      "0       1.349049e+09     999.0      99.0  99.0\n",
      "1       1.349051e+09     999.0      99.0  99.0\n",
      "2       1.349053e+09     999.0      99.0  99.0\n",
      "3       1.349055e+09     999.0      99.0  99.0\n",
      "4       1.349057e+09     999.0      99.0  99.0\n",
      "...              ...       ...       ...   ...\n",
      "174517  1.676590e+09     999.0      99.0  99.0\n",
      "174518  1.676592e+09     999.0      99.0  99.0\n",
      "174519  1.676594e+09     999.0      99.0  99.0\n",
      "174520  1.676595e+09     999.0      99.0  99.0\n",
      "174521  1.676597e+09     999.0      99.0  99.0\n",
      "\n",
      "[174522 rows x 4 columns]\n",
      "                time  wind_dir  wind_spd  gust  wave_height\n",
      "0       1.349049e+09     999.0      99.0  99.0          1.1\n",
      "1       1.349051e+09     999.0      99.0  99.0          1.0\n",
      "2       1.349053e+09     999.0      99.0  99.0          1.1\n",
      "3       1.349055e+09     999.0      99.0  99.0          1.0\n",
      "4       1.349057e+09     999.0      99.0  99.0          1.1\n",
      "...              ...       ...       ...   ...          ...\n",
      "174517  1.676590e+09     999.0      99.0  99.0          0.7\n",
      "174518  1.676592e+09     999.0      99.0  99.0          0.7\n",
      "174519  1.676594e+09     999.0      99.0  99.0          0.7\n",
      "174520  1.676595e+09     999.0      99.0  99.0          0.7\n",
      "174521  1.676597e+09     999.0      99.0  99.0          0.7\n",
      "\n",
      "[174522 rows x 5 columns]\n",
      "                time  wind_dir  wind_spd  gust  wave_height  dominant_wpd\n",
      "0       1.349049e+09     999.0      99.0  99.0          1.1          17.0\n",
      "1       1.349051e+09     999.0      99.0  99.0          1.0          17.0\n",
      "2       1.349053e+09     999.0      99.0  99.0          1.1          17.0\n",
      "3       1.349055e+09     999.0      99.0  99.0          1.0          17.0\n",
      "4       1.349057e+09     999.0      99.0  99.0          1.1          18.0\n",
      "...              ...       ...       ...   ...          ...           ...\n",
      "174517  1.676590e+09     999.0      99.0  99.0          0.7          14.0\n",
      "174518  1.676592e+09     999.0      99.0  99.0          0.7          14.0\n",
      "174519  1.676594e+09     999.0      99.0  99.0          0.7          13.0\n",
      "174520  1.676595e+09     999.0      99.0  99.0          0.7          13.0\n",
      "174521  1.676597e+09     999.0      99.0  99.0          0.7          17.0\n",
      "\n",
      "[174522 rows x 6 columns]\n",
      "                time  wind_dir  wind_spd  gust  wave_height  dominant_wpd  \\\n",
      "0       1.349049e+09     999.0      99.0  99.0          1.1          17.0   \n",
      "1       1.349051e+09     999.0      99.0  99.0          1.0          17.0   \n",
      "2       1.349053e+09     999.0      99.0  99.0          1.1          17.0   \n",
      "3       1.349055e+09     999.0      99.0  99.0          1.0          17.0   \n",
      "4       1.349057e+09     999.0      99.0  99.0          1.1          18.0   \n",
      "...              ...       ...       ...   ...          ...           ...   \n",
      "174517  1.676590e+09     999.0      99.0  99.0          0.7          14.0   \n",
      "174518  1.676592e+09     999.0      99.0  99.0          0.7          14.0   \n",
      "174519  1.676594e+09     999.0      99.0  99.0          0.7          13.0   \n",
      "174520  1.676595e+09     999.0      99.0  99.0          0.7          13.0   \n",
      "174521  1.676597e+09     999.0      99.0  99.0          0.7          17.0   \n",
      "\n",
      "        average_wpd  \n",
      "0              99.0  \n",
      "1              99.0  \n",
      "2              99.0  \n",
      "3              99.0  \n",
      "4              99.0  \n",
      "...             ...  \n",
      "174517         99.0  \n",
      "174518         99.0  \n",
      "174519         99.0  \n",
      "174520         99.0  \n",
      "174521         99.0  \n",
      "\n",
      "[174522 rows x 7 columns]\n",
      "                time  wind_dir  wind_spd  gust  wave_height  dominant_wpd  \\\n",
      "0       1.349049e+09     999.0      99.0  99.0          1.1          17.0   \n",
      "1       1.349051e+09     999.0      99.0  99.0          1.0          17.0   \n",
      "2       1.349053e+09     999.0      99.0  99.0          1.1          17.0   \n",
      "3       1.349055e+09     999.0      99.0  99.0          1.0          17.0   \n",
      "4       1.349057e+09     999.0      99.0  99.0          1.1          18.0   \n",
      "...              ...       ...       ...   ...          ...           ...   \n",
      "174517  1.676590e+09     999.0      99.0  99.0          0.7          14.0   \n",
      "174518  1.676592e+09     999.0      99.0  99.0          0.7          14.0   \n",
      "174519  1.676594e+09     999.0      99.0  99.0          0.7          13.0   \n",
      "174520  1.676595e+09     999.0      99.0  99.0          0.7          13.0   \n",
      "174521  1.676597e+09     999.0      99.0  99.0          0.7          17.0   \n",
      "\n",
      "        average_wpd  mean_wave_dir  \n",
      "0              99.0          999.0  \n",
      "1              99.0          999.0  \n",
      "2              99.0          999.0  \n",
      "3              99.0          999.0  \n",
      "4              99.0          999.0  \n",
      "...             ...            ...  \n",
      "174517         99.0          999.0  \n",
      "174518         99.0          999.0  \n",
      "174519         99.0          999.0  \n",
      "174520         99.0          999.0  \n",
      "174521         99.0          999.0  \n",
      "\n",
      "[174522 rows x 8 columns]\n",
      "                time  wind_dir  wind_spd  gust  wave_height  dominant_wpd  \\\n",
      "0       1.349049e+09     999.0      99.0  99.0          1.1          17.0   \n",
      "1       1.349051e+09     999.0      99.0  99.0          1.0          17.0   \n",
      "2       1.349053e+09     999.0      99.0  99.0          1.1          17.0   \n",
      "3       1.349055e+09     999.0      99.0  99.0          1.0          17.0   \n",
      "4       1.349057e+09     999.0      99.0  99.0          1.1          18.0   \n",
      "...              ...       ...       ...   ...          ...           ...   \n",
      "174517  1.676590e+09     999.0      99.0  99.0          0.7          14.0   \n",
      "174518  1.676592e+09     999.0      99.0  99.0          0.7          14.0   \n",
      "174519  1.676594e+09     999.0      99.0  99.0          0.7          13.0   \n",
      "174520  1.676595e+09     999.0      99.0  99.0          0.7          13.0   \n",
      "174521  1.676597e+09     999.0      99.0  99.0          0.7          17.0   \n",
      "\n",
      "        average_wpd  mean_wave_dir  air_pressure  \n",
      "0              99.0          999.0        9999.0  \n",
      "1              99.0          999.0        9999.0  \n",
      "2              99.0          999.0        9999.0  \n",
      "3              99.0          999.0        9999.0  \n",
      "4              99.0          999.0        9999.0  \n",
      "...             ...            ...           ...  \n",
      "174517         99.0          999.0        9999.0  \n",
      "174518         99.0          999.0        9999.0  \n",
      "174519         99.0          999.0        9999.0  \n",
      "174520         99.0          999.0        9999.0  \n",
      "174521         99.0          999.0        9999.0  \n",
      "\n",
      "[174522 rows x 9 columns]\n",
      "                time  wind_dir  wind_spd  gust  wave_height  dominant_wpd  \\\n",
      "0       1.349049e+09     999.0      99.0  99.0          1.1          17.0   \n",
      "1       1.349051e+09     999.0      99.0  99.0          1.0          17.0   \n",
      "2       1.349053e+09     999.0      99.0  99.0          1.1          17.0   \n",
      "3       1.349055e+09     999.0      99.0  99.0          1.0          17.0   \n",
      "4       1.349057e+09     999.0      99.0  99.0          1.1          18.0   \n",
      "...              ...       ...       ...   ...          ...           ...   \n",
      "174517  1.676590e+09     999.0      99.0  99.0          0.7          14.0   \n",
      "174518  1.676592e+09     999.0      99.0  99.0          0.7          14.0   \n",
      "174519  1.676594e+09     999.0      99.0  99.0          0.7          13.0   \n",
      "174520  1.676595e+09     999.0      99.0  99.0          0.7          13.0   \n",
      "174521  1.676597e+09     999.0      99.0  99.0          0.7          17.0   \n",
      "\n",
      "        average_wpd  mean_wave_dir  air_pressure  air_temperature  \n",
      "0              99.0          999.0        9999.0            999.0  \n",
      "1              99.0          999.0        9999.0            999.0  \n",
      "2              99.0          999.0        9999.0            999.0  \n",
      "3              99.0          999.0        9999.0            999.0  \n",
      "4              99.0          999.0        9999.0            999.0  \n",
      "...             ...            ...           ...              ...  \n",
      "174517         99.0          999.0        9999.0            999.0  \n",
      "174518         99.0          999.0        9999.0            999.0  \n",
      "174519         99.0          999.0        9999.0            999.0  \n",
      "174520         99.0          999.0        9999.0            999.0  \n",
      "174521         99.0          999.0        9999.0            999.0  \n",
      "\n",
      "[174522 rows x 10 columns]\n",
      "                time  wind_dir  wind_spd  gust  wave_height  dominant_wpd  \\\n",
      "0       1.349049e+09     999.0      99.0  99.0          1.1          17.0   \n",
      "1       1.349051e+09     999.0      99.0  99.0          1.0          17.0   \n",
      "2       1.349053e+09     999.0      99.0  99.0          1.1          17.0   \n",
      "3       1.349055e+09     999.0      99.0  99.0          1.0          17.0   \n",
      "4       1.349057e+09     999.0      99.0  99.0          1.1          18.0   \n",
      "...              ...       ...       ...   ...          ...           ...   \n",
      "174517  1.676590e+09     999.0      99.0  99.0          0.7          14.0   \n",
      "174518  1.676592e+09     999.0      99.0  99.0          0.7          14.0   \n",
      "174519  1.676594e+09     999.0      99.0  99.0          0.7          13.0   \n",
      "174520  1.676595e+09     999.0      99.0  99.0          0.7          13.0   \n",
      "174521  1.676597e+09     999.0      99.0  99.0          0.7          17.0   \n",
      "\n",
      "        average_wpd  mean_wave_dir  air_pressure  air_temperature  \\\n",
      "0              99.0          999.0        9999.0            999.0   \n",
      "1              99.0          999.0        9999.0            999.0   \n",
      "2              99.0          999.0        9999.0            999.0   \n",
      "3              99.0          999.0        9999.0            999.0   \n",
      "4              99.0          999.0        9999.0            999.0   \n",
      "...             ...            ...           ...              ...   \n",
      "174517         99.0          999.0        9999.0            999.0   \n",
      "174518         99.0          999.0        9999.0            999.0   \n",
      "174519         99.0          999.0        9999.0            999.0   \n",
      "174520         99.0          999.0        9999.0            999.0   \n",
      "174521         99.0          999.0        9999.0            999.0   \n",
      "\n",
      "        sea_surface_temperature  \n",
      "0                     21.100000  \n",
      "1                     21.200001  \n",
      "2                     21.500000  \n",
      "3                     21.200001  \n",
      "4                     21.000000  \n",
      "...                         ...  \n",
      "174517                13.700000  \n",
      "174518                13.700000  \n",
      "174519                13.600000  \n",
      "174520                13.600000  \n",
      "174521                13.500000  \n",
      "\n",
      "[174522 rows x 11 columns]\n",
      "                time  wind_dir  wind_spd  gust  wave_height  dominant_wpd  \\\n",
      "0       1.349049e+09     999.0      99.0  99.0          1.1          17.0   \n",
      "1       1.349051e+09     999.0      99.0  99.0          1.0          17.0   \n",
      "2       1.349053e+09     999.0      99.0  99.0          1.1          17.0   \n",
      "3       1.349055e+09     999.0      99.0  99.0          1.0          17.0   \n",
      "4       1.349057e+09     999.0      99.0  99.0          1.1          18.0   \n",
      "...              ...       ...       ...   ...          ...           ...   \n",
      "174517  1.676590e+09     999.0      99.0  99.0          0.7          14.0   \n",
      "174518  1.676592e+09     999.0      99.0  99.0          0.7          14.0   \n",
      "174519  1.676594e+09     999.0      99.0  99.0          0.7          13.0   \n",
      "174520  1.676595e+09     999.0      99.0  99.0          0.7          13.0   \n",
      "174521  1.676597e+09     999.0      99.0  99.0          0.7          17.0   \n",
      "\n",
      "        average_wpd  mean_wave_dir  air_pressure  air_temperature  \\\n",
      "0              99.0          999.0        9999.0            999.0   \n",
      "1              99.0          999.0        9999.0            999.0   \n",
      "2              99.0          999.0        9999.0            999.0   \n",
      "3              99.0          999.0        9999.0            999.0   \n",
      "4              99.0          999.0        9999.0            999.0   \n",
      "...             ...            ...           ...              ...   \n",
      "174517         99.0          999.0        9999.0            999.0   \n",
      "174518         99.0          999.0        9999.0            999.0   \n",
      "174519         99.0          999.0        9999.0            999.0   \n",
      "174520         99.0          999.0        9999.0            999.0   \n",
      "174521         99.0          999.0        9999.0            999.0   \n",
      "\n",
      "        sea_surface_temperature  dewpt_temperature  \n",
      "0                     21.100000              999.0  \n",
      "1                     21.200001              999.0  \n",
      "2                     21.500000              999.0  \n",
      "3                     21.200001              999.0  \n",
      "4                     21.000000              999.0  \n",
      "...                         ...                ...  \n",
      "174517                13.700000              999.0  \n",
      "174518                13.700000              999.0  \n",
      "174519                13.600000              999.0  \n",
      "174520                13.600000              999.0  \n",
      "174521                13.500000              999.0  \n",
      "\n",
      "[174522 rows x 12 columns]\n",
      "                time  wind_dir  wind_spd  gust  wave_height  dominant_wpd  \\\n",
      "0       1.349049e+09     999.0      99.0  99.0          1.1          17.0   \n",
      "1       1.349051e+09     999.0      99.0  99.0          1.0          17.0   \n",
      "2       1.349053e+09     999.0      99.0  99.0          1.1          17.0   \n",
      "3       1.349055e+09     999.0      99.0  99.0          1.0          17.0   \n",
      "4       1.349057e+09     999.0      99.0  99.0          1.1          18.0   \n",
      "...              ...       ...       ...   ...          ...           ...   \n",
      "174517  1.676590e+09     999.0      99.0  99.0          0.7          14.0   \n",
      "174518  1.676592e+09     999.0      99.0  99.0          0.7          14.0   \n",
      "174519  1.676594e+09     999.0      99.0  99.0          0.7          13.0   \n",
      "174520  1.676595e+09     999.0      99.0  99.0          0.7          13.0   \n",
      "174521  1.676597e+09     999.0      99.0  99.0          0.7          17.0   \n",
      "\n",
      "        average_wpd  mean_wave_dir  air_pressure  air_temperature  \\\n",
      "0              99.0          999.0        9999.0            999.0   \n",
      "1              99.0          999.0        9999.0            999.0   \n",
      "2              99.0          999.0        9999.0            999.0   \n",
      "3              99.0          999.0        9999.0            999.0   \n",
      "4              99.0          999.0        9999.0            999.0   \n",
      "...             ...            ...           ...              ...   \n",
      "174517         99.0          999.0        9999.0            999.0   \n",
      "174518         99.0          999.0        9999.0            999.0   \n",
      "174519         99.0          999.0        9999.0            999.0   \n",
      "174520         99.0          999.0        9999.0            999.0   \n",
      "174521         99.0          999.0        9999.0            999.0   \n",
      "\n",
      "        sea_surface_temperature  dewpt_temperature  visibility  \n",
      "0                     21.100000              999.0        99.0  \n",
      "1                     21.200001              999.0        99.0  \n",
      "2                     21.500000              999.0        99.0  \n",
      "3                     21.200001              999.0        99.0  \n",
      "4                     21.000000              999.0        99.0  \n",
      "...                         ...                ...         ...  \n",
      "174517                13.700000              999.0        99.0  \n",
      "174518                13.700000              999.0        99.0  \n",
      "174519                13.600000              999.0        99.0  \n",
      "174520                13.600000              999.0        99.0  \n",
      "174521                13.500000              999.0        99.0  \n",
      "\n",
      "[174522 rows x 13 columns]\n",
      "                time  wind_dir  wind_spd  gust  wave_height  dominant_wpd  \\\n",
      "0       1.349049e+09     999.0      99.0  99.0          1.1          17.0   \n",
      "1       1.349051e+09     999.0      99.0  99.0          1.0          17.0   \n",
      "2       1.349053e+09     999.0      99.0  99.0          1.1          17.0   \n",
      "3       1.349055e+09     999.0      99.0  99.0          1.0          17.0   \n",
      "4       1.349057e+09     999.0      99.0  99.0          1.1          18.0   \n",
      "...              ...       ...       ...   ...          ...           ...   \n",
      "174517  1.676590e+09     999.0      99.0  99.0          0.7          14.0   \n",
      "174518  1.676592e+09     999.0      99.0  99.0          0.7          14.0   \n",
      "174519  1.676594e+09     999.0      99.0  99.0          0.7          13.0   \n",
      "174520  1.676595e+09     999.0      99.0  99.0          0.7          13.0   \n",
      "174521  1.676597e+09     999.0      99.0  99.0          0.7          17.0   \n",
      "\n",
      "        average_wpd  mean_wave_dir  air_pressure  air_temperature  \\\n",
      "0              99.0          999.0        9999.0            999.0   \n",
      "1              99.0          999.0        9999.0            999.0   \n",
      "2              99.0          999.0        9999.0            999.0   \n",
      "3              99.0          999.0        9999.0            999.0   \n",
      "4              99.0          999.0        9999.0            999.0   \n",
      "...             ...            ...           ...              ...   \n",
      "174517         99.0          999.0        9999.0            999.0   \n",
      "174518         99.0          999.0        9999.0            999.0   \n",
      "174519         99.0          999.0        9999.0            999.0   \n",
      "174520         99.0          999.0        9999.0            999.0   \n",
      "174521         99.0          999.0        9999.0            999.0   \n",
      "\n",
      "        sea_surface_temperature  dewpt_temperature  visibility  water_level  \n",
      "0                     21.100000              999.0        99.0         99.0  \n",
      "1                     21.200001              999.0        99.0         99.0  \n",
      "2                     21.500000              999.0        99.0         99.0  \n",
      "3                     21.200001              999.0        99.0         99.0  \n",
      "4                     21.000000              999.0        99.0         99.0  \n",
      "...                         ...                ...         ...          ...  \n",
      "174517                13.700000              999.0        99.0         99.0  \n",
      "174518                13.700000              999.0        99.0         99.0  \n",
      "174519                13.600000              999.0        99.0         99.0  \n",
      "174520                13.600000              999.0        99.0         99.0  \n",
      "174521                13.500000              999.0        99.0         99.0  \n",
      "\n",
      "[174522 rows x 14 columns]\n",
      "['time', 'latitude', 'longitude', 'wind_dir', 'wind_spd', 'gust', 'wave_height', 'dominant_wpd', 'average_wpd', 'mean_wave_dir', 'air_pressure', 'air_temperature', 'sea_surface_temperature', 'dewpt_temperature', 'visibility', 'water_level']\n"
     ]
    }
   ],
   "source": [
    "# Grab Data and create tensors\n",
    "data_grab = DataGrabber.DataGrab(site_number='46221', year='9999', data_type=None) # year=[\"2020\", \"2021\", \"2022\"])\n",
    "wave_data = data_grab.process_buoy_data()\n",
    "print(data_grab.get_vars())\n"
   ],
   "metadata": {
    "collapsed": false
   }
  },
  {
   "cell_type": "code",
   "execution_count": 8,
   "outputs": [
    {
     "data": {
      "text/plain": "                time  wind_dir  wind_spd  gust  wave_height  dominant_wpd  \\\n0       1.349049e+09       NaN       NaN   NaN          1.1          17.0   \n1       1.349051e+09       NaN       NaN   NaN          1.0          17.0   \n2       1.349053e+09       NaN       NaN   NaN          1.1          17.0   \n3       1.349055e+09       NaN       NaN   NaN          1.0          17.0   \n4       1.349057e+09       NaN       NaN   NaN          1.1          18.0   \n...              ...       ...       ...   ...          ...           ...   \n174517  1.676590e+09       NaN       NaN   NaN          0.7          14.0   \n174518  1.676592e+09       NaN       NaN   NaN          0.7          14.0   \n174519  1.676594e+09       NaN       NaN   NaN          0.7          13.0   \n174520  1.676595e+09       NaN       NaN   NaN          0.7          13.0   \n174521  1.676597e+09       NaN       NaN   NaN          0.7          17.0   \n\n        average_wpd  mean_wave_dir  air_pressure  air_temperature  \\\n0               NaN            NaN           NaN              NaN   \n1               NaN            NaN           NaN              NaN   \n2               NaN            NaN           NaN              NaN   \n3               NaN            NaN           NaN              NaN   \n4               NaN            NaN           NaN              NaN   \n...             ...            ...           ...              ...   \n174517          NaN            NaN           NaN              NaN   \n174518          NaN            NaN           NaN              NaN   \n174519          NaN            NaN           NaN              NaN   \n174520          NaN            NaN           NaN              NaN   \n174521          NaN            NaN           NaN              NaN   \n\n        sea_surface_temperature  dewpt_temperature  visibility  water_level  \n0                     21.100000                NaN         NaN          NaN  \n1                     21.200001                NaN         NaN          NaN  \n2                     21.500000                NaN         NaN          NaN  \n3                     21.200001                NaN         NaN          NaN  \n4                     21.000000                NaN         NaN          NaN  \n...                         ...                ...         ...          ...  \n174517                13.700000                NaN         NaN          NaN  \n174518                13.700000                NaN         NaN          NaN  \n174519                13.600000                NaN         NaN          NaN  \n174520                13.600000                NaN         NaN          NaN  \n174521                13.500000                NaN         NaN          NaN  \n\n[174522 rows x 14 columns]",
      "text/html": "<div>\n<style scoped>\n    .dataframe tbody tr th:only-of-type {\n        vertical-align: middle;\n    }\n\n    .dataframe tbody tr th {\n        vertical-align: top;\n    }\n\n    .dataframe thead th {\n        text-align: right;\n    }\n</style>\n<table border=\"1\" class=\"dataframe\">\n  <thead>\n    <tr style=\"text-align: right;\">\n      <th></th>\n      <th>time</th>\n      <th>wind_dir</th>\n      <th>wind_spd</th>\n      <th>gust</th>\n      <th>wave_height</th>\n      <th>dominant_wpd</th>\n      <th>average_wpd</th>\n      <th>mean_wave_dir</th>\n      <th>air_pressure</th>\n      <th>air_temperature</th>\n      <th>sea_surface_temperature</th>\n      <th>dewpt_temperature</th>\n      <th>visibility</th>\n      <th>water_level</th>\n    </tr>\n  </thead>\n  <tbody>\n    <tr>\n      <th>0</th>\n      <td>1.349049e+09</td>\n      <td>NaN</td>\n      <td>NaN</td>\n      <td>NaN</td>\n      <td>1.1</td>\n      <td>17.0</td>\n      <td>NaN</td>\n      <td>NaN</td>\n      <td>NaN</td>\n      <td>NaN</td>\n      <td>21.100000</td>\n      <td>NaN</td>\n      <td>NaN</td>\n      <td>NaN</td>\n    </tr>\n    <tr>\n      <th>1</th>\n      <td>1.349051e+09</td>\n      <td>NaN</td>\n      <td>NaN</td>\n      <td>NaN</td>\n      <td>1.0</td>\n      <td>17.0</td>\n      <td>NaN</td>\n      <td>NaN</td>\n      <td>NaN</td>\n      <td>NaN</td>\n      <td>21.200001</td>\n      <td>NaN</td>\n      <td>NaN</td>\n      <td>NaN</td>\n    </tr>\n    <tr>\n      <th>2</th>\n      <td>1.349053e+09</td>\n      <td>NaN</td>\n      <td>NaN</td>\n      <td>NaN</td>\n      <td>1.1</td>\n      <td>17.0</td>\n      <td>NaN</td>\n      <td>NaN</td>\n      <td>NaN</td>\n      <td>NaN</td>\n      <td>21.500000</td>\n      <td>NaN</td>\n      <td>NaN</td>\n      <td>NaN</td>\n    </tr>\n    <tr>\n      <th>3</th>\n      <td>1.349055e+09</td>\n      <td>NaN</td>\n      <td>NaN</td>\n      <td>NaN</td>\n      <td>1.0</td>\n      <td>17.0</td>\n      <td>NaN</td>\n      <td>NaN</td>\n      <td>NaN</td>\n      <td>NaN</td>\n      <td>21.200001</td>\n      <td>NaN</td>\n      <td>NaN</td>\n      <td>NaN</td>\n    </tr>\n    <tr>\n      <th>4</th>\n      <td>1.349057e+09</td>\n      <td>NaN</td>\n      <td>NaN</td>\n      <td>NaN</td>\n      <td>1.1</td>\n      <td>18.0</td>\n      <td>NaN</td>\n      <td>NaN</td>\n      <td>NaN</td>\n      <td>NaN</td>\n      <td>21.000000</td>\n      <td>NaN</td>\n      <td>NaN</td>\n      <td>NaN</td>\n    </tr>\n    <tr>\n      <th>...</th>\n      <td>...</td>\n      <td>...</td>\n      <td>...</td>\n      <td>...</td>\n      <td>...</td>\n      <td>...</td>\n      <td>...</td>\n      <td>...</td>\n      <td>...</td>\n      <td>...</td>\n      <td>...</td>\n      <td>...</td>\n      <td>...</td>\n      <td>...</td>\n    </tr>\n    <tr>\n      <th>174517</th>\n      <td>1.676590e+09</td>\n      <td>NaN</td>\n      <td>NaN</td>\n      <td>NaN</td>\n      <td>0.7</td>\n      <td>14.0</td>\n      <td>NaN</td>\n      <td>NaN</td>\n      <td>NaN</td>\n      <td>NaN</td>\n      <td>13.700000</td>\n      <td>NaN</td>\n      <td>NaN</td>\n      <td>NaN</td>\n    </tr>\n    <tr>\n      <th>174518</th>\n      <td>1.676592e+09</td>\n      <td>NaN</td>\n      <td>NaN</td>\n      <td>NaN</td>\n      <td>0.7</td>\n      <td>14.0</td>\n      <td>NaN</td>\n      <td>NaN</td>\n      <td>NaN</td>\n      <td>NaN</td>\n      <td>13.700000</td>\n      <td>NaN</td>\n      <td>NaN</td>\n      <td>NaN</td>\n    </tr>\n    <tr>\n      <th>174519</th>\n      <td>1.676594e+09</td>\n      <td>NaN</td>\n      <td>NaN</td>\n      <td>NaN</td>\n      <td>0.7</td>\n      <td>13.0</td>\n      <td>NaN</td>\n      <td>NaN</td>\n      <td>NaN</td>\n      <td>NaN</td>\n      <td>13.600000</td>\n      <td>NaN</td>\n      <td>NaN</td>\n      <td>NaN</td>\n    </tr>\n    <tr>\n      <th>174520</th>\n      <td>1.676595e+09</td>\n      <td>NaN</td>\n      <td>NaN</td>\n      <td>NaN</td>\n      <td>0.7</td>\n      <td>13.0</td>\n      <td>NaN</td>\n      <td>NaN</td>\n      <td>NaN</td>\n      <td>NaN</td>\n      <td>13.600000</td>\n      <td>NaN</td>\n      <td>NaN</td>\n      <td>NaN</td>\n    </tr>\n    <tr>\n      <th>174521</th>\n      <td>1.676597e+09</td>\n      <td>NaN</td>\n      <td>NaN</td>\n      <td>NaN</td>\n      <td>0.7</td>\n      <td>17.0</td>\n      <td>NaN</td>\n      <td>NaN</td>\n      <td>NaN</td>\n      <td>NaN</td>\n      <td>13.500000</td>\n      <td>NaN</td>\n      <td>NaN</td>\n      <td>NaN</td>\n    </tr>\n  </tbody>\n</table>\n<p>174522 rows × 14 columns</p>\n</div>"
     },
     "execution_count": 8,
     "metadata": {},
     "output_type": "execute_result"
    }
   ],
   "source": [
    "wave_data = wave_data.replace(to_replace = 999.0, value = np.nan)\n",
    "wave_data = wave_data.replace(to_replace = 99.0, value = np.nan)\n",
    "wave_data = wave_data.replace(to_replace = 9999.0, value = np.nan)\n",
    "\n",
    "wave_data"
   ],
   "metadata": {
    "collapsed": false,
    "pycharm": {
     "name": "#%%\n"
    }
   }
  },
  {
   "cell_type": "code",
   "execution_count": 9,
   "outputs": [],
   "source": [
    "# for name in wave_data.columns:\n",
    "#     if name != \"time\":\n",
    "#         wave_data.plot(x='time', y=name)"
   ],
   "metadata": {
    "collapsed": false,
    "pycharm": {
     "name": "#%%\n"
    }
   }
  },
  {
   "cell_type": "code",
   "execution_count": 6,
   "outputs": [
    {
     "data": {
      "text/plain": "                time  wind_dir  wind_spd  gust  wave_height  dominant_wpd  \\\n51378   1.444512e+09       NaN       NaN   NaN          1.1          18.0   \n51463   1.444681e+09       NaN       NaN   NaN          1.2          20.0   \n49977   1.441924e+09       NaN       NaN   NaN          1.0          15.0   \n49975   1.441920e+09       NaN       NaN   NaN          1.0          15.0   \n49978   1.441926e+09       NaN       NaN   NaN          0.8          14.0   \n...              ...       ...       ...   ...          ...           ...   \n141654  1.616420e+09       NaN       NaN   NaN          1.2          10.0   \n49401   1.440874e+09       NaN       NaN   NaN          0.9          14.0   \n49402   1.440876e+09       NaN       NaN   NaN          0.9          14.0   \n49403   1.440878e+09       NaN       NaN   NaN          0.9          14.0   \n49404   1.440880e+09       NaN       NaN   NaN          0.9          14.0   \n\n        average_wpd  mean_wave_dir  air_pressure  air_temperature  \\\n51378           NaN            NaN           NaN              NaN   \n51463           NaN            NaN           NaN              NaN   \n49977           NaN            NaN           NaN              NaN   \n49975           NaN            NaN           NaN              NaN   \n49978           NaN            NaN           NaN              NaN   \n...             ...            ...           ...              ...   \n141654          NaN            NaN           NaN              NaN   \n49401           NaN            NaN           NaN              NaN   \n49402           NaN            NaN           NaN              NaN   \n49403           NaN            NaN           NaN              NaN   \n49404           NaN            NaN           NaN              NaN   \n\n        sea_surface_temperature  dewpt_temperature  visibility  water_level  \n51378                 25.200001                NaN         NaN          NaN  \n51463                 25.100000                NaN         NaN          NaN  \n49977                 25.100000                NaN         NaN          NaN  \n49975                 25.000000                NaN         NaN          NaN  \n49978                 25.000000                NaN         NaN          NaN  \n...                         ...                ...         ...          ...  \n141654                12.100000                NaN         NaN          NaN  \n49401                       NaN                NaN         NaN          NaN  \n49402                       NaN                NaN         NaN          NaN  \n49403                       NaN                NaN         NaN          NaN  \n49404                       NaN                NaN         NaN          NaN  \n\n[174522 rows x 14 columns]",
      "text/html": "<div>\n<style scoped>\n    .dataframe tbody tr th:only-of-type {\n        vertical-align: middle;\n    }\n\n    .dataframe tbody tr th {\n        vertical-align: top;\n    }\n\n    .dataframe thead th {\n        text-align: right;\n    }\n</style>\n<table border=\"1\" class=\"dataframe\">\n  <thead>\n    <tr style=\"text-align: right;\">\n      <th></th>\n      <th>time</th>\n      <th>wind_dir</th>\n      <th>wind_spd</th>\n      <th>gust</th>\n      <th>wave_height</th>\n      <th>dominant_wpd</th>\n      <th>average_wpd</th>\n      <th>mean_wave_dir</th>\n      <th>air_pressure</th>\n      <th>air_temperature</th>\n      <th>sea_surface_temperature</th>\n      <th>dewpt_temperature</th>\n      <th>visibility</th>\n      <th>water_level</th>\n    </tr>\n  </thead>\n  <tbody>\n    <tr>\n      <th>51378</th>\n      <td>1.444512e+09</td>\n      <td>NaN</td>\n      <td>NaN</td>\n      <td>NaN</td>\n      <td>1.1</td>\n      <td>18.0</td>\n      <td>NaN</td>\n      <td>NaN</td>\n      <td>NaN</td>\n      <td>NaN</td>\n      <td>25.200001</td>\n      <td>NaN</td>\n      <td>NaN</td>\n      <td>NaN</td>\n    </tr>\n    <tr>\n      <th>51463</th>\n      <td>1.444681e+09</td>\n      <td>NaN</td>\n      <td>NaN</td>\n      <td>NaN</td>\n      <td>1.2</td>\n      <td>20.0</td>\n      <td>NaN</td>\n      <td>NaN</td>\n      <td>NaN</td>\n      <td>NaN</td>\n      <td>25.100000</td>\n      <td>NaN</td>\n      <td>NaN</td>\n      <td>NaN</td>\n    </tr>\n    <tr>\n      <th>49977</th>\n      <td>1.441924e+09</td>\n      <td>NaN</td>\n      <td>NaN</td>\n      <td>NaN</td>\n      <td>1.0</td>\n      <td>15.0</td>\n      <td>NaN</td>\n      <td>NaN</td>\n      <td>NaN</td>\n      <td>NaN</td>\n      <td>25.100000</td>\n      <td>NaN</td>\n      <td>NaN</td>\n      <td>NaN</td>\n    </tr>\n    <tr>\n      <th>49975</th>\n      <td>1.441920e+09</td>\n      <td>NaN</td>\n      <td>NaN</td>\n      <td>NaN</td>\n      <td>1.0</td>\n      <td>15.0</td>\n      <td>NaN</td>\n      <td>NaN</td>\n      <td>NaN</td>\n      <td>NaN</td>\n      <td>25.000000</td>\n      <td>NaN</td>\n      <td>NaN</td>\n      <td>NaN</td>\n    </tr>\n    <tr>\n      <th>49978</th>\n      <td>1.441926e+09</td>\n      <td>NaN</td>\n      <td>NaN</td>\n      <td>NaN</td>\n      <td>0.8</td>\n      <td>14.0</td>\n      <td>NaN</td>\n      <td>NaN</td>\n      <td>NaN</td>\n      <td>NaN</td>\n      <td>25.000000</td>\n      <td>NaN</td>\n      <td>NaN</td>\n      <td>NaN</td>\n    </tr>\n    <tr>\n      <th>...</th>\n      <td>...</td>\n      <td>...</td>\n      <td>...</td>\n      <td>...</td>\n      <td>...</td>\n      <td>...</td>\n      <td>...</td>\n      <td>...</td>\n      <td>...</td>\n      <td>...</td>\n      <td>...</td>\n      <td>...</td>\n      <td>...</td>\n      <td>...</td>\n    </tr>\n    <tr>\n      <th>141654</th>\n      <td>1.616420e+09</td>\n      <td>NaN</td>\n      <td>NaN</td>\n      <td>NaN</td>\n      <td>1.2</td>\n      <td>10.0</td>\n      <td>NaN</td>\n      <td>NaN</td>\n      <td>NaN</td>\n      <td>NaN</td>\n      <td>12.100000</td>\n      <td>NaN</td>\n      <td>NaN</td>\n      <td>NaN</td>\n    </tr>\n    <tr>\n      <th>49401</th>\n      <td>1.440874e+09</td>\n      <td>NaN</td>\n      <td>NaN</td>\n      <td>NaN</td>\n      <td>0.9</td>\n      <td>14.0</td>\n      <td>NaN</td>\n      <td>NaN</td>\n      <td>NaN</td>\n      <td>NaN</td>\n      <td>NaN</td>\n      <td>NaN</td>\n      <td>NaN</td>\n      <td>NaN</td>\n    </tr>\n    <tr>\n      <th>49402</th>\n      <td>1.440876e+09</td>\n      <td>NaN</td>\n      <td>NaN</td>\n      <td>NaN</td>\n      <td>0.9</td>\n      <td>14.0</td>\n      <td>NaN</td>\n      <td>NaN</td>\n      <td>NaN</td>\n      <td>NaN</td>\n      <td>NaN</td>\n      <td>NaN</td>\n      <td>NaN</td>\n      <td>NaN</td>\n    </tr>\n    <tr>\n      <th>49403</th>\n      <td>1.440878e+09</td>\n      <td>NaN</td>\n      <td>NaN</td>\n      <td>NaN</td>\n      <td>0.9</td>\n      <td>14.0</td>\n      <td>NaN</td>\n      <td>NaN</td>\n      <td>NaN</td>\n      <td>NaN</td>\n      <td>NaN</td>\n      <td>NaN</td>\n      <td>NaN</td>\n      <td>NaN</td>\n    </tr>\n    <tr>\n      <th>49404</th>\n      <td>1.440880e+09</td>\n      <td>NaN</td>\n      <td>NaN</td>\n      <td>NaN</td>\n      <td>0.9</td>\n      <td>14.0</td>\n      <td>NaN</td>\n      <td>NaN</td>\n      <td>NaN</td>\n      <td>NaN</td>\n      <td>NaN</td>\n      <td>NaN</td>\n      <td>NaN</td>\n      <td>NaN</td>\n    </tr>\n  </tbody>\n</table>\n<p>174522 rows × 14 columns</p>\n</div>"
     },
     "execution_count": 6,
     "metadata": {},
     "output_type": "execute_result"
    }
   ],
   "source": [
    "wave_data.sort_values('sea_surface_temperature', ascending=False)\n"
   ],
   "metadata": {
    "collapsed": false,
    "pycharm": {
     "name": "#%%\n"
    }
   }
  },
  {
   "cell_type": "code",
   "execution_count": 10,
   "outputs": [],
   "source": [
    "y = torch.tensor(wave_data['sea_surface_temperature'].values.astype(np.float32)).cuda()\n",
    "X = torch.tensor(wave_data['time'].values.astype(np.float32)).cuda()\n",
    "X = X.reshape(-1,1)\n",
    "# wave_data\n",
    "X\n",
    "X_old = X"
   ],
   "metadata": {
    "collapsed": false,
    "pycharm": {
     "name": "#%%\n"
    }
   }
  },
  {
   "cell_type": "code",
   "execution_count": 11,
   "outputs": [],
   "source": [
    "def scaler(a, X_old=X_old, center=True):\n",
    "    if center is True:\n",
    "        a = a - X_old.min(0).values\n",
    "    return a / (X_old.max(0).values - X_old.min(0).values)"
   ],
   "metadata": {
    "collapsed": false
   }
  },
  {
   "cell_type": "code",
   "execution_count": 12,
   "outputs": [],
   "source": [
    "\n",
    "# Standardize Data\n",
    "#X = (X - X.min(0).values) / (X.max(0).values - X.min(0).values)\n",
    "X = scaler(X, X_old)\n",
    "y = y.log()\n",
    "y = y - torch.min(y)\n",
    "y = 2 * (y / torch.max(y)) - 1\n",
    "# Training vs test\n",
    "from math import floor\n",
    "#train_n = int(floor(0.9 * len(X)))\n"
   ],
   "metadata": {
    "collapsed": false,
    "pycharm": {
     "name": "#%%\n"
    }
   }
  },
  {
   "cell_type": "code",
   "execution_count": 12,
   "outputs": [],
   "source": [],
   "metadata": {
    "collapsed": false,
    "pycharm": {
     "name": "#%%\n"
    }
   }
  },
  {
   "cell_type": "code",
   "execution_count": 13,
   "outputs": [],
   "source": [
    "series = wave_data['sea_surface_temperature'].diff().diff(48).dropna().iloc[0:100000]\n",
    "#series = wave_data['sea_surface_temperature']"
   ],
   "metadata": {
    "collapsed": false,
    "pycharm": {
     "name": "#%%\n"
    }
   }
  },
  {
   "cell_type": "code",
   "execution_count": 13,
   "outputs": [],
   "source": [],
   "metadata": {
    "collapsed": false,
    "pycharm": {
     "name": "#%%\n"
    }
   }
  },
  {
   "cell_type": "code",
   "execution_count": 14,
   "outputs": [
    {
     "data": {
      "text/plain": "<AxesSubplot:xlabel='Lag', ylabel='Autocorrelation'>"
     },
     "execution_count": 14,
     "metadata": {},
     "output_type": "execute_result"
    },
    {
     "data": {
      "text/plain": "<Figure size 640x480 with 1 Axes>",
      "image/png": "[encoded data removed]"
     },
     "metadata": {},
     "output_type": "display_data"
    }
   ],
   "source": [
    "pd.plotting.autocorrelation_plot(series)"
   ],
   "metadata": {
    "collapsed": false,
    "pycharm": {
     "name": "#%%\n"
    }
   }
  },
  {
   "cell_type": "code",
   "execution_count": 66,
   "outputs": [
    {
     "name": "stderr",
     "output_type": "stream",
     "text": [
      "C:\\anaconda3\\envs\\MortKernel-gpytorch\\lib\\site-packages\\statsmodels\\graphics\\tsaplots.py:348: FutureWarning: The default method 'yw' can produce PACF values outside of the [-1,1] interval. After 0.13, the default will change tounadjusted Yule-Walker ('ywm'). You can use this method now by setting method='ywm'.\n",
      "  warnings.warn(\n",
      "C:\\anaconda3\\envs\\MortKernel-gpytorch\\lib\\site-packages\\statsmodels\\graphics\\tsaplots.py:348: FutureWarning: The default method 'yw' can produce PACF values outside of the [-1,1] interval. After 0.13, the default will change tounadjusted Yule-Walker ('ywm'). You can use this method now by setting method='ywm'.\n",
      "  warnings.warn(\n"
     ]
    },
    {
     "ename": "KeyboardInterrupt",
     "evalue": "",
     "output_type": "error",
     "traceback": [
      "\u001B[1;31m---------------------------------------------------------------------------\u001B[0m",
      "\u001B[1;31mKeyboardInterrupt\u001B[0m                         Traceback (most recent call last)",
      "Input \u001B[1;32mIn [66]\u001B[0m, in \u001B[0;36m<cell line: 9>\u001B[1;34m()\u001B[0m\n\u001B[0;32m      6\u001B[0m plot_pacf(series)\n\u001B[0;32m      8\u001B[0m plot_acf(series, lags\u001B[38;5;241m=\u001B[39m\u001B[38;5;241m1500\u001B[39m)\n\u001B[1;32m----> 9\u001B[0m \u001B[43mplot_pacf\u001B[49m\u001B[43m(\u001B[49m\u001B[43mseries\u001B[49m\u001B[43m,\u001B[49m\u001B[43m \u001B[49m\u001B[43mlags\u001B[49m\u001B[38;5;241;43m=\u001B[39;49m\u001B[38;5;241;43m1500\u001B[39;49m\u001B[43m)\u001B[49m\n",
      "File \u001B[1;32mC:\\anaconda3\\envs\\MortKernel-gpytorch\\lib\\site-packages\\statsmodels\\graphics\\tsaplots.py:363\u001B[0m, in \u001B[0;36mplot_pacf\u001B[1;34m(x, ax, lags, alpha, method, use_vlines, title, zero, vlines_kwargs, **kwargs)\u001B[0m\n\u001B[0;32m    361\u001B[0m     acf_x \u001B[38;5;241m=\u001B[39m pacf(x, nlags\u001B[38;5;241m=\u001B[39mnlags, alpha\u001B[38;5;241m=\u001B[39malpha, method\u001B[38;5;241m=\u001B[39mmethod)\n\u001B[0;32m    362\u001B[0m \u001B[38;5;28;01melse\u001B[39;00m:\n\u001B[1;32m--> 363\u001B[0m     acf_x, confint \u001B[38;5;241m=\u001B[39m \u001B[43mpacf\u001B[49m\u001B[43m(\u001B[49m\u001B[43mx\u001B[49m\u001B[43m,\u001B[49m\u001B[43m \u001B[49m\u001B[43mnlags\u001B[49m\u001B[38;5;241;43m=\u001B[39;49m\u001B[43mnlags\u001B[49m\u001B[43m,\u001B[49m\u001B[43m \u001B[49m\u001B[43malpha\u001B[49m\u001B[38;5;241;43m=\u001B[39;49m\u001B[43malpha\u001B[49m\u001B[43m,\u001B[49m\u001B[43m \u001B[49m\u001B[43mmethod\u001B[49m\u001B[38;5;241;43m=\u001B[39;49m\u001B[43mmethod\u001B[49m\u001B[43m)\u001B[49m\n\u001B[0;32m    365\u001B[0m _plot_corr(\n\u001B[0;32m    366\u001B[0m     ax,\n\u001B[0;32m    367\u001B[0m     title,\n\u001B[1;32m   (...)\u001B[0m\n\u001B[0;32m    374\u001B[0m     \u001B[38;5;241m*\u001B[39m\u001B[38;5;241m*\u001B[39mkwargs,\n\u001B[0;32m    375\u001B[0m )\n\u001B[0;32m    377\u001B[0m \u001B[38;5;28;01mreturn\u001B[39;00m fig\n",
      "File \u001B[1;32mC:\\anaconda3\\envs\\MortKernel-gpytorch\\lib\\site-packages\\statsmodels\\tsa\\stattools.py:1007\u001B[0m, in \u001B[0;36mpacf\u001B[1;34m(x, nlags, method, alpha)\u001B[0m\n\u001B[0;32m   1005\u001B[0m     ret \u001B[38;5;241m=\u001B[39m pacf_ols(x, nlags\u001B[38;5;241m=\u001B[39mnlags, efficient\u001B[38;5;241m=\u001B[39mefficient, adjusted\u001B[38;5;241m=\u001B[39madjusted)\n\u001B[0;32m   1006\u001B[0m \u001B[38;5;28;01melif\u001B[39;00m method \u001B[38;5;129;01min\u001B[39;00m (\u001B[38;5;124m\"\u001B[39m\u001B[38;5;124myw\u001B[39m\u001B[38;5;124m\"\u001B[39m, \u001B[38;5;124m\"\u001B[39m\u001B[38;5;124mywa\u001B[39m\u001B[38;5;124m\"\u001B[39m, \u001B[38;5;124m\"\u001B[39m\u001B[38;5;124mywadjusted\u001B[39m\u001B[38;5;124m\"\u001B[39m, \u001B[38;5;124m\"\u001B[39m\u001B[38;5;124myw_adjusted\u001B[39m\u001B[38;5;124m\"\u001B[39m):\n\u001B[1;32m-> 1007\u001B[0m     ret \u001B[38;5;241m=\u001B[39m \u001B[43mpacf_yw\u001B[49m\u001B[43m(\u001B[49m\u001B[43mx\u001B[49m\u001B[43m,\u001B[49m\u001B[43m \u001B[49m\u001B[43mnlags\u001B[49m\u001B[38;5;241;43m=\u001B[39;49m\u001B[43mnlags\u001B[49m\u001B[43m,\u001B[49m\u001B[43m \u001B[49m\u001B[43mmethod\u001B[49m\u001B[38;5;241;43m=\u001B[39;49m\u001B[38;5;124;43m\"\u001B[39;49m\u001B[38;5;124;43madjusted\u001B[39;49m\u001B[38;5;124;43m\"\u001B[39;49m\u001B[43m)\u001B[49m\n\u001B[0;32m   1008\u001B[0m \u001B[38;5;28;01melif\u001B[39;00m method \u001B[38;5;129;01min\u001B[39;00m (\u001B[38;5;124m\"\u001B[39m\u001B[38;5;124mywm\u001B[39m\u001B[38;5;124m\"\u001B[39m, \u001B[38;5;124m\"\u001B[39m\u001B[38;5;124mywmle\u001B[39m\u001B[38;5;124m\"\u001B[39m, \u001B[38;5;124m\"\u001B[39m\u001B[38;5;124myw_mle\u001B[39m\u001B[38;5;124m\"\u001B[39m):\n\u001B[0;32m   1009\u001B[0m     ret \u001B[38;5;241m=\u001B[39m pacf_yw(x, nlags\u001B[38;5;241m=\u001B[39mnlags, method\u001B[38;5;241m=\u001B[39m\u001B[38;5;124m\"\u001B[39m\u001B[38;5;124mmle\u001B[39m\u001B[38;5;124m\"\u001B[39m)\n",
      "File \u001B[1;32mC:\\anaconda3\\envs\\MortKernel-gpytorch\\lib\\site-packages\\statsmodels\\tsa\\stattools.py:746\u001B[0m, in \u001B[0;36mpacf_yw\u001B[1;34m(x, nlags, method)\u001B[0m\n\u001B[0;32m    744\u001B[0m pacf \u001B[38;5;241m=\u001B[39m [\u001B[38;5;241m1.0\u001B[39m]\n\u001B[0;32m    745\u001B[0m \u001B[38;5;28;01mfor\u001B[39;00m k \u001B[38;5;129;01min\u001B[39;00m \u001B[38;5;28mrange\u001B[39m(\u001B[38;5;241m1\u001B[39m, nlags \u001B[38;5;241m+\u001B[39m \u001B[38;5;241m1\u001B[39m):\n\u001B[1;32m--> 746\u001B[0m     pacf\u001B[38;5;241m.\u001B[39mappend(\u001B[43myule_walker\u001B[49m\u001B[43m(\u001B[49m\u001B[43mx\u001B[49m\u001B[43m,\u001B[49m\u001B[43m \u001B[49m\u001B[43mk\u001B[49m\u001B[43m,\u001B[49m\u001B[43m \u001B[49m\u001B[43mmethod\u001B[49m\u001B[38;5;241;43m=\u001B[39;49m\u001B[43mmethod\u001B[49m\u001B[43m)\u001B[49m[\u001B[38;5;241m0\u001B[39m][\u001B[38;5;241m-\u001B[39m\u001B[38;5;241m1\u001B[39m])\n\u001B[0;32m    747\u001B[0m \u001B[38;5;28;01mreturn\u001B[39;00m np\u001B[38;5;241m.\u001B[39marray(pacf)\n",
      "File \u001B[1;32mC:\\anaconda3\\envs\\MortKernel-gpytorch\\lib\\site-packages\\statsmodels\\regression\\linear_model.py:1464\u001B[0m, in \u001B[0;36myule_walker\u001B[1;34m(x, order, method, df, inv, demean)\u001B[0m\n\u001B[0;32m   1462\u001B[0m r[\u001B[38;5;241m0\u001B[39m] \u001B[38;5;241m=\u001B[39m (x \u001B[38;5;241m*\u001B[39m\u001B[38;5;241m*\u001B[39m \u001B[38;5;241m2\u001B[39m)\u001B[38;5;241m.\u001B[39msum() \u001B[38;5;241m/\u001B[39m n\n\u001B[0;32m   1463\u001B[0m \u001B[38;5;28;01mfor\u001B[39;00m k \u001B[38;5;129;01min\u001B[39;00m \u001B[38;5;28mrange\u001B[39m(\u001B[38;5;241m1\u001B[39m, order\u001B[38;5;241m+\u001B[39m\u001B[38;5;241m1\u001B[39m):\n\u001B[1;32m-> 1464\u001B[0m     r[k] \u001B[38;5;241m=\u001B[39m \u001B[43m(\u001B[49m\u001B[43mx\u001B[49m\u001B[43m[\u001B[49m\u001B[38;5;241;43m0\u001B[39;49m\u001B[43m:\u001B[49m\u001B[38;5;241;43m-\u001B[39;49m\u001B[43mk\u001B[49m\u001B[43m]\u001B[49m\u001B[43m \u001B[49m\u001B[38;5;241;43m*\u001B[39;49m\u001B[43m \u001B[49m\u001B[43mx\u001B[49m\u001B[43m[\u001B[49m\u001B[43mk\u001B[49m\u001B[43m:\u001B[49m\u001B[43m]\u001B[49m\u001B[43m)\u001B[49m\u001B[38;5;241;43m.\u001B[39;49m\u001B[43msum\u001B[49m\u001B[43m(\u001B[49m\u001B[43m)\u001B[49m \u001B[38;5;241m/\u001B[39m (n \u001B[38;5;241m-\u001B[39m k \u001B[38;5;241m*\u001B[39m adj_needed)\n\u001B[0;32m   1465\u001B[0m R \u001B[38;5;241m=\u001B[39m toeplitz(r[:\u001B[38;5;241m-\u001B[39m\u001B[38;5;241m1\u001B[39m])\n\u001B[0;32m   1467\u001B[0m rho \u001B[38;5;241m=\u001B[39m np\u001B[38;5;241m.\u001B[39mlinalg\u001B[38;5;241m.\u001B[39msolve(R, r[\u001B[38;5;241m1\u001B[39m:])\n",
      "File \u001B[1;32mC:\\anaconda3\\envs\\MortKernel-gpytorch\\lib\\site-packages\\numpy\\core\\_methods.py:46\u001B[0m, in \u001B[0;36m_sum\u001B[1;34m(a, axis, dtype, out, keepdims, initial, where)\u001B[0m\n\u001B[0;32m     42\u001B[0m \u001B[38;5;28;01mdef\u001B[39;00m \u001B[38;5;21m_amin\u001B[39m(a, axis\u001B[38;5;241m=\u001B[39m\u001B[38;5;28;01mNone\u001B[39;00m, out\u001B[38;5;241m=\u001B[39m\u001B[38;5;28;01mNone\u001B[39;00m, keepdims\u001B[38;5;241m=\u001B[39m\u001B[38;5;28;01mFalse\u001B[39;00m,\n\u001B[0;32m     43\u001B[0m           initial\u001B[38;5;241m=\u001B[39m_NoValue, where\u001B[38;5;241m=\u001B[39m\u001B[38;5;28;01mTrue\u001B[39;00m):\n\u001B[0;32m     44\u001B[0m     \u001B[38;5;28;01mreturn\u001B[39;00m umr_minimum(a, axis, \u001B[38;5;28;01mNone\u001B[39;00m, out, keepdims, initial, where)\n\u001B[1;32m---> 46\u001B[0m \u001B[38;5;28;01mdef\u001B[39;00m \u001B[38;5;21m_sum\u001B[39m(a, axis\u001B[38;5;241m=\u001B[39m\u001B[38;5;28;01mNone\u001B[39;00m, dtype\u001B[38;5;241m=\u001B[39m\u001B[38;5;28;01mNone\u001B[39;00m, out\u001B[38;5;241m=\u001B[39m\u001B[38;5;28;01mNone\u001B[39;00m, keepdims\u001B[38;5;241m=\u001B[39m\u001B[38;5;28;01mFalse\u001B[39;00m,\n\u001B[0;32m     47\u001B[0m          initial\u001B[38;5;241m=\u001B[39m_NoValue, where\u001B[38;5;241m=\u001B[39m\u001B[38;5;28;01mTrue\u001B[39;00m):\n\u001B[0;32m     48\u001B[0m     \u001B[38;5;28;01mreturn\u001B[39;00m umr_sum(a, axis, dtype, out, keepdims, initial, where)\n\u001B[0;32m     50\u001B[0m \u001B[38;5;28;01mdef\u001B[39;00m \u001B[38;5;21m_prod\u001B[39m(a, axis\u001B[38;5;241m=\u001B[39m\u001B[38;5;28;01mNone\u001B[39;00m, dtype\u001B[38;5;241m=\u001B[39m\u001B[38;5;28;01mNone\u001B[39;00m, out\u001B[38;5;241m=\u001B[39m\u001B[38;5;28;01mNone\u001B[39;00m, keepdims\u001B[38;5;241m=\u001B[39m\u001B[38;5;28;01mFalse\u001B[39;00m,\n\u001B[0;32m     51\u001B[0m           initial\u001B[38;5;241m=\u001B[39m_NoValue, where\u001B[38;5;241m=\u001B[39m\u001B[38;5;28;01mTrue\u001B[39;00m):\n",
      "\u001B[1;31mKeyboardInterrupt\u001B[0m: "
     ]
    },
    {
     "data": {
      "text/plain": "<Figure size 640x480 with 1 Axes>",
      "image/png": "[encoded data removed]"
     },
     "metadata": {},
     "output_type": "display_data"
    },
    {
     "data": {
      "text/plain": "<Figure size 640x480 with 1 Axes>",
      "image/png": "[encoded data removed]"
     },
     "metadata": {},
     "output_type": "display_data"
    },
    {
     "data": {
      "text/plain": "<Figure size 640x480 with 1 Axes>",
      "image/png": "[encoded data removed]"
     },
     "metadata": {},
     "output_type": "display_data"
    },
    {
     "data": {
      "text/plain": "<Figure size 640x480 with 1 Axes>",
      "image/png": "[encoded data removed]"
     },
     "metadata": {},
     "output_type": "display_data"
    }
   ],
   "source": [
    "from statsmodels.graphics.tsaplots import plot_acf, plot_pacf\n",
    "\n",
    "\n",
    "\n",
    "plot_acf(series)\n",
    "plot_pacf(series)\n",
    "\n",
    "#plot_acf(series, lags=1500)\n",
    "#plot_pacf(series, lags=1500)"
   ],
   "metadata": {
    "collapsed": false,
    "pycharm": {
     "name": "#%%\n"
    }
   }
  },
  {
   "cell_type": "code",
   "execution_count": 70,
   "outputs": [],
   "source": [
    "test_n = 800\n",
    "train_x = X[test_n:].contiguous().cuda()\n",
    "train_y = y[test_n:].contiguous().cuda()\n",
    "test_x = X[-test_n:].contiguous().cuda()\n",
    "test_y = y[-test_n:].contiguous().cuda()"
   ],
   "metadata": {
    "collapsed": false
   }
  },
  {
   "cell_type": "code",
   "execution_count": 70,
   "outputs": [],
   "source": [],
   "metadata": {
    "collapsed": false
   }
  },
  {
   "cell_type": "code",
   "execution_count": 71,
   "outputs": [
    {
     "name": "stdout",
     "output_type": "stream",
     "text": [
      "tensor(0.)\n",
      "tensor(1.)\n",
      "tensor(0.5014)\n"
     ]
    }
   ],
   "source": [
    "print(X.min())\n",
    "print(X.max())\n",
    "print(X.mean())"
   ],
   "metadata": {
    "collapsed": false
   }
  },
  {
   "cell_type": "code",
   "execution_count": 72,
   "outputs": [
    {
     "name": "stdout",
     "output_type": "stream",
     "text": [
      "tensor(0.0044)\n",
      "tensor(1.)\n",
      "tensor(0.5037)\n",
      "tensor(0.9956)\n",
      "tensor(1.)\n",
      "tensor(0.9978)\n"
     ]
    }
   ],
   "source": [
    "print(train_x.min())\n",
    "print(train_x.max())\n",
    "print(train_x.mean())\n",
    "\n",
    "print(test_x.min())\n",
    "print(test_x.max())\n",
    "print(test_x.mean())"
   ],
   "metadata": {
    "collapsed": false
   }
  },
  {
   "cell_type": "code",
   "execution_count": 73,
   "outputs": [],
   "source": [
    "# Generate the train_loader and train_dataset\n",
    "train_loader, train_dataset, test_loader, test_dataset = utils.create_train_loader_and_dataset(\n",
    "    train_x, train_y, test_x, test_y)\n",
    "data_compact = [train_x, train_y, test_x, test_y, train_loader, train_dataset, test_loader, test_dataset]"
   ],
   "metadata": {
    "collapsed": false
   }
  },
  {
   "cell_type": "code",
   "execution_count": 74,
   "outputs": [],
   "source": [
    "class StandardApproximateGP(gpytorch.models.ApproximateGP):\n",
    "    def __init__(self, inducing_points, kernel):\n",
    "        variational_distribution = gpytorch.variational.CholeskyVariationalDistribution(inducing_points.size(-2))\n",
    "        variational_strategy = gpytorch.variational.VariationalStrategy(\n",
    "            self, inducing_points, variational_distribution, learn_inducing_locations=True\n",
    "        )\n",
    "        super().__init__(variational_strategy)\n",
    "        self.mean_module = gpytorch.means.ConstantMean()\n",
    "        self.covar_module = kernel\n",
    "\n",
    "    def forward(self, x):\n",
    "        mean_x = self.mean_module(x)\n",
    "        covar_x = self.covar_module(x)\n",
    "        return gpytorch.distributions.MultivariateNormal(mean_x, covar_x)\n",
    "\n",
    "\n",
    "class MeanFieldApproximateGP(gpytorch.models.ApproximateGP):\n",
    "    def __init__(self, inducing_points, kernel):\n",
    "        variational_distribution = gpytorch.variational.MeanFieldVariationalDistribution(inducing_points.size(-2))\n",
    "        variational_strategy = gpytorch.variational.VariationalStrategy(\n",
    "            self, inducing_points, variational_distribution, learn_inducing_locations=True\n",
    "        )\n",
    "        super().__init__(variational_strategy)\n",
    "        self.mean_module = gpytorch.means.ConstantMean()\n",
    "        self.covar_module = kernel\n",
    "\n",
    "    def forward(self, x):\n",
    "        mean_x = self.mean_module(x)\n",
    "        covar_x = self.covar_module(x)\n",
    "        return gpytorch.distributions.MultivariateNormal(mean_x, covar_x)\n",
    "\n",
    "\n",
    "class MAPApproximateGP(gpytorch.models.ApproximateGP):\n",
    "    def __init__(self, inducing_points, kernel):\n",
    "        variational_distribution = gpytorch.variational.DeltaVariationalDistribution(inducing_points.size(-2))\n",
    "        variational_strategy = gpytorch.variational.VariationalStrategy(\n",
    "            self, inducing_points, variational_distribution, learn_inducing_locations=True\n",
    "        )\n",
    "        super().__init__(variational_strategy)\n",
    "        self.mean_module = gpytorch.means.ConstantMean()\n",
    "        self.covar_module = kernel\n",
    "\n",
    "    def forward(self, x):\n",
    "        mean_x = self.mean_module(x)\n",
    "        covar_x = self.covar_module(x)\n",
    "        return gpytorch.distributions.MultivariateNormal(mean_x, covar_x)\n",
    "\n",
    "\n",
    "def make_orthogonal_vs(model, train_x):\n",
    "    mean_inducing_points = torch.randn(1000, train_x.size(-1), dtype=train_x.dtype, device=train_x.device)\n",
    "    covar_inducing_points = torch.randn(100, train_x.size(-1), dtype=train_x.dtype, device=train_x.device)\n",
    "\n",
    "    covar_variational_strategy = gpytorch.variational.VariationalStrategy(\n",
    "        model, covar_inducing_points,\n",
    "        gpytorch.variational.CholeskyVariationalDistribution(covar_inducing_points.size(-2)),\n",
    "        learn_inducing_locations=True\n",
    "    )\n",
    "\n",
    "    variational_strategy = gpytorch.variational.OrthogonallyDecoupledVariationalStrategy(\n",
    "        covar_variational_strategy, mean_inducing_points,\n",
    "        gpytorch.variational.DeltaVariationalDistribution(mean_inducing_points.size(-2)),\n",
    "    )\n",
    "    return variational_strategy\n",
    "\n",
    "class OrthDecoupledApproximateGP(gpytorch.models.ApproximateGP):\n",
    "    def __init__(self, inducing_points, kernel):\n",
    "        variational_distribution = gpytorch.variational.DeltaVariationalDistribution(inducing_points.size(-2))\n",
    "        variational_strategy = make_orthogonal_vs(self, train_x)\n",
    "        super().__init__(variational_strategy)\n",
    "        self.mean_module = gpytorch.means.ConstantMean()\n",
    "        self.covar_module = kernel\n",
    "\n",
    "    def forward(self, x):\n",
    "        mean_x = self.mean_module(x)\n",
    "        covar_x = self.covar_module(x)\n",
    "        return gpytorch.distributions.MultivariateNormal(mean_x, covar_x)\n",
    "\n",
    "class SpectralDeltaGP(gpytorch.models.ExactGP):\n",
    "    # def __init__(self, train_x, train_y, kernel, num_deltas, noise_init=None):\n",
    "    #     likelihood = gpytorch.likelihoods.GaussianLikelihood(noise_constraint=gpytorch.constraints.GreaterThan(1e-11))\n",
    "    #     likelihood.register_prior(\"noise_prior\", gpytorch.priors.HorseshoePrior(0.1), \"noise\")\n",
    "    #     likelihood.noise = 1e-2\n",
    "    def __init__(self, inducing_points, kernel):\n",
    "        variational_distribution = gpytorch.variational.DeltaVariationalDistribution(inducing_points)\n",
    "        #variational_distribution = gpytorch.variational.CholeskyVariationalDistribution(inducing_points.size(-2))\n",
    "        variational_strategy = gpytorch.variational.VariationalStrategy(\n",
    "            self, inducing_points, variational_distribution, learn_inducing_locations=True\n",
    "        )\n",
    "        #super(SpectralDeltaGP, self).__init__(train_x, train_y, likelihood)\n",
    "        super().__init__(variational_strategy)\n",
    "        self.mean_module = gpytorch.means.ConstantMean()\n",
    "        #base_covar_module = kernel #gpytorch.kernels.SpectralDeltaKernel(num_dims=train_x.size(-1), num_deltas=num_deltas)\n",
    "        #base_covar_module.initialize_from_data(train_x[0], train_y[0])\n",
    "        self.covar_module = kernel#gpytorch.kernels.ScaleKernel(base_covar_module)\n",
    "\n",
    "    def forward(self, x):\n",
    "        mean_x = self.mean_module(x)\n",
    "        covar_x = self.covar_module(x)\n",
    "        return gpytorch.distributions.MultivariateNormal(mean_x, covar_x)\n",
    "\n",
    "\n",
    "\n",
    "#likelihood = gpytorch.likelihoods.GaussianLikelihood()\n",
    "#model = SpectralMixtureGPModel(train_x, train_y, likelihood)"
   ],
   "metadata": {
    "collapsed": false
   }
  },
  {
   "cell_type": "code",
   "execution_count": 75,
   "outputs": [],
   "source": [
    "from gpytorch.kernels import SpectralMixtureKernel\n",
    "\n",
    "num_deltas = 300\n",
    "kernel_old = (\n",
    "        #ScaleKernel(AR2Kernel()) +\n",
    "        #ScaleKernel(MinKernel()*RBFKernel()) +\n",
    "        #ScaleKernel(MinKernel())+\n",
    "        #ScaleKernel(RBFKernel()) +\n",
    "        #ScaleKernel(RBFKernel()*LinearKernel())+\n",
    "        ScaleKernel(MaternKernel(nu=0.5)) +\n",
    "        ScaleKernel(MaternKernel(nu=1.5)*PeriodicKernel(period_length_constraint=Interval(\n",
    "            lower_bound=1e-4,\n",
    "            upper_bound=0.1,\n",
    "            initial_value=0.01\n",
    "        ))) +\n",
    "        ScaleKernel(MaternKernel(nu=1.5)*PeriodicKernel(period_length_constraint=Interval(\n",
    "            lower_bound=0.05,\n",
    "            upper_bound=0.3,\n",
    "            initial_value=0.15\n",
    "        ))) +\n",
    "        ScaleKernel(MaternKernel(nu=1.5)*PeriodicKernel(period_length_constraint=Interval(\n",
    "            lower_bound=0.25,\n",
    "            upper_bound=1,\n",
    "            initial_value=0.5\n",
    "        ))) +\n",
    "        ScaleKernel(gpytorch.kernels.SpectralDeltaKernel(\n",
    "            num_dims=train_x.size(-1),\n",
    "            num_deltas=num_deltas,\n",
    "        )) +\n",
    "        ScaleKernel(gpytorch.kernels.SpectralMixtureKernel(num_mixtures=4))\n",
    "        #ScaleKernel(RBFKernel()*PeriodicKernel())\n",
    "        )"
   ],
   "metadata": {
    "collapsed": false
   }
  },
  {
   "cell_type": "code",
   "execution_count": 76,
   "outputs": [],
   "source": [
    "k4_spectral_base = SpectralMixtureKernel(num_mixtures=4)\n",
    "k4_spectral_base.initialize_from_data_empspect(train_x, train_y)"
   ],
   "metadata": {
    "collapsed": false
   }
  },
  {
   "cell_type": "code",
   "execution_count": 77,
   "outputs": [],
   "source": [
    "import copy\n",
    "\n",
    "k1 = copy.deepcopy(k4_spectral_base)\n",
    "\n",
    "k2 = copy.deepcopy(k4_spectral_base) *PeriodicKernel(\n",
    "    period_length_constraint=Interval(\n",
    "    lower_bound=1/4000,\n",
    "    upper_bound=5/(2*365),\n",
    "    initial_value=1/(365*2))\n",
    ")\n",
    "\n",
    "k3 = ScaleKernel(MaternKernel(nu=1.5)*PeriodicKernel(\n",
    "    period_length_constraint=Interval(\n",
    "    lower_bound=1/4000,\n",
    "    upper_bound=10/(2*365),\n",
    "    initial_value=1/(2*365))\n",
    "))\n",
    "\n",
    "k4 = ScaleKernel(MaternKernel(nu=0.5))"
   ],
   "metadata": {
    "collapsed": false
   }
  },
  {
   "cell_type": "code",
   "execution_count": 97,
   "outputs": [
    {
     "data": {
      "text/plain": "tensor([4.4044e-06])"
     },
     "execution_count": 97,
     "metadata": {},
     "output_type": "execute_result"
    }
   ],
   "source": [
    "scaler(60*24, center=False)  # minutes"
   ],
   "metadata": {
    "collapsed": false,
    "pycharm": {
     "name": "#%%\n"
    }
   }
  },
  {
   "cell_type": "code",
   "execution_count": 98,
   "outputs": [
    {
     "data": {
      "text/plain": "tensor([0.0001])"
     },
     "execution_count": 98,
     "metadata": {},
     "output_type": "execute_result"
    }
   ],
   "source": [
    "scaler(60*24*30, center=False)  # minutes"
   ],
   "metadata": {
    "collapsed": false,
    "pycharm": {
     "name": "#%%\n"
    }
   }
  },
  {
   "cell_type": "code",
   "execution_count": null,
   "outputs": [],
   "source": [],
   "metadata": {
    "collapsed": false,
    "pycharm": {
     "name": "#%%\n"
    }
   }
  },
  {
   "cell_type": "code",
   "execution_count": 99,
   "outputs": [],
   "source": [
    "Mat32 = MaternKernel(nu=1.5)\n",
    "\n",
    "# Per_Day = PeriodicKernel(\n",
    "#     period_length_constraint=Interval(\n",
    "#     lower_bound=scaler(60*24, center=False) / 100,\n",
    "#     upper_bound=scaler(60*24, center=False) * 100,\n",
    "#     initial_value=scaler(60*24, center=False))\n",
    "# )\n",
    "\n",
    "Per_Month = PeriodicKernel(\n",
    "    period_length_constraint=Interval(\n",
    "    lower_bound=scaler(60*24*30, center=False) / 100,\n",
    "    upper_bound=scaler(60*24*30, center=False) * 100,\n",
    "    initial_value=scaler(60*24*30, center=False))\n",
    ")\n",
    "\n",
    "# kernel = (\n",
    "# \tk1 + k3 + k4\n",
    "#     # not: ScaleKernel(k1+k2) since they all have spectral component\n",
    "# )\n",
    "\n",
    "kernel = (\n",
    "\tScaleKernel(Mat32) +\n",
    "    # ScaleKernel(Per_Day) +\n",
    "    ScaleKernel(Per_Month)\n",
    "    # not: ScaleKernel(k1+k2) since they all have spectral component\n",
    ")\n",
    "\n",
    "\n",
    "likelihood = gpytorch.likelihoods.GaussianLikelihood(noise_constraint = Interval(noise_lower, noise_upper,initial_value=noise_init))\n",
    "\n"
   ],
   "metadata": {
    "collapsed": false,
    "pycharm": {
     "name": "#%%\n"
    }
   }
  },
  {
   "cell_type": "code",
   "execution_count": 106,
   "outputs": [
    {
     "data": {
      "text/plain": "Training StandardApproximateGP:   0%|          | 0/20 [00:00<?, ?it/s]",
      "application/vnd.jupyter.widget-view+json": {
       "version_major": 2,
       "version_minor": 0,
       "model_id": "b470afb54bd94389a707c57011c553b9"
      }
     },
     "metadata": {},
     "output_type": "display_data"
    },
    {
     "name": "stderr",
     "output_type": "stream",
     "text": [
      "C:\\anaconda3\\envs\\MortKernel-gpytorch\\lib\\site-packages\\gpytorch\\utils\\cholesky.py:40: NumericalWarning: A not p.d., added jitter of 1.0e-05 to the diagonal\n",
      "  warnings.warn(\n",
      "C:\\anaconda3\\envs\\MortKernel-gpytorch\\lib\\site-packages\\gpytorch\\utils\\cholesky.py:40: NumericalWarning: A not p.d., added jitter of 1.0e-04 to the diagonal\n",
      "  warnings.warn(\n",
      "C:\\anaconda3\\envs\\MortKernel-gpytorch\\lib\\site-packages\\gpytorch\\utils\\cholesky.py:40: NumericalWarning: A not p.d., added jitter of 1.0e-03 to the diagonal\n",
      "  warnings.warn(\n",
      "C:\\anaconda3\\envs\\MortKernel-gpytorch\\lib\\site-packages\\gpytorch\\utils\\cholesky.py:40: NumericalWarning: A not p.d., added jitter of 1.0e-02 to the diagonal\n",
      "  warnings.warn(\n",
      "C:\\anaconda3\\envs\\MortKernel-gpytorch\\lib\\site-packages\\gpytorch\\utils\\cholesky.py:40: NumericalWarning: A not p.d., added jitter of 1.0e-01 to the diagonal\n",
      "  warnings.warn(\n",
      "C:\\anaconda3\\envs\\MortKernel-gpytorch\\lib\\site-packages\\gpytorch\\utils\\cholesky.py:40: NumericalWarning: A not p.d., added jitter of 1.0e+00 to the diagonal\n",
      "  warnings.warn(\n",
      "C:\\anaconda3\\envs\\MortKernel-gpytorch\\lib\\site-packages\\gpytorch\\utils\\cholesky.py:40: NumericalWarning: A not p.d., added jitter of 1.0e+01 to the diagonal\n",
      "  warnings.warn(\n",
      "C:\\anaconda3\\envs\\MortKernel-gpytorch\\lib\\site-packages\\gpytorch\\lazy\\triangular_lazy_tensor.py:136: UserWarning: torch.triangular_solve is deprecated in favor of torch.linalg.solve_triangularand will be removed in a future PyTorch release.\n",
      "torch.linalg.solve_triangular has its arguments reversed and does not return a copy of one of the inputs.\n",
      "X = torch.triangular_solve(B, A).solution\n",
      "should be replaced with\n",
      "X = torch.linalg.solve_triangular(A, B). (Triggered internally at  C:\\cb\\pytorch_1000000000000\\work\\aten\\src\\ATen\\native\\BatchLinearAlgebra.cpp:2189.)\n",
      "  res = torch.triangular_solve(right_tensor, self.evaluate(), upper=self.upper).solution\n",
      "C:\\anaconda3\\envs\\MortKernel-gpytorch\\lib\\site-packages\\gpytorch\\distributions\\multivariate_normal.py:259: NumericalWarning: Negative variance values detected. This is likely due to numerical instabilities. Rounding negative variances up to 1e-06.\n",
      "  warnings.warn(\n"
     ]
    },
    {
     "name": "stdout",
     "output_type": "stream",
     "text": [
      "Test StandardApproximateGP MAE: 0.08878303319215775\n",
      "--- 512.2307677268982 seconds ---\n",
      "tensor([[2.9028]], grad_fn=<SoftplusBackward0>)\n",
      "Test OrthDecoupledApproximateGP MAE: 0.09132345020771027\n",
      "--- 270.6329345703125 seconds ---\n",
      "tensor([[7.0056]], grad_fn=<SoftplusBackward0>)\n"
     ]
    },
    {
     "data": {
      "text/plain": "Training OrthDecoupledApproximateGP:   0%|          | 0/20 [00:00<?, ?it/s]",
      "application/vnd.jupyter.widget-view+json": {
       "version_major": 2,
       "version_minor": 0,
       "model_id": "0849acbf80734fa6bbdbfa9f9401bd13"
      }
     },
     "metadata": {},
     "output_type": "display_data"
    }
   ],
   "source": [
    "gpytorch.settings.cholesky_max_tries._set_value(100)\n",
    "num_ind_pts = 800 # Number of inducing points (128 is default for train_and_test_approximate_gp function)\n",
    "num_epochs = 20\n",
    "\n",
    "#m1, l1 = utils.train_and_test_approximate_gp(\n",
    "#    StandardApproximateGP, kernel, *data_compact, num_epochs=100, num_ind_pts=num_ind_pts)\n",
    "# m2, l2 = utils.train_and_test_approximate_gp(\n",
    "#     MeanFieldApproximateGP, kernel, *data_compact, num_epochs=100, num_ind_pts=num_ind_pts)\n",
    "# m3, l3 = utils.train_and_test_approximate_gp(\n",
    "#     MAPApproximateGP, kernel, *data_compact, num_epochs=100, num_ind_pts=num_ind_pts)\n",
    "# m4, l4 = utils.train_and_test_approximate_gp(\n",
    "#     OrthDecoupledApproximateGP, kernel, *data_compact, num_epochs=100, num_ind_pts=num_ind_pts)\n",
    "# m5, l5 = utils.train_and_test_approximate_gp(\n",
    "#     SpectralDeltaGP, kernel, *data_compact, num_epochs=100, num_ind_pts=num_deltas)\n",
    "# m6, l6 = utils.train_and_test_approximate_gp(\n",
    "#     SpectralMixtureGPModel, kernel, *data_compact, num_epochs=100, num_ind_pts=num_deltas)\n",
    "#l1 = gpytorch.likelihoods.GaussianLikelihood()\n",
    "#m1 = SpectralMixtureGPModel(train_x, train_y, likelihood)\n",
    "m1, l1 = utils.train_and_test_approximate_gp(\n",
    "    StandardApproximateGP, kernel, *data_compact, num_epochs=num_epochs, num_ind_pts=num_ind_pts)\n",
    "#print(kernel.kernels[2].base_kernel.lengthscale)\n",
    "m2, l2 = utils.train_and_test_approximate_gp(\n",
    "    OrthDecoupledApproximateGP, kernel, *data_compact, num_epochs=num_epochs, num_ind_pts=num_ind_pts)\n",
    "#print(kernel.kernels[2].base_kernel.lengthscale)\n"
   ],
   "metadata": {
    "collapsed": false
   }
  },
  {
   "cell_type": "code",
   "execution_count": 120,
   "outputs": [
    {
     "name": "stdout",
     "output_type": "stream",
     "text": [
      "tensor(0.0064, grad_fn=<SoftplusBackward0>)\n",
      "tensor(0.0003, grad_fn=<SoftplusBackward0>)\n",
      "tensor(0.0002, grad_fn=<SoftplusBackward0>)\n",
      "tensor(0.0064, grad_fn=<SoftplusBackward0>)\n",
      "tensor(0.0003, grad_fn=<SoftplusBackward0>)\n",
      "tensor(0.0002, grad_fn=<SoftplusBackward0>)\n"
     ]
    }
   ],
   "source": [
    "print(m1.covar_module.kernels[0].outputscale)\n",
    "print(m1.covar_module.kernels[1].outputscale)\n",
    "print(m1.covar_module.kernels[2].outputscale)\n",
    "\n",
    "\n",
    "print(m2.covar_module.kernels[0].outputscale)\n",
    "print(m2.covar_module.kernels[1].outputscale)\n",
    "print(m2.covar_module.kernels[2].outputscale)\n",
    "\n"
   ],
   "metadata": {
    "collapsed": false,
    "pycharm": {
     "name": "#%%\n"
    }
   }
  },
  {
   "cell_type": "code",
   "execution_count": 129,
   "outputs": [
    {
     "data": {
      "text/plain": "<Figure size 800x560 with 1 Axes>",
      "image/png": "[encoded data removed]"
     },
     "metadata": {},
     "output_type": "display_data"
    },
    {
     "data": {
      "text/plain": "<Figure size 800x560 with 1 Axes>",
      "image/png": "[encoded data removed]"
     },
     "metadata": {},
     "output_type": "display_data"
    }
   ],
   "source": [
    "pairs = [[m1, l1],\n",
    "        [m2, l2],]# [m3, l3],\n",
    "#         [m4, l4], [m5, l5],\n",
    "        #[m1, l1]]\n",
    "\n",
    "for pair in pairs:\n",
    "    model = pair[0]\n",
    "    likelihood = pair[1]\n",
    "    model.eval()\n",
    "    # Make predictions by feeding model through likelihood\n",
    "    with torch.no_grad(), gpytorch.settings.fast_pred_var():\n",
    "        observed_pred = likelihood(model(test_x))\n",
    "    # Initialize plot\n",
    "    f, ax = plt.subplots(1, 1, figsize=(10, 7))\n",
    "    # Get upper and lower confidence bounds\n",
    "    lower, upper = observed_pred.confidence_region()\n",
    "    # Shade between the lower and upper confidence bounds\n",
    "    ax.fill_between(test_x[:,0].detach().cpu().numpy(),\n",
    "                    lower.detach().cpu().numpy(),\n",
    "                    upper.detach().cpu().numpy(), alpha=0.3)\n",
    "    # Plot training data as black stars\n",
    "    ax.scatter(train_x[:,0].detach().cpu().numpy(), train_y.detach().cpu().numpy(), s=0.5)\n",
    "    #ax.scatter(model.variational_strategy.inducing_points[:,0].detach().cpu().numpy(),\n",
    "    #           np.zeros(500)+1, s=0.5)\n",
    "    # Plot predictive means as blue line\n",
    "    ax.plot(test_x[:,0].detach().cpu().numpy(), observed_pred.mean.detach().cpu().numpy(), 'blue')\n",
    "    ax.scatter(\n",
    "        test_x[:,0].detach().cpu().numpy(),\n",
    "        test_y.detach().cpu().numpy(),\n",
    "        s=1, color=\"red\")\n",
    "    ax.set_xlim(.999,1)\n",
    "    #ax.set_xlim(0,1)\n",
    "    #ax.set_xlim(0.65,0.75)\n",
    "    ax.vlines(m1.variational_strategy.inducing_points.detach().cpu().numpy(), ymin = -1.6, ymax = -1.5)\n",
    "\n",
    "    #ax.set_ylim([0, 1.5])\n",
    "    #ax.patch.set_facecolor('green')\n",
    "    #ax.patch.set_alpha(.1)\n",
    "    ax.legend([\"95% Credible Intervals\", \"Observed Data\", \"Posterior Mean\"])"
   ],
   "metadata": {
    "collapsed": false
   }
  },
  {
   "cell_type": "code",
   "execution_count": 108,
   "outputs": [
    {
     "data": {
      "text/plain": "torch.Size([800, 1])"
     },
     "execution_count": 108,
     "metadata": {},
     "output_type": "execute_result"
    }
   ],
   "source": [
    "test_x.shape"
   ],
   "metadata": {
    "collapsed": false
   }
  },
  {
   "cell_type": "code",
   "execution_count": 109,
   "outputs": [
    {
     "data": {
      "text/plain": "tensor([[0.0044],\n        [0.0045],\n        [0.0045],\n        ...,\n        [1.0000],\n        [1.0000],\n        [1.0000]])"
     },
     "execution_count": 109,
     "metadata": {},
     "output_type": "execute_result"
    }
   ],
   "source": [
    "train_x\n"
   ],
   "metadata": {
    "collapsed": false
   }
  },
  {
   "cell_type": "code",
   "execution_count": 110,
   "outputs": [],
   "source": [
    "with torch.no_grad():\n",
    "    m1(test_x)"
   ],
   "metadata": {
    "collapsed": false
   }
  },
  {
   "cell_type": "code",
   "execution_count": 111,
   "outputs": [
    {
     "data": {
      "text/plain": "'|===========================================================================|\\n|                  PyTorch CUDA memory summary, device ID 0                 |\\n|---------------------------------------------------------------------------|\\n|            CUDA OOMs: 0            |        cudaMalloc retries: 0         |\\n|===========================================================================|\\n|        Metric         | Cur Usage  | Peak Usage | Tot Alloc  | Tot Freed  |\\n|---------------------------------------------------------------------------|\\n| Allocated memory      |   32564 KB |  463593 KB |    8693 GB |    8693 GB |\\n|       from large pool |   25336 KB |  430288 KB |    8296 GB |    8296 GB |\\n|       from small pool |    7227 KB |   35662 KB |     397 GB |     397 GB |\\n|---------------------------------------------------------------------------|\\n| Active memory         |   32564 KB |  463593 KB |    8693 GB |    8693 GB |\\n|       from large pool |   25336 KB |  430288 KB |    8296 GB |    8296 GB |\\n|       from small pool |    7227 KB |   35662 KB |     397 GB |     397 GB |\\n|---------------------------------------------------------------------------|\\n| GPU reserved memory   |  571392 KB |  571392 KB |  571392 KB |       0 B  |\\n|       from large pool |  528384 KB |  528384 KB |  528384 KB |       0 B  |\\n|       from small pool |   43008 KB |   43008 KB |   43008 KB |       0 B  |\\n|---------------------------------------------------------------------------|\\n| Non-releasable memory |   59596 KB |  181312 KB |    6218 GB |    6218 GB |\\n|       from large pool |   52487 KB |  176724 KB |    5808 GB |    5808 GB |\\n|       from small pool |    7108 KB |   20521 KB |     409 GB |     409 GB |\\n|---------------------------------------------------------------------------|\\n| Allocations           |     214    |     576    |   11538 K  |   11537 K  |\\n|       from large pool |       5    |     123    |    1427 K  |    1427 K  |\\n|       from small pool |     209    |     532    |   10110 K  |   10109 K  |\\n|---------------------------------------------------------------------------|\\n| Active allocs         |     214    |     576    |   11538 K  |   11537 K  |\\n|       from large pool |       5    |     123    |    1427 K  |    1427 K  |\\n|       from small pool |     209    |     532    |   10110 K  |   10109 K  |\\n|---------------------------------------------------------------------------|\\n| GPU reserved segments |      48    |      48    |      48    |       0    |\\n|       from large pool |      27    |      27    |      27    |       0    |\\n|       from small pool |      21    |      21    |      21    |       0    |\\n|---------------------------------------------------------------------------|\\n| Non-releasable allocs |      30    |      70    |    7389 K  |    7389 K  |\\n|       from large pool |       6    |      22    |     993 K  |     993 K  |\\n|       from small pool |      24    |      59    |    6396 K  |    6396 K  |\\n|---------------------------------------------------------------------------|\\n| Oversize allocations  |       0    |       0    |       0    |       0    |\\n|---------------------------------------------------------------------------|\\n| Oversize GPU segments |       0    |       0    |       0    |       0    |\\n|===========================================================================|\\n'"
     },
     "execution_count": 111,
     "metadata": {},
     "output_type": "execute_result"
    }
   ],
   "source": [
    "# for i in range(len(m1.covar_module.kernels)):\n",
    "#     print(m1.covar_module.kernels[i].outputscale)\n",
    "torch.cuda.memory_summary()"
   ],
   "metadata": {
    "collapsed": false
   }
  },
  {
   "cell_type": "code",
   "execution_count": 111,
   "outputs": [],
   "source": [
    "from utils import get_BIC\n",
    "\n",
    "print(get_BIC(m1, likelihood, train_y, train_x))"
   ],
   "metadata": {
    "collapsed": false
   }
  },
  {
   "cell_type": "code",
   "execution_count": null,
   "outputs": [],
   "source": [
    "m1.eval()\n",
    "likelihood.eval()\n",
    "\n",
    "with torch.no_grad(), gpytorch.settings.fast_pred_var():\n",
    "    observed_pred = likelihood(m1(test_x))\n"
   ],
   "metadata": {
    "collapsed": false
   }
  },
  {
   "cell_type": "code",
   "execution_count": null,
   "outputs": [],
   "source": [
    "# Initialize plot\n",
    "f, ax = plt.subplots(1, 1, figsize=(10, 7))\n",
    "\n",
    "# Get upper and lower confidence bounds\n",
    "lower, upper = observed_pred.confidence_region()\n",
    "# Shade between the lower and upper confidence bounds\n",
    "ax.fill_between(test_x.detach().cpu().numpy(),\n",
    "                lower.detach().cpu().numpy(),\n",
    "                upper.detach().cpu().numpy(), alpha=0.3)\n",
    "# Plot training data as black stars\n",
    "ax.scatter(train_x.detach().cpu().numpy(), train_y.detach().cpu().numpy(), s=0.5)\n",
    "# Plot predictive means as blue line\n",
    "ax.plot(test_x.detach().cpu().numpy(), observed_pred.mean.detach().cpu().numpy(), 'blue')\n",
    "\n",
    "ax.set_ylim([0, 1.5])\n",
    "#ax.patch.set_facecolor('green')\n",
    "#ax.patch.set_alpha(.1)\n",
    "ax.legend([\"95% Credible Intervals\", \"Observed Data\", \"Posterior Mean\"])"
   ],
   "metadata": {
    "collapsed": false
   }
  },
  {
   "cell_type": "code",
   "execution_count": null,
   "outputs": [],
   "source": [],
   "metadata": {
    "collapsed": false
   }
  }
 ],
 "metadata": {
  "kernelspec": {
   "display_name": "Python 3",
   "language": "python",
   "name": "python3"
  },
  "language_info": {
   "codemirror_mode": {
    "name": "ipython",
    "version": 2
   },
   "file_extension": ".py",
   "mimetype": "text/x-python",
   "name": "python",
   "nbconvert_exporter": "python",
   "pygments_lexer": "ipython2",
   "version": "2.7.6"
  }
 },
 "nbformat": 4,
 "nbformat_minor": 0
}