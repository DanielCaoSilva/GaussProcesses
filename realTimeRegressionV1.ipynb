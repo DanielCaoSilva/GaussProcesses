{
 "cells": [
  {
   "cell_type": "code",
   "execution_count": 1,
   "metadata": {
    "collapsed": true,
    "pycharm": {
     "name": "#%%\n"
    }
   },
   "outputs": [],
   "source": [
    "import torch\n",
    "import gpytorch\n",
    "from matplotlib import pyplot as plt\n",
    "import math\n",
    "import pandas as pd\n",
    "%matplotlib inline\n",
    "%load_ext autoreload\n",
    "%autoreload 2"
   ]
  },
  {
   "cell_type": "code",
   "execution_count": 7,
   "outputs": [
    {
     "data": {
      "text/plain": "  #YY  MM DD hh mm WDIR WSPD GST  WVHT   DPD   APD MWD   PRES  ATMP  WTMP  DEWP  VIS PTDY  TIDE\n0  #yr  mo dy hr mn degT m/s  m/s     m   sec   s...                                           \n1  2022 06 10 22 30  MM   MM   MM   0.5    13   4...                                           \n2  2022 06 10 22 00  MM   MM   MM   0.5    13   5...                                           \n3  2022 06 10 21 30  MM   MM   MM   0.4    13   4...                                           \n4  2022 06 10 21 00  MM   MM   MM   0.4    13   5...                                           ",
      "text/html": "<div>\n<style scoped>\n    .dataframe tbody tr th:only-of-type {\n        vertical-align: middle;\n    }\n\n    .dataframe tbody tr th {\n        vertical-align: top;\n    }\n\n    .dataframe thead th {\n        text-align: right;\n    }\n</style>\n<table border=\"1\" class=\"dataframe\">\n  <thead>\n    <tr style=\"text-align: right;\">\n      <th></th>\n      <th>#YY  MM DD hh mm WDIR WSPD GST  WVHT   DPD   APD MWD   PRES  ATMP  WTMP  DEWP  VIS PTDY  TIDE</th>\n    </tr>\n  </thead>\n  <tbody>\n    <tr>\n      <th>0</th>\n      <td>#yr  mo dy hr mn degT m/s  m/s     m   sec   s...</td>\n    </tr>\n    <tr>\n      <th>1</th>\n      <td>2022 06 10 22 30  MM   MM   MM   0.5    13   4...</td>\n    </tr>\n    <tr>\n      <th>2</th>\n      <td>2022 06 10 22 00  MM   MM   MM   0.5    13   5...</td>\n    </tr>\n    <tr>\n      <th>3</th>\n      <td>2022 06 10 21 30  MM   MM   MM   0.4    13   4...</td>\n    </tr>\n    <tr>\n      <th>4</th>\n      <td>2022 06 10 21 00  MM   MM   MM   0.4    13   5...</td>\n    </tr>\n  </tbody>\n</table>\n</div>"
     },
     "execution_count": 7,
     "metadata": {},
     "output_type": "execute_result"
    }
   ],
   "source": [
    "df = pd.read_csv(\"https://www.ndbc.noaa.gov/data/realtime2/46268.txt\")\n"
   ],
   "metadata": {
    "collapsed": false,
    "pycharm": {
     "name": "#%%\n"
    }
   }
  }
 ],
 "metadata": {
  "kernelspec": {
   "display_name": "Python 3",
   "language": "python",
   "name": "python3"
  },
  "language_info": {
   "codemirror_mode": {
    "name": "ipython",
    "version": 2
   },
   "file_extension": ".py",
   "mimetype": "text/x-python",
   "name": "python",
   "nbconvert_exporter": "python",
   "pygments_lexer": "ipython2",
   "version": "2.7.6"
  }
 },
 "nbformat": 4,
 "nbformat_minor": 0
}