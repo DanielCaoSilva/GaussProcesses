{
 "cells": [
  {
   "cell_type": "code",
   "execution_count": 58,
   "metadata": {
    "collapsed": true,
    "pycharm": {
     "name": "#%%\n"
    }
   },
   "outputs": [
    {
     "name": "stdout",
     "output_type": "stream",
     "text": [
      "The autoreload extension is already loaded. To reload it, use:\n",
      "  %reload_ext autoreload\n"
     ]
    }
   ],
   "source": [
    "import torch\n",
    "import gpytorch\n",
    "from matplotlib import pyplot as plt\n",
    "import math\n",
    "import numpy as np\n",
    "import pandas as pd\n",
    "%matplotlib inline\n",
    "%load_ext autoreload\n",
    "%autoreload 2"
   ]
  },
  {
   "cell_type": "code",
   "execution_count": 59,
   "outputs": [
    {
     "name": "stdout",
     "output_type": "stream",
     "text": [
      "<class 'pandas.core.frame.DataFrame'>\n",
      "RangeIndex: 2180 entries, 0 to 2179\n",
      "Data columns (total 19 columns):\n",
      " #   Column  Non-Null Count  Dtype \n",
      "---  ------  --------------  ----- \n",
      " 0   #YY     2180 non-null   object\n",
      " 1   MM      2180 non-null   object\n",
      " 2   DD      2180 non-null   object\n",
      " 3   hh      2180 non-null   object\n",
      " 4   mm      2180 non-null   object\n",
      " 5   WDIR    2180 non-null   object\n",
      " 6   WSPD    2180 non-null   object\n",
      " 7   GST     2180 non-null   object\n",
      " 8   WVHT    2180 non-null   object\n",
      " 9   DPD     2180 non-null   object\n",
      " 10  APD     2180 non-null   object\n",
      " 11  MWD     2180 non-null   object\n",
      " 12  PRES    2180 non-null   object\n",
      " 13  ATMP    2180 non-null   object\n",
      " 14  WTMP    2180 non-null   object\n",
      " 15  DEWP    2180 non-null   object\n",
      " 16  VIS     2180 non-null   object\n",
      " 17  PTDY    2180 non-null   object\n",
      " 18  TIDE    2180 non-null   object\n",
      "dtypes: object(19)\n",
      "memory usage: 323.7+ KB\n"
     ]
    }
   ],
   "source": [
    "df = pd.read_csv(\"https://www.ndbc.noaa.gov/data/realtime2/46268.txt\",delim_whitespace=True)\n",
    "df.info()"
   ],
   "metadata": {
    "collapsed": false,
    "pycharm": {
     "name": "#%%\n"
    }
   }
  },
  {
   "cell_type": "code",
   "execution_count": 60,
   "outputs": [
    {
     "data": {
      "text/plain": "#YY     2022\nMM        06\nDD        10\nhh        23\nmm        00\nWDIR      MM\nWSPD      MM\nGST       MM\nWVHT     0.5\nDPD       13\nAPD      4.3\nMWD      194\nPRES      MM\nATMP    19.7\nWTMP    20.7\nDEWP      MM\nVIS       MM\nPTDY      MM\nTIDE      MM\nName: 1, dtype: object"
     },
     "execution_count": 60,
     "metadata": {},
     "output_type": "execute_result"
    }
   ],
   "source": [
    "df.iloc[1,:]"
   ],
   "metadata": {
    "collapsed": false,
    "pycharm": {
     "name": "#%%\n"
    }
   }
  },
  {
   "cell_type": "code",
   "execution_count": 61,
   "outputs": [],
   "source": [
    "#df.iloc[1:-1,9].values\n",
    "train_y = torch.tensor(df.iloc[1:-1,8].values.astype(np.float32))\n",
    "train_x = torch.tensor(df.iloc[1:-1,9].values.astype(np.float32))"
   ],
   "metadata": {
    "collapsed": false,
    "pycharm": {
     "name": "#%%\n"
    }
   }
  },
  {
   "cell_type": "code",
   "execution_count": 62,
   "outputs": [],
   "source": [
    "# train_y.head()\n",
    "# train_x.head()\n",
    "class ExactGPModel(gpytorch.models.ExactGP):\n",
    "    def __init__(self, train_x, train_y, likelihood):\n",
    "        super(ExactGPModel, self).__init__(train_x, train_y, likelihood)\n",
    "        self.mean_module = gpytorch.means.ConstantMean()\n",
    "        self.covar_module = gpytorch.kernels.ScaleKernel(gpytorch.kernels.RBFKernel())\n",
    "\n",
    "    def forward(self, x):\n",
    "        mean_x = self.mean_module(x)\n",
    "        covar_x = self.covar_module(x)\n",
    "        return gpytorch.distributions.MultivariateNormal(mean_x, covar_x)\n",
    "\n",
    "# initialize likelihood and model\n",
    "likelihood = gpytorch.likelihoods.GaussianLikelihood()\n",
    "model = ExactGPModel(train_x, train_y, likelihood)"
   ],
   "metadata": {
    "collapsed": false,
    "pycharm": {
     "name": "#%%\n"
    }
   }
  },
  {
   "cell_type": "code",
   "execution_count": 63,
   "outputs": [
    {
     "name": "stdout",
     "output_type": "stream",
     "text": [
      "Iter 1/50 - Loss: 0.768   lengthscale: 0.693   noise: 0.693\n",
      "Iter 2/50 - Loss: 0.732   lengthscale: 0.744   noise: 0.644\n",
      "Iter 3/50 - Loss: 0.696   lengthscale: 0.798   noise: 0.598\n",
      "Iter 4/50 - Loss: 0.659   lengthscale: 0.854   noise: 0.554\n",
      "Iter 5/50 - Loss: 0.621   lengthscale: 0.913   noise: 0.513\n",
      "Iter 6/50 - Loss: 0.583   lengthscale: 0.974   noise: 0.474\n",
      "Iter 7/50 - Loss: 0.544   lengthscale: 1.037   noise: 0.437\n",
      "Iter 8/50 - Loss: 0.505   lengthscale: 1.104   noise: 0.403\n",
      "Iter 9/50 - Loss: 0.466   lengthscale: 1.173   noise: 0.370\n",
      "Iter 10/50 - Loss: 0.426   lengthscale: 1.243   noise: 0.340\n",
      "Iter 11/50 - Loss: 0.385   lengthscale: 1.315   noise: 0.312\n",
      "Iter 12/50 - Loss: 0.345   lengthscale: 1.390   noise: 0.286\n",
      "Iter 13/50 - Loss: 0.304   lengthscale: 1.467   noise: 0.262\n",
      "Iter 14/50 - Loss: 0.263   lengthscale: 1.548   noise: 0.239\n",
      "Iter 15/50 - Loss: 0.222   lengthscale: 1.627   noise: 0.218\n",
      "Iter 16/50 - Loss: 0.182   lengthscale: 1.707   noise: 0.199\n",
      "Iter 17/50 - Loss: 0.141   lengthscale: 1.788   noise: 0.182\n",
      "Iter 18/50 - Loss: 0.100   lengthscale: 1.868   noise: 0.166\n",
      "Iter 19/50 - Loss: 0.060   lengthscale: 1.950   noise: 0.151\n",
      "Iter 20/50 - Loss: 0.020   lengthscale: 2.032   noise: 0.137\n",
      "Iter 21/50 - Loss: -0.019   lengthscale: 2.115   noise: 0.125\n",
      "Iter 22/50 - Loss: -0.057   lengthscale: 2.198   noise: 0.113\n",
      "Iter 23/50 - Loss: -0.095   lengthscale: 2.280   noise: 0.103\n",
      "Iter 24/50 - Loss: -0.131   lengthscale: 2.361   noise: 0.094\n",
      "Iter 25/50 - Loss: -0.167   lengthscale: 2.439   noise: 0.085\n",
      "Iter 26/50 - Loss: -0.201   lengthscale: 2.517   noise: 0.077\n",
      "Iter 27/50 - Loss: -0.233   lengthscale: 2.593   noise: 0.070\n",
      "Iter 28/50 - Loss: -0.264   lengthscale: 2.669   noise: 0.064\n",
      "Iter 29/50 - Loss: -0.293   lengthscale: 2.742   noise: 0.058\n",
      "Iter 30/50 - Loss: -0.319   lengthscale: 2.816   noise: 0.053\n",
      "Iter 31/50 - Loss: -0.344   lengthscale: 2.889   noise: 0.049\n",
      "Iter 32/50 - Loss: -0.366   lengthscale: 2.959   noise: 0.044\n",
      "Iter 33/50 - Loss: -0.385   lengthscale: 3.025   noise: 0.041\n",
      "Iter 34/50 - Loss: -0.402   lengthscale: 3.087   noise: 0.037\n",
      "Iter 35/50 - Loss: -0.416   lengthscale: 3.145   noise: 0.034\n",
      "Iter 36/50 - Loss: -0.428   lengthscale: 3.197   noise: 0.032\n",
      "Iter 37/50 - Loss: -0.436   lengthscale: 3.246   noise: 0.029\n",
      "Iter 38/50 - Loss: -0.442   lengthscale: 3.288   noise: 0.027\n",
      "Iter 39/50 - Loss: -0.446   lengthscale: 3.322   noise: 0.026\n",
      "Iter 40/50 - Loss: -0.448   lengthscale: 3.347   noise: 0.024\n",
      "Iter 41/50 - Loss: -0.447   lengthscale: 3.363   noise: 0.023\n",
      "Iter 42/50 - Loss: -0.446   lengthscale: 3.369   noise: 0.022\n",
      "Iter 43/50 - Loss: -0.443   lengthscale: 3.366   noise: 0.021\n",
      "Iter 44/50 - Loss: -0.440   lengthscale: 3.354   noise: 0.020\n",
      "Iter 45/50 - Loss: -0.436   lengthscale: 3.334   noise: 0.019\n",
      "Iter 46/50 - Loss: -0.433   lengthscale: 3.308   noise: 0.019\n",
      "Iter 47/50 - Loss: -0.430   lengthscale: 3.277   noise: 0.018\n",
      "Iter 48/50 - Loss: -0.428   lengthscale: 3.241   noise: 0.018\n",
      "Iter 49/50 - Loss: -0.428   lengthscale: 3.202   noise: 0.018\n",
      "Iter 50/50 - Loss: -0.427   lengthscale: 3.158   noise: 0.018\n"
     ]
    }
   ],
   "source": [
    "# this is for running the notebook in our testing framework\n",
    "import os\n",
    "smoke_test = ('CI' in os.environ)\n",
    "training_iter = 2 if smoke_test else 50\n",
    "\n",
    "\n",
    "# Find optimal model hyperparameters\n",
    "model.train()\n",
    "likelihood.train()\n",
    "\n",
    "# Use the adam optimizer\n",
    "optimizer = torch.optim.Adam(model.parameters(), lr=0.1)  # Includes GaussianLikelihood parameters\n",
    "\n",
    "# \"Loss\" for GPs - the marginal log likelihood\n",
    "mll = gpytorch.mlls.ExactMarginalLogLikelihood(likelihood, model)\n",
    "\n",
    "for i in range(training_iter):\n",
    "    # Zero gradients from previous iteration\n",
    "    optimizer.zero_grad()\n",
    "    # Output from model\n",
    "    output = model(train_x)\n",
    "    # Calc loss and backprop gradients\n",
    "    loss = -mll(output, train_y)\n",
    "    loss.backward()\n",
    "    print('Iter %d/%d - Loss: %.3f   lengthscale: %.3f   noise: %.3f' % (\n",
    "        i + 1, training_iter, loss.item(),\n",
    "        model.covar_module.base_kernel.lengthscale.item(),\n",
    "        model.likelihood.noise.item()\n",
    "    ))\n",
    "    optimizer.step()"
   ],
   "metadata": {
    "collapsed": false,
    "pycharm": {
     "name": "#%%\n"
    }
   }
  },
  {
   "cell_type": "code",
   "execution_count": 64,
   "outputs": [],
   "source": [
    "# Get into evaluation (predictive posterior) mode\n",
    "model.eval()\n",
    "likelihood.eval()\n",
    "\n",
    "# Test points are regularly spaced along [0,1]\n",
    "# Make predictions by feeding model through likelihood\n",
    "with torch.no_grad(), gpytorch.settings.fast_pred_var():\n",
    "    test_x = torch.linspace(0, 1, 51)\n",
    "    observed_pred = likelihood(model(test_x))"
   ],
   "metadata": {
    "collapsed": false,
    "pycharm": {
     "name": "#%%\n"
    }
   }
  },
  {
   "cell_type": "code",
   "execution_count": 91,
   "outputs": [
    {
     "data": {
      "text/plain": "<Figure size 720x504 with 1 Axes>",
      "image/png": "[encoded data removed]"
     },
     "metadata": {
      "needs_background": "light"
     },
     "output_type": "display_data"
    }
   ],
   "source": [
    "with torch.no_grad():\n",
    "    # Initialize plot\n",
    "    f, ax = plt.subplots(1, 1, figsize=(10, 7))\n",
    "\n",
    "    # Get upper and lower confidence bounds\n",
    "    lower, upper = observed_pred.confidence_region()\n",
    "    # Plot training data as black stars\n",
    "    ax.plot(train_x.numpy(), train_y.numpy(), 'b*')\n",
    "    # Plot predictive means as blue line\n",
    "    ax.plot(test_x.numpy(), observed_pred.mean.numpy(), 'y')\n",
    "    # Shade between the lower and upper confidence bounds\n",
    "    ax.fill_between(test_x.numpy(), lower.numpy(), upper.numpy(), alpha=1)\n",
    "    ax.set_ylim([0, 1.5])\n",
    "    # ax.patch.set_facecolor('green')\n",
    "    # ax.patch.set_alpha(.1)\n",
    "    ax.legend(['Observed Data', 'Mean', 'Confidence'])"
   ],
   "metadata": {
    "collapsed": false,
    "pycharm": {
     "name": "#%%\n"
    }
   }
  }
 ],
 "metadata": {
  "kernelspec": {
   "display_name": "Python 3",
   "language": "python",
   "name": "python3"
  },
  "language_info": {
   "codemirror_mode": {
    "name": "ipython",
    "version": 2
   },
   "file_extension": ".py",
   "mimetype": "text/x-python",
   "name": "python",
   "nbconvert_exporter": "python",
   "pygments_lexer": "ipython2",
   "version": "2.7.6"
  }
 },
 "nbformat": 4,
 "nbformat_minor": 0
}