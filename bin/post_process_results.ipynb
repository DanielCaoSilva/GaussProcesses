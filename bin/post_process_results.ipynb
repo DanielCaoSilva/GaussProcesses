{
 "cells": [
  {
   "cell_type": "code",
   "execution_count": 1,
   "metadata": {
    "collapsed": true,
    "ExecuteTime": {
     "end_time": "2023-06-01T23:13:55.203281438Z",
     "start_time": "2023-06-01T23:13:55.070063113Z"
    }
   },
   "outputs": [],
   "source": [
    "import pandas as pd\n",
    "import numpy as np\n",
    "import glob"
   ]
  },
  {
   "cell_type": "code",
   "execution_count": 23,
   "outputs": [
    {
     "name": "stdout",
     "output_type": "stream",
     "text": [
      "./../Past_Trials/csv_results/full_path_history_2023-05-29-19:01:58_cleaned.csv\n",
      "./../Past_Trials/csv_results/full_path_history_2023-05-30-15:22:27_cleaned.csv\n",
      "./../Past_Trials/csv_results/full_path_history_2023-05-30-23:04:30_cleaned.csv\n",
      "./../Past_Trials/csv_results/Starting_with_RBF.csv\n"
     ]
    },
    {
     "data": {
      "text/plain": "    path_location                                    Kernel          BIC\n0          (0, 0)                                     'AR2' -2272.004639\n1          (1, 0)                              'AR2+RQ+RBF' -2294.232910\n2          (2, 0)                          'AR2+RQ*AR2+RBF' -2288.347900\n3          (0, 1)                             'AR2+Mat_2.5' -2309.920654\n4          (1, 1)                          'AR2+RQ+Mat_2.5'          NaN\n..            ...                                       ...          ...\n110       (0, 22)                           'RBF*Per_Month'  1889.415039\n111       (1, 22)                       'RBF+AR2*Per_Month'   290.225006\n112       (2, 22)              'RBF+AR2*Per_Year*Per_Month' -2197.544922\n113       (3, 22)          'RBF+AR2*Per_Year*RBF*Per_Month' -1335.378174\n114       (4, 22)  'RBF+AR2*Per_Year*RBF*Mat_1.5*Per_Month' -2038.764526\n\n[253 rows x 3 columns]",
      "text/html": "<div>\n<style scoped>\n    .dataframe tbody tr th:only-of-type {\n        vertical-align: middle;\n    }\n\n    .dataframe tbody tr th {\n        vertical-align: top;\n    }\n\n    .dataframe thead th {\n        text-align: right;\n    }\n</style>\n<table border=\"1\" class=\"dataframe\">\n  <thead>\n    <tr style=\"text-align: right;\">\n      <th></th>\n      <th>path_location</th>\n      <th>Kernel</th>\n      <th>BIC</th>\n    </tr>\n  </thead>\n  <tbody>\n    <tr>\n      <th>0</th>\n      <td>(0, 0)</td>\n      <td>'AR2'</td>\n      <td>-2272.004639</td>\n    </tr>\n    <tr>\n      <th>1</th>\n      <td>(1, 0)</td>\n      <td>'AR2+RQ+RBF'</td>\n      <td>-2294.232910</td>\n    </tr>\n    <tr>\n      <th>2</th>\n      <td>(2, 0)</td>\n      <td>'AR2+RQ*AR2+RBF'</td>\n      <td>-2288.347900</td>\n    </tr>\n    <tr>\n      <th>3</th>\n      <td>(0, 1)</td>\n      <td>'AR2+Mat_2.5'</td>\n      <td>-2309.920654</td>\n    </tr>\n    <tr>\n      <th>4</th>\n      <td>(1, 1)</td>\n      <td>'AR2+RQ+Mat_2.5'</td>\n      <td>NaN</td>\n    </tr>\n    <tr>\n      <th>...</th>\n      <td>...</td>\n      <td>...</td>\n      <td>...</td>\n    </tr>\n    <tr>\n      <th>110</th>\n      <td>(0, 22)</td>\n      <td>'RBF*Per_Month'</td>\n      <td>1889.415039</td>\n    </tr>\n    <tr>\n      <th>111</th>\n      <td>(1, 22)</td>\n      <td>'RBF+AR2*Per_Month'</td>\n      <td>290.225006</td>\n    </tr>\n    <tr>\n      <th>112</th>\n      <td>(2, 22)</td>\n      <td>'RBF+AR2*Per_Year*Per_Month'</td>\n      <td>-2197.544922</td>\n    </tr>\n    <tr>\n      <th>113</th>\n      <td>(3, 22)</td>\n      <td>'RBF+AR2*Per_Year*RBF*Per_Month'</td>\n      <td>-1335.378174</td>\n    </tr>\n    <tr>\n      <th>114</th>\n      <td>(4, 22)</td>\n      <td>'RBF+AR2*Per_Year*RBF*Mat_1.5*Per_Month'</td>\n      <td>-2038.764526</td>\n    </tr>\n  </tbody>\n</table>\n<p>253 rows × 3 columns</p>\n</div>"
     },
     "execution_count": 23,
     "metadata": {},
     "output_type": "execute_result"
    }
   ],
   "source": [
    "list_of_past_trials = glob.glob('./../Past_Trials/csv_results/'+'*.csv')\n",
    "all_trials = pd.DataFrame()\n",
    "for trial in list_of_past_trials:\n",
    "    print(trial)\n",
    "    trial_df = pd.read_csv(trial)\n",
    "    all_trials = pd.concat([all_trials,trial_df],axis=0)\n",
    "cleaned_all_trials = all_trials.loc[:, [\"path_location\", \"Kernel\", \"BIC\"]]\n",
    "cleaned_all_trials.to_csv(\"./../Past_Trials/cleaned_all_trials.csv\", index=False)\n",
    "cleaned_all_trials"
   ],
   "metadata": {
    "collapsed": false,
    "ExecuteTime": {
     "end_time": "2023-06-02T00:09:18.415534143Z",
     "start_time": "2023-06-02T00:09:18.400585903Z"
    }
   }
  }
 ],
 "metadata": {
  "kernelspec": {
   "display_name": "Python 3",
   "language": "python",
   "name": "python3"
  },
  "language_info": {
   "codemirror_mode": {
    "name": "ipython",
    "version": 2
   },
   "file_extension": ".py",
   "mimetype": "text/x-python",
   "name": "python",
   "nbconvert_exporter": "python",
   "pygments_lexer": "ipython2",
   "version": "2.7.6"
  }
 },
 "nbformat": 4,
 "nbformat_minor": 0
}
