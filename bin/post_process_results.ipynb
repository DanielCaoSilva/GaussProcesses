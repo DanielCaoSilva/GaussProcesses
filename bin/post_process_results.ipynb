{
 "cells": [
  {
   "cell_type": "code",
   "execution_count": 1,
   "metadata": {
    "collapsed": true,
    "ExecuteTime": {
     "end_time": "2023-06-07T04:15:56.825332447Z",
     "start_time": "2023-06-07T04:15:56.643945850Z"
    }
   },
   "outputs": [],
   "source": [
    "import pandas as pd\n",
    "import numpy as np\n",
    "import glob"
   ]
  },
  {
   "cell_type": "code",
   "execution_count": 2,
   "outputs": [],
   "source": [
    "def add_past_trials():\n",
    "    list_of_past_trials = glob.glob('./../Past_Trials/csv_results/'+'*.csv')\n",
    "    all_trials = pd.DataFrame()\n",
    "    for trial in list_of_past_trials:\n",
    "        print(trial)\n",
    "        trial_df = pd.read_csv(trial)\n",
    "        all_trials = pd.concat([all_trials,trial_df],axis=0)\n",
    "    cleaned_all_trials = all_trials.loc[:, [\"path_location\", \"Kernel\", \"BIC\"]]\n",
    "    cleaned_all_trials.to_csv(\"./../Past_Trials/cleaned_all_trials.csv\", index=False)\n",
    "    return cleaned_all_trials"
   ],
   "metadata": {
    "collapsed": false,
    "ExecuteTime": {
     "end_time": "2023-06-07T04:15:56.827835082Z",
     "start_time": "2023-06-07T04:15:56.825929140Z"
    }
   }
  },
  {
   "cell_type": "code",
   "execution_count": 3,
   "outputs": [],
   "source": [
    "# all_past_trials = pd.read_csv(\"./../Past_Trials/full_results/cleaned_all_trials.csv\")\n",
    "# all_past_trials.sort_values(by=\"BIC\", inplace=True)\n",
    "# list_of_kernels_ranked = all_past_trials.loc[:, [\"Kernel\"]]\n",
    "# all_past_trials\n"
   ],
   "metadata": {
    "collapsed": false,
    "ExecuteTime": {
     "end_time": "2023-06-07T04:15:56.834731192Z",
     "start_time": "2023-06-07T04:15:56.828101949Z"
    }
   }
  },
  {
   "cell_type": "code",
   "execution_count": 7,
   "outputs": [
    {
     "data": {
      "text/plain": "   BIC_rank                                    Kernel          BIC     Error\n9         9                              'AR2+RQ*AR2' -2326.191406  0.095826\n8         8        'RBF+AR2*Per_Year*RBF*Mat_1.5+RBF' -2326.375732  0.095949\n6         6                         'RBF+AR2+Mat_2.5' -2333.447754  0.095949\n5         5  'RBF+AR2*Per_Year*RBF*Mat_1.5+Per_Month' -2335.052002  0.096061\n1         1        'RBF+AR2*Per_Year*RBF*Mat_1.5*RBF' -2350.953613  0.096677\n2         2                    'RBF+AR2*Per_Year*RBF' -2346.211914  0.096680\n4         4    'RBF+AR2*Per_Year*RBF*Mat_1.5*Mat_2.5' -2335.255371  0.096698\n0         0            'RBF+AR2*Per_Year*RBF*Mat_1.5' -2355.538086  0.096761\n3         3                        'RBF+AR2*Per_Year' -2337.717529  0.096776\n7         7          'RBF+AR2*Per_Year*RBF+Per_Month' -2333.310303  0.096863",
      "text/html": "<div>\n<style scoped>\n    .dataframe tbody tr th:only-of-type {\n        vertical-align: middle;\n    }\n\n    .dataframe tbody tr th {\n        vertical-align: top;\n    }\n\n    .dataframe thead th {\n        text-align: right;\n    }\n</style>\n<table border=\"1\" class=\"dataframe\">\n  <thead>\n    <tr style=\"text-align: right;\">\n      <th></th>\n      <th>BIC_rank</th>\n      <th>Kernel</th>\n      <th>BIC</th>\n      <th>Error</th>\n    </tr>\n  </thead>\n  <tbody>\n    <tr>\n      <th>9</th>\n      <td>9</td>\n      <td>'AR2+RQ*AR2'</td>\n      <td>-2326.191406</td>\n      <td>0.095826</td>\n    </tr>\n    <tr>\n      <th>8</th>\n      <td>8</td>\n      <td>'RBF+AR2*Per_Year*RBF*Mat_1.5+RBF'</td>\n      <td>-2326.375732</td>\n      <td>0.095949</td>\n    </tr>\n    <tr>\n      <th>6</th>\n      <td>6</td>\n      <td>'RBF+AR2+Mat_2.5'</td>\n      <td>-2333.447754</td>\n      <td>0.095949</td>\n    </tr>\n    <tr>\n      <th>5</th>\n      <td>5</td>\n      <td>'RBF+AR2*Per_Year*RBF*Mat_1.5+Per_Month'</td>\n      <td>-2335.052002</td>\n      <td>0.096061</td>\n    </tr>\n    <tr>\n      <th>1</th>\n      <td>1</td>\n      <td>'RBF+AR2*Per_Year*RBF*Mat_1.5*RBF'</td>\n      <td>-2350.953613</td>\n      <td>0.096677</td>\n    </tr>\n    <tr>\n      <th>2</th>\n      <td>2</td>\n      <td>'RBF+AR2*Per_Year*RBF'</td>\n      <td>-2346.211914</td>\n      <td>0.096680</td>\n    </tr>\n    <tr>\n      <th>4</th>\n      <td>4</td>\n      <td>'RBF+AR2*Per_Year*RBF*Mat_1.5*Mat_2.5'</td>\n      <td>-2335.255371</td>\n      <td>0.096698</td>\n    </tr>\n    <tr>\n      <th>0</th>\n      <td>0</td>\n      <td>'RBF+AR2*Per_Year*RBF*Mat_1.5'</td>\n      <td>-2355.538086</td>\n      <td>0.096761</td>\n    </tr>\n    <tr>\n      <th>3</th>\n      <td>3</td>\n      <td>'RBF+AR2*Per_Year'</td>\n      <td>-2337.717529</td>\n      <td>0.096776</td>\n    </tr>\n    <tr>\n      <th>7</th>\n      <td>7</td>\n      <td>'RBF+AR2*Per_Year*RBF+Per_Month'</td>\n      <td>-2333.310303</td>\n      <td>0.096863</td>\n    </tr>\n  </tbody>\n</table>\n</div>"
     },
     "execution_count": 7,
     "metadata": {},
     "output_type": "execute_result"
    }
   ],
   "source": [
    "trials_with_cv = pd.read_csv(\"top_10_trials_with_cv.csv\")\n",
    "# trials_with_cv.sort_values(by=\"BIC\", inplace=True)\n",
    "trials_with_cv.columns = [\"BIC_rank\", \"Kernel\", \"BIC\", \"Error\"]\n",
    "trials_with_cv.sort_values(by=\"Error\", inplace=True)\n",
    "trials_with_cv"
   ],
   "metadata": {
    "collapsed": false,
    "ExecuteTime": {
     "end_time": "2023-06-07T04:20:24.777121564Z",
     "start_time": "2023-06-07T04:20:24.764533224Z"
    }
   }
  }
 ],
 "metadata": {
  "kernelspec": {
   "display_name": "Python 3",
   "language": "python",
   "name": "python3"
  },
  "language_info": {
   "codemirror_mode": {
    "name": "ipython",
    "version": 2
   },
   "file_extension": ".py",
   "mimetype": "text/x-python",
   "name": "python",
   "nbconvert_exporter": "python",
   "pygments_lexer": "ipython2",
   "version": "2.7.6"
  }
 },
 "nbformat": 4,
 "nbformat_minor": 0
}
