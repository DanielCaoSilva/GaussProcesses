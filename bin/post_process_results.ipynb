{
 "cells": [
  {
   "cell_type": "code",
   "execution_count": 1,
   "metadata": {
    "collapsed": true,
    "ExecuteTime": {
     "end_time": "2023-05-28T03:42:06.871825751Z",
     "start_time": "2023-05-28T03:42:06.742858341Z"
    }
   },
   "outputs": [],
   "source": [
    "import pandas as pd\n",
    "import numpy as np"
   ]
  },
  {
   "cell_type": "code",
   "execution_count": 27,
   "outputs": [
    {
     "name": "stdout",
     "output_type": "stream",
     "text": [
      "[(1, 0), 'RBF+AR2+RBF', -2296.680419921875]\n",
      "[(2, 1), 'RBF+AR2*Per_Year+Mat_2.5', nan]\n",
      "[(3, 2), 'RBF+AR2*Per_Year*RBF+Mat_1.5', -2010.8145751953125]\n",
      "[(4, 3), 'RBF+AR2*Per_Year*RBF*Mat_1.5+Mat_0.5', -1386.2291259765625]\n"
     ]
    },
    {
     "data": {
      "text/plain": "0   0                     [(0, 0), 'RBF', -2010.927734375]\n    1          [(1, 0), 'RBF+AR2+RBF', -2296.680419921875]\n    2    [(2, 0), 'RBF+AR2*Per_Year+RBF', -2292.8698730...\n    3    [(3, 0), 'RBF+AR2*Per_Year*RBF+RBF', -2308.547...\n    4    [(4, 0), 'RBF+AR2*Per_Year*RBF*Mat_1.5+RBF', -...\n                               ...                        \n22  0          [(0, 22), 'RBF*Per_Month', 1889.4150390625]\n    1    [(1, 22), 'RBF+AR2*Per_Month', 290.2250061035156]\n    2    [(2, 22), 'RBF+AR2*Per_Year*Per_Month', -2197....\n    3    [(3, 22), 'RBF+AR2*Per_Year*RBF*Per_Month', -1...\n    4    [(4, 22), 'RBF+AR2*Per_Year*RBF*Mat_1.5*Per_Mo...\nLength: 115, dtype: object"
     },
     "execution_count": 27,
     "metadata": {},
     "output_type": "execute_result"
    }
   ],
   "source": [
    "\n",
    "for iter, row in df.iterrows():\n",
    "    if row[iter] != 0:\n",
    "        print(row[iter])\n",
    "    # for i in row[iter]:\n",
    "    #     print(i)\n",
    "new_columns = [\"path_location\", \"Kernel\", \"BIC\"]\n",
    "\n",
    "new_df"
   ],
   "metadata": {
    "collapsed": false,
    "ExecuteTime": {
     "end_time": "2023-05-28T03:51:01.124698172Z",
     "start_time": "2023-05-28T03:51:01.099120101Z"
    }
   }
  },
  {
   "cell_type": "code",
   "execution_count": 44,
   "outputs": [
    {
     "data": {
      "text/plain": "    path_location                                    Kernel          BIC\n0          (0, 0)                                     'RBF' -2010.927734\n1          (1, 0)                             'RBF+AR2+RBF' -2296.680420\n2          (2, 0)                    'RBF+AR2*Per_Year+RBF' -2292.869873\n3          (3, 0)                'RBF+AR2*Per_Year*RBF+RBF' -2308.547363\n4          (4, 0)        'RBF+AR2*Per_Year*RBF*Mat_1.5+RBF' -2326.375732\n..            ...                                       ...          ...\n110       (0, 22)                           'RBF*Per_Month'  1889.415039\n111       (1, 22)                       'RBF+AR2*Per_Month'   290.225006\n112       (2, 22)              'RBF+AR2*Per_Year*Per_Month' -2197.544922\n113       (3, 22)          'RBF+AR2*Per_Year*RBF*Per_Month' -1335.378174\n114       (4, 22)  'RBF+AR2*Per_Year*RBF*Mat_1.5*Per_Month' -2038.764526\n\n[115 rows x 3 columns]",
      "text/html": "<div>\n<style scoped>\n    .dataframe tbody tr th:only-of-type {\n        vertical-align: middle;\n    }\n\n    .dataframe tbody tr th {\n        vertical-align: top;\n    }\n\n    .dataframe thead th {\n        text-align: right;\n    }\n</style>\n<table border=\"1\" class=\"dataframe\">\n  <thead>\n    <tr style=\"text-align: right;\">\n      <th></th>\n      <th>path_location</th>\n      <th>Kernel</th>\n      <th>BIC</th>\n    </tr>\n  </thead>\n  <tbody>\n    <tr>\n      <th>0</th>\n      <td>(0, 0)</td>\n      <td>'RBF'</td>\n      <td>-2010.927734</td>\n    </tr>\n    <tr>\n      <th>1</th>\n      <td>(1, 0)</td>\n      <td>'RBF+AR2+RBF'</td>\n      <td>-2296.680420</td>\n    </tr>\n    <tr>\n      <th>2</th>\n      <td>(2, 0)</td>\n      <td>'RBF+AR2*Per_Year+RBF'</td>\n      <td>-2292.869873</td>\n    </tr>\n    <tr>\n      <th>3</th>\n      <td>(3, 0)</td>\n      <td>'RBF+AR2*Per_Year*RBF+RBF'</td>\n      <td>-2308.547363</td>\n    </tr>\n    <tr>\n      <th>4</th>\n      <td>(4, 0)</td>\n      <td>'RBF+AR2*Per_Year*RBF*Mat_1.5+RBF'</td>\n      <td>-2326.375732</td>\n    </tr>\n    <tr>\n      <th>...</th>\n      <td>...</td>\n      <td>...</td>\n      <td>...</td>\n    </tr>\n    <tr>\n      <th>110</th>\n      <td>(0, 22)</td>\n      <td>'RBF*Per_Month'</td>\n      <td>1889.415039</td>\n    </tr>\n    <tr>\n      <th>111</th>\n      <td>(1, 22)</td>\n      <td>'RBF+AR2*Per_Month'</td>\n      <td>290.225006</td>\n    </tr>\n    <tr>\n      <th>112</th>\n      <td>(2, 22)</td>\n      <td>'RBF+AR2*Per_Year*Per_Month'</td>\n      <td>-2197.544922</td>\n    </tr>\n    <tr>\n      <th>113</th>\n      <td>(3, 22)</td>\n      <td>'RBF+AR2*Per_Year*RBF*Per_Month'</td>\n      <td>-1335.378174</td>\n    </tr>\n    <tr>\n      <th>114</th>\n      <td>(4, 22)</td>\n      <td>'RBF+AR2*Per_Year*RBF*Mat_1.5*Per_Month'</td>\n      <td>-2038.764526</td>\n    </tr>\n  </tbody>\n</table>\n<p>115 rows × 3 columns</p>\n</div>"
     },
     "execution_count": 44,
     "metadata": {},
     "output_type": "execute_result"
    }
   ],
   "source": [],
   "metadata": {
    "collapsed": false,
    "ExecuteTime": {
     "end_time": "2023-05-28T04:01:01.640339782Z",
     "start_time": "2023-05-28T04:01:01.630544042Z"
    }
   }
  }
 ],
 "metadata": {
  "kernelspec": {
   "display_name": "Python 3",
   "language": "python",
   "name": "python3"
  },
  "language_info": {
   "codemirror_mode": {
    "name": "ipython",
    "version": 2
   },
   "file_extension": ".py",
   "mimetype": "text/x-python",
   "name": "python",
   "nbconvert_exporter": "python",
   "pygments_lexer": "ipython2",
   "version": "2.7.6"
  }
 },
 "nbformat": 4,
 "nbformat_minor": 0
}
