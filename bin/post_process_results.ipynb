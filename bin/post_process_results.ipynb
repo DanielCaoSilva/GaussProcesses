{
 "cells": [
  {
   "cell_type": "code",
   "execution_count": 1,
   "metadata": {
    "collapsed": true,
    "ExecuteTime": {
     "end_time": "2023-06-08T04:16:15.690707487Z",
     "start_time": "2023-06-08T04:16:14.413942939Z"
    }
   },
   "outputs": [],
   "source": [
    "import pandas as pd\n",
    "import numpy as np\n",
    "import glob\n",
    "\n",
    "import src.DataGrabber\n",
    "from src.utils import *\n"
   ]
  },
  {
   "cell_type": "code",
   "execution_count": 2,
   "outputs": [],
   "source": [
    "def add_past_trials():\n",
    "    list_of_past_trials = glob.glob('./../Past_Trials/csv_results/'+'*.csv')\n",
    "    all_trials = pd.DataFrame()\n",
    "    for trial in list_of_past_trials:\n",
    "        print(trial)\n",
    "        trial_df = pd.read_csv(trial)\n",
    "        all_trials = pd.concat([all_trials,trial_df],axis=0)\n",
    "    cleaned_all_trials = all_trials.loc[:, [\"path_location\", \"Kernel\", \"BIC\"]]\n",
    "    cleaned_all_trials.to_csv(\"./../Past_Trials/cleaned_all_trials.csv\", index=False)\n",
    "    return cleaned_all_trials"
   ],
   "metadata": {
    "collapsed": false,
    "ExecuteTime": {
     "end_time": "2023-06-08T04:16:15.693662620Z",
     "start_time": "2023-06-08T04:16:15.692485030Z"
    }
   }
  },
  {
   "cell_type": "code",
   "execution_count": 3,
   "outputs": [],
   "source": [
    "# all_past_trials = pd.read_csv(\"./../Past_Trials/full_results/cleaned_all_trials.csv\")\n",
    "# all_past_trials.sort_values(by=\"BIC\", inplace=True)\n",
    "# list_of_kernels_ranked = all_past_trials.loc[:, [\"Kernel\"]]\n",
    "# all_past_trials\n"
   ],
   "metadata": {
    "collapsed": false,
    "ExecuteTime": {
     "end_time": "2023-06-08T04:16:15.700303095Z",
     "start_time": "2023-06-08T04:16:15.693808588Z"
    }
   }
  },
  {
   "cell_type": "code",
   "execution_count": 4,
   "outputs": [
    {
     "data": {
      "text/plain": "                                     Kernel  BIC_rank          BIC     Error  \\\n0                              'AR2+RQ*AR2'         9 -2326.191406  0.095826   \n1        'RBF+AR2*Per_Year*RBF*Mat_1.5+RBF'         8 -2326.375732  0.095949   \n2                         'RBF+AR2+Mat_2.5'         6 -2333.447754  0.095949   \n3  'RBF+AR2*Per_Year*RBF*Mat_1.5+Per_Month'         5 -2335.052002  0.096061   \n4        'RBF+AR2*Per_Year*RBF*Mat_1.5*RBF'         1 -2350.953613  0.096677   \n5                    'RBF+AR2*Per_Year*RBF'         2 -2346.211914  0.096680   \n6    'RBF+AR2*Per_Year*RBF*Mat_1.5*Mat_2.5'         4 -2335.255371  0.096698   \n7            'RBF+AR2*Per_Year*RBF*Mat_1.5'         0 -2355.538086  0.096761   \n8                        'RBF+AR2*Per_Year'         3 -2337.717529  0.096776   \n9          'RBF+AR2*Per_Year*RBF+Per_Month'         7 -2333.310303  0.096863   \n\n   Error_rank  \n0           0  \n1           1  \n2           2  \n3           3  \n4           4  \n5           5  \n6           6  \n7           7  \n8           8  \n9           9  ",
      "text/html": "<div>\n<style scoped>\n    .dataframe tbody tr th:only-of-type {\n        vertical-align: middle;\n    }\n\n    .dataframe tbody tr th {\n        vertical-align: top;\n    }\n\n    .dataframe thead th {\n        text-align: right;\n    }\n</style>\n<table border=\"1\" class=\"dataframe\">\n  <thead>\n    <tr style=\"text-align: right;\">\n      <th></th>\n      <th>Kernel</th>\n      <th>BIC_rank</th>\n      <th>BIC</th>\n      <th>Error</th>\n      <th>Error_rank</th>\n    </tr>\n  </thead>\n  <tbody>\n    <tr>\n      <th>0</th>\n      <td>'AR2+RQ*AR2'</td>\n      <td>9</td>\n      <td>-2326.191406</td>\n      <td>0.095826</td>\n      <td>0</td>\n    </tr>\n    <tr>\n      <th>1</th>\n      <td>'RBF+AR2*Per_Year*RBF*Mat_1.5+RBF'</td>\n      <td>8</td>\n      <td>-2326.375732</td>\n      <td>0.095949</td>\n      <td>1</td>\n    </tr>\n    <tr>\n      <th>2</th>\n      <td>'RBF+AR2+Mat_2.5'</td>\n      <td>6</td>\n      <td>-2333.447754</td>\n      <td>0.095949</td>\n      <td>2</td>\n    </tr>\n    <tr>\n      <th>3</th>\n      <td>'RBF+AR2*Per_Year*RBF*Mat_1.5+Per_Month'</td>\n      <td>5</td>\n      <td>-2335.052002</td>\n      <td>0.096061</td>\n      <td>3</td>\n    </tr>\n    <tr>\n      <th>4</th>\n      <td>'RBF+AR2*Per_Year*RBF*Mat_1.5*RBF'</td>\n      <td>1</td>\n      <td>-2350.953613</td>\n      <td>0.096677</td>\n      <td>4</td>\n    </tr>\n    <tr>\n      <th>5</th>\n      <td>'RBF+AR2*Per_Year*RBF'</td>\n      <td>2</td>\n      <td>-2346.211914</td>\n      <td>0.096680</td>\n      <td>5</td>\n    </tr>\n    <tr>\n      <th>6</th>\n      <td>'RBF+AR2*Per_Year*RBF*Mat_1.5*Mat_2.5'</td>\n      <td>4</td>\n      <td>-2335.255371</td>\n      <td>0.096698</td>\n      <td>6</td>\n    </tr>\n    <tr>\n      <th>7</th>\n      <td>'RBF+AR2*Per_Year*RBF*Mat_1.5'</td>\n      <td>0</td>\n      <td>-2355.538086</td>\n      <td>0.096761</td>\n      <td>7</td>\n    </tr>\n    <tr>\n      <th>8</th>\n      <td>'RBF+AR2*Per_Year'</td>\n      <td>3</td>\n      <td>-2337.717529</td>\n      <td>0.096776</td>\n      <td>8</td>\n    </tr>\n    <tr>\n      <th>9</th>\n      <td>'RBF+AR2*Per_Year*RBF+Per_Month'</td>\n      <td>7</td>\n      <td>-2333.310303</td>\n      <td>0.096863</td>\n      <td>9</td>\n    </tr>\n  </tbody>\n</table>\n</div>"
     },
     "execution_count": 4,
     "metadata": {},
     "output_type": "execute_result"
    }
   ],
   "source": [
    "trials_with_cv = pd.read_csv(\"top_10_trials_with_cv.csv\")\n",
    "# trials_with_cv.sort_values(by=\"BIC\", inplace=True)\n",
    "trials_with_cv.columns = [\"BIC_rank\", \"Kernel\", \"BIC\", \"Error\"]\n",
    "trials_with_cv.sort_values(by=\"Error\", inplace=True)\n",
    "trials_with_cv.reset_index(drop=True, inplace=True)\n",
    "# trials_with_cv.columns = [\"Error_rank\", \"BIC_rank\", \"Kernel\", \"BIC\", \"Error\"]\n",
    "trials_with_cv[\"Error_rank\"] = trials_with_cv.index\n",
    "trials_with_cv = trials_with_cv.loc[:, [\"Kernel\", \"BIC_rank\", \"BIC\", \"Error\", \"Error_rank\"]]\n",
    "trials_with_cv"
   ],
   "metadata": {
    "collapsed": false,
    "ExecuteTime": {
     "end_time": "2023-06-08T04:16:15.715847500Z",
     "start_time": "2023-06-08T04:16:15.701459575Z"
    }
   }
  },
  {
   "cell_type": "code",
   "execution_count": 5,
   "outputs": [
    {
     "data": {
      "text/plain": "                                     Kernel  BIC_rank          BIC     Error  \\\n7            'RBF+AR2*Per_Year*RBF*Mat_1.5'         0 -2355.538086  0.096761   \n4        'RBF+AR2*Per_Year*RBF*Mat_1.5*RBF'         1 -2350.953613  0.096677   \n5                    'RBF+AR2*Per_Year*RBF'         2 -2346.211914  0.096680   \n8                        'RBF+AR2*Per_Year'         3 -2337.717529  0.096776   \n6    'RBF+AR2*Per_Year*RBF*Mat_1.5*Mat_2.5'         4 -2335.255371  0.096698   \n3  'RBF+AR2*Per_Year*RBF*Mat_1.5+Per_Month'         5 -2335.052002  0.096061   \n2                         'RBF+AR2+Mat_2.5'         6 -2333.447754  0.095949   \n9          'RBF+AR2*Per_Year*RBF+Per_Month'         7 -2333.310303  0.096863   \n1        'RBF+AR2*Per_Year*RBF*Mat_1.5+RBF'         8 -2326.375732  0.095949   \n0                              'AR2+RQ*AR2'         9 -2326.191406  0.095826   \n\n   Error_rank  \n7           7  \n4           4  \n5           5  \n8           8  \n6           6  \n3           3  \n2           2  \n9           9  \n1           1  \n0           0  ",
      "text/html": "<div>\n<style scoped>\n    .dataframe tbody tr th:only-of-type {\n        vertical-align: middle;\n    }\n\n    .dataframe tbody tr th {\n        vertical-align: top;\n    }\n\n    .dataframe thead th {\n        text-align: right;\n    }\n</style>\n<table border=\"1\" class=\"dataframe\">\n  <thead>\n    <tr style=\"text-align: right;\">\n      <th></th>\n      <th>Kernel</th>\n      <th>BIC_rank</th>\n      <th>BIC</th>\n      <th>Error</th>\n      <th>Error_rank</th>\n    </tr>\n  </thead>\n  <tbody>\n    <tr>\n      <th>7</th>\n      <td>'RBF+AR2*Per_Year*RBF*Mat_1.5'</td>\n      <td>0</td>\n      <td>-2355.538086</td>\n      <td>0.096761</td>\n      <td>7</td>\n    </tr>\n    <tr>\n      <th>4</th>\n      <td>'RBF+AR2*Per_Year*RBF*Mat_1.5*RBF'</td>\n      <td>1</td>\n      <td>-2350.953613</td>\n      <td>0.096677</td>\n      <td>4</td>\n    </tr>\n    <tr>\n      <th>5</th>\n      <td>'RBF+AR2*Per_Year*RBF'</td>\n      <td>2</td>\n      <td>-2346.211914</td>\n      <td>0.096680</td>\n      <td>5</td>\n    </tr>\n    <tr>\n      <th>8</th>\n      <td>'RBF+AR2*Per_Year'</td>\n      <td>3</td>\n      <td>-2337.717529</td>\n      <td>0.096776</td>\n      <td>8</td>\n    </tr>\n    <tr>\n      <th>6</th>\n      <td>'RBF+AR2*Per_Year*RBF*Mat_1.5*Mat_2.5'</td>\n      <td>4</td>\n      <td>-2335.255371</td>\n      <td>0.096698</td>\n      <td>6</td>\n    </tr>\n    <tr>\n      <th>3</th>\n      <td>'RBF+AR2*Per_Year*RBF*Mat_1.5+Per_Month'</td>\n      <td>5</td>\n      <td>-2335.052002</td>\n      <td>0.096061</td>\n      <td>3</td>\n    </tr>\n    <tr>\n      <th>2</th>\n      <td>'RBF+AR2+Mat_2.5'</td>\n      <td>6</td>\n      <td>-2333.447754</td>\n      <td>0.095949</td>\n      <td>2</td>\n    </tr>\n    <tr>\n      <th>9</th>\n      <td>'RBF+AR2*Per_Year*RBF+Per_Month'</td>\n      <td>7</td>\n      <td>-2333.310303</td>\n      <td>0.096863</td>\n      <td>9</td>\n    </tr>\n    <tr>\n      <th>1</th>\n      <td>'RBF+AR2*Per_Year*RBF*Mat_1.5+RBF'</td>\n      <td>8</td>\n      <td>-2326.375732</td>\n      <td>0.095949</td>\n      <td>1</td>\n    </tr>\n    <tr>\n      <th>0</th>\n      <td>'AR2+RQ*AR2'</td>\n      <td>9</td>\n      <td>-2326.191406</td>\n      <td>0.095826</td>\n      <td>0</td>\n    </tr>\n  </tbody>\n</table>\n</div>"
     },
     "execution_count": 5,
     "metadata": {},
     "output_type": "execute_result"
    }
   ],
   "source": [
    "trials_with_cv.sort_values(by=\"BIC\", inplace=True)\n",
    "trials_with_cv"
   ],
   "metadata": {
    "collapsed": false,
    "ExecuteTime": {
     "end_time": "2023-06-08T04:16:15.801921730Z",
     "start_time": "2023-06-08T04:16:15.719409709Z"
    }
   }
  },
  {
   "cell_type": "code",
   "execution_count": 6,
   "outputs": [
    {
     "data": {
      "text/plain": "    path_location                                    Kernel          BIC\n0          (0, 0)                                     'AR2' -2272.004639\n1          (1, 0)                              'AR2+RQ+RBF' -2294.232910\n2          (2, 0)                          'AR2+RQ*AR2+RBF' -2288.347900\n3          (0, 1)                             'AR2+Mat_2.5' -2309.920654\n4          (1, 1)                          'AR2+RQ+Mat_2.5'          NaN\n..            ...                                       ...          ...\n248       (0, 22)                           'RBF*Per_Month'  1889.415039\n249       (1, 22)                       'RBF+AR2*Per_Month'   290.225006\n250       (2, 22)              'RBF+AR2*Per_Year*Per_Month' -2197.544922\n251       (3, 22)          'RBF+AR2*Per_Year*RBF*Per_Month' -1335.378174\n252       (4, 22)  'RBF+AR2*Per_Year*RBF*Mat_1.5*Per_Month' -2038.764526\n\n[253 rows x 3 columns]",
      "text/html": "<div>\n<style scoped>\n    .dataframe tbody tr th:only-of-type {\n        vertical-align: middle;\n    }\n\n    .dataframe tbody tr th {\n        vertical-align: top;\n    }\n\n    .dataframe thead th {\n        text-align: right;\n    }\n</style>\n<table border=\"1\" class=\"dataframe\">\n  <thead>\n    <tr style=\"text-align: right;\">\n      <th></th>\n      <th>path_location</th>\n      <th>Kernel</th>\n      <th>BIC</th>\n    </tr>\n  </thead>\n  <tbody>\n    <tr>\n      <th>0</th>\n      <td>(0, 0)</td>\n      <td>'AR2'</td>\n      <td>-2272.004639</td>\n    </tr>\n    <tr>\n      <th>1</th>\n      <td>(1, 0)</td>\n      <td>'AR2+RQ+RBF'</td>\n      <td>-2294.232910</td>\n    </tr>\n    <tr>\n      <th>2</th>\n      <td>(2, 0)</td>\n      <td>'AR2+RQ*AR2+RBF'</td>\n      <td>-2288.347900</td>\n    </tr>\n    <tr>\n      <th>3</th>\n      <td>(0, 1)</td>\n      <td>'AR2+Mat_2.5'</td>\n      <td>-2309.920654</td>\n    </tr>\n    <tr>\n      <th>4</th>\n      <td>(1, 1)</td>\n      <td>'AR2+RQ+Mat_2.5'</td>\n      <td>NaN</td>\n    </tr>\n    <tr>\n      <th>...</th>\n      <td>...</td>\n      <td>...</td>\n      <td>...</td>\n    </tr>\n    <tr>\n      <th>248</th>\n      <td>(0, 22)</td>\n      <td>'RBF*Per_Month'</td>\n      <td>1889.415039</td>\n    </tr>\n    <tr>\n      <th>249</th>\n      <td>(1, 22)</td>\n      <td>'RBF+AR2*Per_Month'</td>\n      <td>290.225006</td>\n    </tr>\n    <tr>\n      <th>250</th>\n      <td>(2, 22)</td>\n      <td>'RBF+AR2*Per_Year*Per_Month'</td>\n      <td>-2197.544922</td>\n    </tr>\n    <tr>\n      <th>251</th>\n      <td>(3, 22)</td>\n      <td>'RBF+AR2*Per_Year*RBF*Per_Month'</td>\n      <td>-1335.378174</td>\n    </tr>\n    <tr>\n      <th>252</th>\n      <td>(4, 22)</td>\n      <td>'RBF+AR2*Per_Year*RBF*Mat_1.5*Per_Month'</td>\n      <td>-2038.764526</td>\n    </tr>\n  </tbody>\n</table>\n<p>253 rows × 3 columns</p>\n</div>"
     },
     "execution_count": 6,
     "metadata": {},
     "output_type": "execute_result"
    }
   ],
   "source": [
    "pd.read_csv(\"./../Past_Trials/full_results/cleaned_all_trials.csv\")"
   ],
   "metadata": {
    "collapsed": false,
    "ExecuteTime": {
     "end_time": "2023-06-08T04:16:15.802521621Z",
     "start_time": "2023-06-08T04:16:15.761978372Z"
    }
   }
  },
  {
   "cell_type": "code",
   "execution_count": 7,
   "outputs": [
    {
     "name": "stdout",
     "output_type": "stream",
     "text": [
      "Starting Data Collection...\n",
      "Data Collection Complete.  Starting Block Reduce...\n"
     ]
    },
    {
     "data": {
      "text/plain": "array([[1.64101746e+09, 2.09166668e+00],\n       [1.64106067e+09, 1.16375000e+00],\n       [1.64110386e+09, 7.09166666e-01],\n       ...,\n       [1.67244006e+09, 1.29208334e+00],\n       [1.67248326e+09, 1.19625001e+00],\n       [1.04532398e+09, 7.76250000e-01]])"
     },
     "execution_count": 7,
     "metadata": {},
     "output_type": "execute_result"
    }
   ],
   "source": [
    "dg = src.DataGrabber.DataGrab()\n",
    "dg.grab_data_block_reduce()"
   ],
   "metadata": {
    "collapsed": false,
    "ExecuteTime": {
     "end_time": "2023-06-08T04:16:51.007425854Z",
     "start_time": "2023-06-08T04:16:15.762149136Z"
    }
   }
  }
 ],
 "metadata": {
  "kernelspec": {
   "display_name": "Python 3",
   "language": "python",
   "name": "python3"
  },
  "language_info": {
   "codemirror_mode": {
    "name": "ipython",
    "version": 2
   },
   "file_extension": ".py",
   "mimetype": "text/x-python",
   "name": "python",
   "nbconvert_exporter": "python",
   "pygments_lexer": "ipython2",
   "version": "2.7.6"
  }
 },
 "nbformat": 4,
 "nbformat_minor": 0
}
