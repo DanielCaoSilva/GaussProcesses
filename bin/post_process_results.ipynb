{
 "cells": [
  {
   "cell_type": "code",
   "execution_count": 1,
   "metadata": {
    "collapsed": true,
    "ExecuteTime": {
     "end_time": "2023-07-17T23:11:08.406290318Z",
     "start_time": "2023-07-17T23:11:07.103794699Z"
    }
   },
   "outputs": [],
   "source": [
    "import datetime\n",
    "\n",
    "import pandas as pd\n",
    "import numpy as np\n",
    "import glob\n",
    "\n",
    "import src.DataGrabber\n",
    "from src.utils import *\n"
   ]
  },
  {
   "cell_type": "code",
   "execution_count": 83,
   "outputs": [
    {
     "data": {
      "text/plain": "    index                                             Kernel          BIC  \\\n0       0                                     RQ+AR2+Mat_2.5 -2393.656006   \n1       1                  RQ+AR2+Mat_2.5+Per_Season*Mat_1.5 -2346.249756   \n2       2                  RQ+AR2+Mat_2.5+Per_Season*Mat_0.5          NaN   \n3       3                  RQ+AR2+Mat_2.5+Per_Season*Mat_2.5 -2257.091553   \n4       4                            RQ+AR2+Mat_2.5+Per_Year -2395.350342   \n5       5                          RQ+AR2+Mat_2.5+Per_Season -2291.658936   \n6       6                           RQ+AR2+Mat_2.5+Per_Month -2361.827148   \n7       7                            RQ+AR2+Mat_2.5+Per_Week          NaN   \n8       8     RQ+AR2+Mat_2.5+Per_Season*Mat_1.5+Per_Year*RBF -2233.409912   \n9       9    RQ+AR2+Mat_2.5+Per_Season*Mat_1.5+Per_Month*RBF          NaN   \n10     10  RQ+AR2+Mat_2.5+Per_Season*Mat_1.5+Per_Month*Ma... -2313.404053   \n11     11                             RQ+AR2+Mat_2.5*Mat_2.5 -2384.967529   \n12     12               RQ+AR2+Mat_2.5+Per_Season+Per_Season -2369.373779   \n13     13               RQ+AR2+Mat_2.5+Per_Season*Per_Season -2285.305420   \n14     14                       RBF+AR2*Per_Year*RBF+Mat_1.5          NaN   \n15     15                               RBF+AR2*Per_Year*RBF -2335.166992   \n16     16                   RBF+AR2*Per_Year*RBF*Mat_1.5*RBF -2346.094482   \n\n       Error                                         Error_Data  \\\n0   0.078362  [0.012824076227843761, 0.03202127665281296, 0....   \n1   0.079316  [0.01150863990187645, 0.04021153599023819, 0.0...   \n2        NaN  [nan, nan, nan, nan, nan, nan, nan, nan, nan, ...   \n3   0.080293  [0.02663501165807247, 0.01363297551870346, 0.0...   \n4   0.077351  [0.009948301129043102, 0.04533999785780907, 0....   \n5   0.079996  [0.01231719832867384, 0.016856368631124496, 0....   \n6   0.077915  [0.014917830936610699, 0.03195611760020256, 0....   \n7        NaN  [nan, nan, nan, nan, nan, nan, nan, nan, nan, ...   \n8   0.078630  [0.020471978932619095, 0.016076043248176575, 0...   \n9        NaN  [nan, nan, nan, nan, nan, nan, nan, nan, nan, ...   \n10  0.078737  [0.009662952274084091, 0.03959628567099571, 0....   \n11  0.077877  [0.013901643455028534, 0.03109285607933998, 0....   \n12  0.078260  [0.01393705140799284, 0.030226632952690125, 0....   \n13  0.079490  [0.010128749534487724, 0.017765985801815987, 0...   \n14       NaN  [nan, nan, nan, nan, nan, nan, nan, nan, nan, ...   \n15  0.077836  [0.023171445354819298, 0.021579883992671967, 0...   \n16  0.078260  [0.016696996986865997, 0.03133480250835419, 0....   \n\n                                      Hyperparameters  \\\n0   [['kernels.0.raw_outputscale', 0.0001192597264...   \n1   [['kernels.0.raw_outputscale', 0.0024466121103...   \n2   [['kernels.0.raw_outputscale', nan], ['kernels...   \n3   [['kernels.0.raw_outputscale', 0.0012184567749...   \n4   [['kernels.0.raw_outputscale', 0.0027659246698...   \n5   [['kernels.0.raw_outputscale', 0.0005249131354...   \n6   [['kernels.0.raw_outputscale', 0.0004875638696...   \n7   [['kernels.0.raw_outputscale', nan], ['kernels...   \n8   [['kernels.0.raw_outputscale', 0.0025181076489...   \n9   [['kernels.0.raw_outputscale', nan], ['kernels...   \n10  [['kernels.0.raw_outputscale', 0.0042328187264...   \n11  [['kernels.0.raw_outputscale', 0.0001209522961...   \n12  [['kernels.0.raw_outputscale', 0.0005118879489...   \n13  [['kernels.0.raw_outputscale', 0.0003716467763...   \n14  [['kernels.0.raw_outputscale', nan], ['kernels...   \n15  [['kernels.0.raw_outputscale', 0.0329507142305...   \n16  [['kernels.0.raw_outputscale', 0.0464606955647...   \n\n                                                 data  \\\n0   {'train_x': array([7.9366320e-04, 9.2750118e-0...   \n1   {'train_x': array([7.9366320e-04, 9.2750118e-0...   \n2   {'train_x': array([7.9366320e-04, 9.2750118e-0...   \n3   {'train_x': array([7.9366320e-04, 9.2750118e-0...   \n4   {'train_x': array([7.9366320e-04, 9.2750118e-0...   \n5   {'train_x': array([7.9366320e-04, 9.2750118e-0...   \n6   {'train_x': array([7.9366320e-04, 9.2750118e-0...   \n7   {'train_x': array([7.9366320e-04, 9.2750118e-0...   \n8   {'train_x': array([7.9366320e-04, 9.2750118e-0...   \n9   {'train_x': array([7.9366320e-04, 9.2750118e-0...   \n10  {'train_x': array([7.9366320e-04, 9.2750118e-0...   \n11  {'train_x': array([7.9366320e-04, 9.2750118e-0...   \n12  {'train_x': array([7.9366320e-04, 9.2750118e-0...   \n13  {'train_x': array([7.9366320e-04, 9.2750118e-0...   \n14  {'train_x': array([7.9366320e-04, 9.2750118e-0...   \n15  {'train_x': array([7.9366320e-04, 9.2750118e-0...   \n16  {'train_x': array([7.9366320e-04, 9.2750118e-0...   \n\n                                     model_dictionary  \n0   OrderedDict([('likelihood.noise_covar.raw_nois...  \n1   OrderedDict([('likelihood.noise_covar.raw_nois...  \n2   OrderedDict([('likelihood.noise_covar.raw_nois...  \n3   OrderedDict([('likelihood.noise_covar.raw_nois...  \n4   OrderedDict([('likelihood.noise_covar.raw_nois...  \n5   OrderedDict([('likelihood.noise_covar.raw_nois...  \n6   OrderedDict([('likelihood.noise_covar.raw_nois...  \n7   OrderedDict([('likelihood.noise_covar.raw_nois...  \n8   OrderedDict([('likelihood.noise_covar.raw_nois...  \n9   OrderedDict([('likelihood.noise_covar.raw_nois...  \n10  OrderedDict([('likelihood.noise_covar.raw_nois...  \n11  OrderedDict([('likelihood.noise_covar.raw_nois...  \n12  OrderedDict([('likelihood.noise_covar.raw_nois...  \n13  OrderedDict([('likelihood.noise_covar.raw_nois...  \n14  OrderedDict([('likelihood.noise_covar.raw_nois...  \n15  OrderedDict([('likelihood.noise_covar.raw_nois...  \n16  OrderedDict([('likelihood.noise_covar.raw_nois...  ",
      "text/html": "<div>\n<style scoped>\n    .dataframe tbody tr th:only-of-type {\n        vertical-align: middle;\n    }\n\n    .dataframe tbody tr th {\n        vertical-align: top;\n    }\n\n    .dataframe thead th {\n        text-align: right;\n    }\n</style>\n<table border=\"1\" class=\"dataframe\">\n  <thead>\n    <tr style=\"text-align: right;\">\n      <th></th>\n      <th>index</th>\n      <th>Kernel</th>\n      <th>BIC</th>\n      <th>Error</th>\n      <th>Error_Data</th>\n      <th>Hyperparameters</th>\n      <th>data</th>\n      <th>model_dictionary</th>\n    </tr>\n  </thead>\n  <tbody>\n    <tr>\n      <th>0</th>\n      <td>0</td>\n      <td>RQ+AR2+Mat_2.5</td>\n      <td>-2393.656006</td>\n      <td>0.078362</td>\n      <td>[0.012824076227843761, 0.03202127665281296, 0....</td>\n      <td>[['kernels.0.raw_outputscale', 0.0001192597264...</td>\n      <td>{'train_x': array([7.9366320e-04, 9.2750118e-0...</td>\n      <td>OrderedDict([('likelihood.noise_covar.raw_nois...</td>\n    </tr>\n    <tr>\n      <th>1</th>\n      <td>1</td>\n      <td>RQ+AR2+Mat_2.5+Per_Season*Mat_1.5</td>\n      <td>-2346.249756</td>\n      <td>0.079316</td>\n      <td>[0.01150863990187645, 0.04021153599023819, 0.0...</td>\n      <td>[['kernels.0.raw_outputscale', 0.0024466121103...</td>\n      <td>{'train_x': array([7.9366320e-04, 9.2750118e-0...</td>\n      <td>OrderedDict([('likelihood.noise_covar.raw_nois...</td>\n    </tr>\n    <tr>\n      <th>2</th>\n      <td>2</td>\n      <td>RQ+AR2+Mat_2.5+Per_Season*Mat_0.5</td>\n      <td>NaN</td>\n      <td>NaN</td>\n      <td>[nan, nan, nan, nan, nan, nan, nan, nan, nan, ...</td>\n      <td>[['kernels.0.raw_outputscale', nan], ['kernels...</td>\n      <td>{'train_x': array([7.9366320e-04, 9.2750118e-0...</td>\n      <td>OrderedDict([('likelihood.noise_covar.raw_nois...</td>\n    </tr>\n    <tr>\n      <th>3</th>\n      <td>3</td>\n      <td>RQ+AR2+Mat_2.5+Per_Season*Mat_2.5</td>\n      <td>-2257.091553</td>\n      <td>0.080293</td>\n      <td>[0.02663501165807247, 0.01363297551870346, 0.0...</td>\n      <td>[['kernels.0.raw_outputscale', 0.0012184567749...</td>\n      <td>{'train_x': array([7.9366320e-04, 9.2750118e-0...</td>\n      <td>OrderedDict([('likelihood.noise_covar.raw_nois...</td>\n    </tr>\n    <tr>\n      <th>4</th>\n      <td>4</td>\n      <td>RQ+AR2+Mat_2.5+Per_Year</td>\n      <td>-2395.350342</td>\n      <td>0.077351</td>\n      <td>[0.009948301129043102, 0.04533999785780907, 0....</td>\n      <td>[['kernels.0.raw_outputscale', 0.0027659246698...</td>\n      <td>{'train_x': array([7.9366320e-04, 9.2750118e-0...</td>\n      <td>OrderedDict([('likelihood.noise_covar.raw_nois...</td>\n    </tr>\n    <tr>\n      <th>5</th>\n      <td>5</td>\n      <td>RQ+AR2+Mat_2.5+Per_Season</td>\n      <td>-2291.658936</td>\n      <td>0.079996</td>\n      <td>[0.01231719832867384, 0.016856368631124496, 0....</td>\n      <td>[['kernels.0.raw_outputscale', 0.0005249131354...</td>\n      <td>{'train_x': array([7.9366320e-04, 9.2750118e-0...</td>\n      <td>OrderedDict([('likelihood.noise_covar.raw_nois...</td>\n    </tr>\n    <tr>\n      <th>6</th>\n      <td>6</td>\n      <td>RQ+AR2+Mat_2.5+Per_Month</td>\n      <td>-2361.827148</td>\n      <td>0.077915</td>\n      <td>[0.014917830936610699, 0.03195611760020256, 0....</td>\n      <td>[['kernels.0.raw_outputscale', 0.0004875638696...</td>\n      <td>{'train_x': array([7.9366320e-04, 9.2750118e-0...</td>\n      <td>OrderedDict([('likelihood.noise_covar.raw_nois...</td>\n    </tr>\n    <tr>\n      <th>7</th>\n      <td>7</td>\n      <td>RQ+AR2+Mat_2.5+Per_Week</td>\n      <td>NaN</td>\n      <td>NaN</td>\n      <td>[nan, nan, nan, nan, nan, nan, nan, nan, nan, ...</td>\n      <td>[['kernels.0.raw_outputscale', nan], ['kernels...</td>\n      <td>{'train_x': array([7.9366320e-04, 9.2750118e-0...</td>\n      <td>OrderedDict([('likelihood.noise_covar.raw_nois...</td>\n    </tr>\n    <tr>\n      <th>8</th>\n      <td>8</td>\n      <td>RQ+AR2+Mat_2.5+Per_Season*Mat_1.5+Per_Year*RBF</td>\n      <td>-2233.409912</td>\n      <td>0.078630</td>\n      <td>[0.020471978932619095, 0.016076043248176575, 0...</td>\n      <td>[['kernels.0.raw_outputscale', 0.0025181076489...</td>\n      <td>{'train_x': array([7.9366320e-04, 9.2750118e-0...</td>\n      <td>OrderedDict([('likelihood.noise_covar.raw_nois...</td>\n    </tr>\n    <tr>\n      <th>9</th>\n      <td>9</td>\n      <td>RQ+AR2+Mat_2.5+Per_Season*Mat_1.5+Per_Month*RBF</td>\n      <td>NaN</td>\n      <td>NaN</td>\n      <td>[nan, nan, nan, nan, nan, nan, nan, nan, nan, ...</td>\n      <td>[['kernels.0.raw_outputscale', nan], ['kernels...</td>\n      <td>{'train_x': array([7.9366320e-04, 9.2750118e-0...</td>\n      <td>OrderedDict([('likelihood.noise_covar.raw_nois...</td>\n    </tr>\n    <tr>\n      <th>10</th>\n      <td>10</td>\n      <td>RQ+AR2+Mat_2.5+Per_Season*Mat_1.5+Per_Month*Ma...</td>\n      <td>-2313.404053</td>\n      <td>0.078737</td>\n      <td>[0.009662952274084091, 0.03959628567099571, 0....</td>\n      <td>[['kernels.0.raw_outputscale', 0.0042328187264...</td>\n      <td>{'train_x': array([7.9366320e-04, 9.2750118e-0...</td>\n      <td>OrderedDict([('likelihood.noise_covar.raw_nois...</td>\n    </tr>\n    <tr>\n      <th>11</th>\n      <td>11</td>\n      <td>RQ+AR2+Mat_2.5*Mat_2.5</td>\n      <td>-2384.967529</td>\n      <td>0.077877</td>\n      <td>[0.013901643455028534, 0.03109285607933998, 0....</td>\n      <td>[['kernels.0.raw_outputscale', 0.0001209522961...</td>\n      <td>{'train_x': array([7.9366320e-04, 9.2750118e-0...</td>\n      <td>OrderedDict([('likelihood.noise_covar.raw_nois...</td>\n    </tr>\n    <tr>\n      <th>12</th>\n      <td>12</td>\n      <td>RQ+AR2+Mat_2.5+Per_Season+Per_Season</td>\n      <td>-2369.373779</td>\n      <td>0.078260</td>\n      <td>[0.01393705140799284, 0.030226632952690125, 0....</td>\n      <td>[['kernels.0.raw_outputscale', 0.0005118879489...</td>\n      <td>{'train_x': array([7.9366320e-04, 9.2750118e-0...</td>\n      <td>OrderedDict([('likelihood.noise_covar.raw_nois...</td>\n    </tr>\n    <tr>\n      <th>13</th>\n      <td>13</td>\n      <td>RQ+AR2+Mat_2.5+Per_Season*Per_Season</td>\n      <td>-2285.305420</td>\n      <td>0.079490</td>\n      <td>[0.010128749534487724, 0.017765985801815987, 0...</td>\n      <td>[['kernels.0.raw_outputscale', 0.0003716467763...</td>\n      <td>{'train_x': array([7.9366320e-04, 9.2750118e-0...</td>\n      <td>OrderedDict([('likelihood.noise_covar.raw_nois...</td>\n    </tr>\n    <tr>\n      <th>14</th>\n      <td>14</td>\n      <td>RBF+AR2*Per_Year*RBF+Mat_1.5</td>\n      <td>NaN</td>\n      <td>NaN</td>\n      <td>[nan, nan, nan, nan, nan, nan, nan, nan, nan, ...</td>\n      <td>[['kernels.0.raw_outputscale', nan], ['kernels...</td>\n      <td>{'train_x': array([7.9366320e-04, 9.2750118e-0...</td>\n      <td>OrderedDict([('likelihood.noise_covar.raw_nois...</td>\n    </tr>\n    <tr>\n      <th>15</th>\n      <td>15</td>\n      <td>RBF+AR2*Per_Year*RBF</td>\n      <td>-2335.166992</td>\n      <td>0.077836</td>\n      <td>[0.023171445354819298, 0.021579883992671967, 0...</td>\n      <td>[['kernels.0.raw_outputscale', 0.0329507142305...</td>\n      <td>{'train_x': array([7.9366320e-04, 9.2750118e-0...</td>\n      <td>OrderedDict([('likelihood.noise_covar.raw_nois...</td>\n    </tr>\n    <tr>\n      <th>16</th>\n      <td>16</td>\n      <td>RBF+AR2*Per_Year*RBF*Mat_1.5*RBF</td>\n      <td>-2346.094482</td>\n      <td>0.078260</td>\n      <td>[0.016696996986865997, 0.03133480250835419, 0....</td>\n      <td>[['kernels.0.raw_outputscale', 0.0464606955647...</td>\n      <td>{'train_x': array([7.9366320e-04, 9.2750118e-0...</td>\n      <td>OrderedDict([('likelihood.noise_covar.raw_nois...</td>\n    </tr>\n  </tbody>\n</table>\n</div>"
     },
     "execution_count": 83,
     "metadata": {},
     "output_type": "execute_result"
    }
   ],
   "source": [
    "trials_with_cv = pd.read_csv(\"fix_cv_07_16_23_v2.csv\")\n",
    "# df = pd.read_csv(\"reasonable_models_to_test_testing_07_10_23_v4.csv\")\n",
    "# df\n",
    "trials_with_cv.columns = [\"index\", \"Kernel\", \"BIC\", \"Error\", \"Error_Data\", \"Hyperparameters\", \"data\", \"model_dictionary\"]\n",
    "trials_with_cv"
   ],
   "metadata": {
    "collapsed": false,
    "ExecuteTime": {
     "end_time": "2023-07-18T03:32:41.434113513Z",
     "start_time": "2023-07-18T03:32:41.367858509Z"
    }
   }
  },
  {
   "cell_type": "code",
   "execution_count": 153,
   "outputs": [
    {
     "name": "stdout",
     "output_type": "stream",
     "text": [
      "\\begin{tabular}{lrrrr}\n",
      "\\toprule\n",
      "{} &    RQ &  AR2 &  Mat2.5 &  PerYear \\\\\n",
      "\\midrule\n",
      "outputscale   &  1.00 & 1.02 &    1.06 &     1.01 \\\\\n",
      "alpha         &  1.08 &  NaN &     NaN &      NaN \\\\\n",
      "lengthscale   & 81.02 & 7.05 &    6.91 &    30.52 \\\\\n",
      "period        &   NaN & 6.72 &     NaN &      NaN \\\\\n",
      "period\\_length &   NaN &  NaN &     NaN &     0.10 \\\\\n",
      "\\bottomrule\n",
      "\\end{tabular}\n",
      "\n"
     ]
    },
    {
     "name": "stderr",
     "output_type": "stream",
     "text": [
      "/tmp/ipykernel_16663/868482995.py:50: FutureWarning: In future versions `DataFrame.to_latex` is expected to utilise the base implementation of `Styler.to_latex` for formatting and rendering. The arguments signature may therefore change. It is recommended instead to use `DataFrame.style.to_latex` which also contains additional functionality.\n",
      "  print(h_table.to_latex(\n"
     ]
    },
    {
     "data": {
      "text/plain": "                      RQ       AR2    Mat2.5    PerYear\noutputscale     1.002770  1.019313  1.061031   1.014076\nalpha           1.076540       NaN       NaN        NaN\nlengthscale    81.023972  7.051050  6.909257  30.524254\nperiod               NaN  6.716245       NaN        NaN\nperiod_length        NaN       NaN       NaN   0.096177",
      "text/html": "<div>\n<style scoped>\n    .dataframe tbody tr th:only-of-type {\n        vertical-align: middle;\n    }\n\n    .dataframe tbody tr th {\n        vertical-align: top;\n    }\n\n    .dataframe thead th {\n        text-align: right;\n    }\n</style>\n<table border=\"1\" class=\"dataframe\">\n  <thead>\n    <tr style=\"text-align: right;\">\n      <th></th>\n      <th>RQ</th>\n      <th>AR2</th>\n      <th>Mat2.5</th>\n      <th>PerYear</th>\n    </tr>\n  </thead>\n  <tbody>\n    <tr>\n      <th>outputscale</th>\n      <td>1.002770</td>\n      <td>1.019313</td>\n      <td>1.061031</td>\n      <td>1.014076</td>\n    </tr>\n    <tr>\n      <th>alpha</th>\n      <td>1.076540</td>\n      <td>NaN</td>\n      <td>NaN</td>\n      <td>NaN</td>\n    </tr>\n    <tr>\n      <th>lengthscale</th>\n      <td>81.023972</td>\n      <td>7.051050</td>\n      <td>6.909257</td>\n      <td>30.524254</td>\n    </tr>\n    <tr>\n      <th>period</th>\n      <td>NaN</td>\n      <td>6.716245</td>\n      <td>NaN</td>\n      <td>NaN</td>\n    </tr>\n    <tr>\n      <th>period_length</th>\n      <td>NaN</td>\n      <td>NaN</td>\n      <td>NaN</td>\n      <td>0.096177</td>\n    </tr>\n  </tbody>\n</table>\n</div>"
     },
     "execution_count": 153,
     "metadata": {},
     "output_type": "execute_result"
    }
   ],
   "source": [
    "import math\n",
    "shorter_table = trials_with_cv.loc[:, [\"Kernel\", \"BIC\", \"Error\"]].sort_values(by=\"BIC\", inplace=False)\n",
    "# print(shorter_table.to_latex(\n",
    "#     index=False, formatters={\"Kernel\": lambda x: x.replace(\"_\", \"\").replace(\"'\", \"\").replace(\" \", \"\")},\n",
    "#     float_format=\"{:0.4f}\".format,\n",
    "# ))\n",
    "# print(trials_with_cv.loc[0, [\"Kernel\", \"Hyperparameters\", \"model_dictionary\"]][1].replace(\", \", \"\\n\"))\n",
    "list_of_hypers = trials_with_cv.loc[:, [\"Kernel\", \"BIC\", \"Hyperparameters\", \"model_dictionary\"]].sort_values(by=\"BIC\", inplace=False)\\\n",
    "    .iloc[0,2]\\\n",
    "    .replace(\"'\", \"\").replace(\"]'\", \"\").replace(\"'\",\"\")\\\n",
    "    .replace(\"[\", \"\").replace(\"raw_\", \"\").replace(\"]\", \"\")\\\n",
    "    .split(\", \")\n",
    "actual_hypers = {\n",
    "    \"outputscale\":[None]*len(list_of_hypers),\n",
    "    \"alpha\":[None]*len(list_of_hypers),\n",
    "    \"lengthscale\":[None]*len(list_of_hypers),\n",
    "    \"period\":[None]*len(list_of_hypers),\n",
    "    \"period_length\":[None]*len(list_of_hypers), }\n",
    "for i in range(len(list_of_hypers)-1):\n",
    "    current = list_of_hypers[i]\n",
    "    next = list_of_hypers[i+1]\n",
    "    if \"kernel\" in current:\n",
    "        kernel_index = int(current.split(\".\")[1])\n",
    "        hyper_type = current.split(\".\")[-1]\n",
    "        if hyper_type in current:\n",
    "            if hyper_type == \"outputscale\":\n",
    "                actual_hypers[hyper_type][kernel_index] = math.exp(float(next))\n",
    "\n",
    "            elif hyper_type == \"lengthscale\":\n",
    "                in_days = (float(next)*1e9/ 60 / 60 / 24)\n",
    "                if in_days > 600:\n",
    "                    actual_hypers[hyper_type][kernel_index] = in_days / 365#) + \" years\"\n",
    "                else:\n",
    "                    actual_hypers[hyper_type][kernel_index] = in_days#) + \" days\"\n",
    "            elif hyper_type == \"period\":\n",
    "                actual_hypers[hyper_type][kernel_index] = float(next)*1e9 / 60 / 60 / 24#)+ \" days\"\n",
    "            elif  hyper_type == \"period_length\":\n",
    "                actual_hypers[hyper_type][kernel_index] = float(next)#/ 60 / 60 / 24 / 365)+ \" years\"\n",
    "            else:\n",
    "                actual_hypers[hyper_type][kernel_index] = float(next)\n",
    "        else:\n",
    "            actual_hypers[\"other\"].append([kernel_index, float(next)])\n",
    "        # else:\n",
    "        #     actual_hypers.append(float(next))\n",
    "        # print(current, \" : \", float(next))\n",
    "# print(shorter_table)\n",
    "hyper_table = pd.DataFrame(actual_hypers).T\n",
    "h_table = hyper_table.iloc[:, :4]\n",
    "h_table.columns = [\"RQ\", \"AR2\", \"Mat2.5\", \"PerYear\"]\n",
    "print(h_table.to_latex(\n",
    "    index=True,\n",
    "    formatters={},\n",
    "    float_format=\"{:0.2f}\".format,))\n",
    "h_table\n",
    "# print(h_table.to_latex(\n",
    "#     index=True, formatters={},\n",
    "#     float_format=\"{:0.4f}\".format,\n",
    "# ))\n",
    "# trials_with_cv\n",
    "# trials_with_cv = pd.read_csv(\"top_10_trials_with_cv.csv\")\n",
    "# trials_with_cv = trials_with_cv.iloc[:, 1:]\n",
    "\n",
    "# trials_with_cv.sort_values(by=\"BIC\", inplace=True)\n",
    "# trials_with_cv.columns = [\"index\", \"BIC_rank\", \"Kernel\", \"BIC\", \"Error\"]\n",
    "# trials_with_cv.sort_values(by=\"Error\", inplace=True)\n",
    "# trials_with_cv.reset_index(drop=True, inplace=True)\n",
    "# trials_with_cv[\"Error_rank\"] = trials_with_cv.index\n",
    "# trials_with_cv = trials_with_cv.loc[:, [\"Kernel\", \"BIC_rank\", \"BIC\", \"Error\", \"Error_rank\"]]\n",
    "# trials_with_cv"
   ],
   "metadata": {
    "collapsed": false,
    "ExecuteTime": {
     "end_time": "2023-07-18T11:03:58.780058544Z",
     "start_time": "2023-07-18T11:03:58.695449147Z"
    }
   }
  },
  {
   "cell_type": "code",
   "execution_count": 33,
   "outputs": [
    {
     "name": "stdout",
     "output_type": "stream",
     "text": [
      "\\begin{tabular}{llrrrr}\n",
      " & Kernel & BIC & Error & BIC_rank & Error_rank \\\\\n",
      "0 & 'AR2+RQ*AR2' & -2326.191406 & 0.095826 & 9 & 0 \\\\\n",
      "1 & 'RBF+AR2*Per_Year*RBF*Mat_1.5+RBF' & -2326.375732 & 0.095949 & 8 & 1 \\\\\n",
      "2 & 'RBF+AR2+Mat_2.5' & -2333.447754 & 0.095949 & 6 & 2 \\\\\n",
      "3 & 'RBF+AR2*Per_Year*RBF*Mat_1.5+Per_Month' & -2335.052002 & 0.096061 & 5 & 3 \\\\\n",
      "4 & 'RBF+AR2*Per_Year*RBF*Mat_1.5*RBF' & -2350.953613 & 0.096677 & 1 & 4 \\\\\n",
      "5 & 'RBF+AR2*Per_Year*RBF' & -2346.211914 & 0.096680 & 2 & 5 \\\\\n",
      "6 & 'RBF+AR2*Per_Year*RBF*Mat_1.5*Mat_2.5' & -2335.255371 & 0.096698 & 4 & 6 \\\\\n",
      "7 & 'RBF+AR2*Per_Year*RBF*Mat_1.5' & -2355.538086 & 0.096761 & 0 & 7 \\\\\n",
      "8 & 'RBF+AR2*Per_Year' & -2337.717529 & 0.096776 & 3 & 8 \\\\\n",
      "9 & 'RBF+AR2*Per_Year*RBF+Per_Month' & -2333.310303 & 0.096863 & 7 & 9 \\\\\n",
      "\\end{tabular}\n",
      "\n",
      "\\begin{tabular}{lrrrr}\n",
      "\\toprule\n",
      "                                  Kernel &  BIC\\_rank &      BIC &  Error &  Error\\_rank \\\\\n",
      "\\midrule\n",
      "                            'AR2+RQ*AR2' &         9 & -2326.19 &   0.10 &           0 \\\\\n",
      "      'RBF+AR2*Per\\_Year*RBF*Mat\\_1.5+RBF' &         8 & -2326.38 &   0.10 &           1 \\\\\n",
      "                       'RBF+AR2+Mat\\_2.5' &         6 & -2333.45 &   0.10 &           2 \\\\\n",
      "'RBF+AR2*Per\\_Year*RBF*Mat\\_1.5+Per\\_Month' &         5 & -2335.05 &   0.10 &           3 \\\\\n",
      "      'RBF+AR2*Per\\_Year*RBF*Mat\\_1.5*RBF' &         1 & -2350.95 &   0.10 &           4 \\\\\n",
      "                  'RBF+AR2*Per\\_Year*RBF' &         2 & -2346.21 &   0.10 &           5 \\\\\n",
      "  'RBF+AR2*Per\\_Year*RBF*Mat\\_1.5*Mat\\_2.5' &         4 & -2335.26 &   0.10 &           6 \\\\\n",
      "          'RBF+AR2*Per\\_Year*RBF*Mat\\_1.5' &         0 & -2355.54 &   0.10 &           7 \\\\\n",
      "                      'RBF+AR2*Per\\_Year' &         3 & -2337.72 &   0.10 &           8 \\\\\n",
      "        'RBF+AR2*Per\\_Year*RBF+Per\\_Month' &         7 & -2333.31 &   0.10 &           9 \\\\\n",
      "\\bottomrule\n",
      "\\end{tabular}\n",
      "\n"
     ]
    },
    {
     "name": "stderr",
     "output_type": "stream",
     "text": [
      "/tmp/ipykernel_78900/472129381.py:2: FutureWarning: In future versions `DataFrame.to_latex` is expected to utilise the base implementation of `Styler.to_latex` for formatting and rendering. The arguments signature may therefore change. It is recommended instead to use `DataFrame.style.to_latex` which also contains additional functionality.\n",
      "  print(trials_with_cv.to_latex(\n"
     ]
    }
   ],
   "source": [
    "print(trials_with_cv.loc[:,[\"Kernel\", \"BIC\", \"Error\", \"BIC_rank\", \"Error_rank\"]].style.to_latex())\n",
    "print(trials_with_cv.to_latex(\n",
    "    index=False,\n",
    "    formatters={},\n",
    "    float_format=\"{:0.2f}\".format,))"
   ],
   "metadata": {
    "collapsed": false,
    "ExecuteTime": {
     "end_time": "2023-07-13T07:30:37.207671178Z",
     "start_time": "2023-07-13T07:30:37.162992167Z"
    }
   }
  },
  {
   "cell_type": "code",
   "execution_count": 34,
   "outputs": [],
   "source": [
    "def add_past_trials():\n",
    "    list_of_past_trials = glob.glob('./../Past_Trials/csv_results/'+'*.csv')\n",
    "    all_trials = pd.DataFrame()\n",
    "    for trial in list_of_past_trials:\n",
    "        print(trial)\n",
    "        trial_df = pd.read_csv(trial)\n",
    "        all_trials = pd.concat([all_trials,trial_df],axis=0)\n",
    "    cleaned_all_trials = all_trials.loc[:, [\"path_location\", \"Kernel\", \"BIC\"]]\n",
    "    cleaned_all_trials.to_csv(\"./../Past_Trials/cleaned_all_trials_2.csv\", index=False)\n",
    "    return cleaned_all_trials"
   ],
   "metadata": {
    "collapsed": false,
    "ExecuteTime": {
     "end_time": "2023-07-13T07:51:49.350498896Z",
     "start_time": "2023-07-13T07:51:49.307554409Z"
    }
   }
  },
  {
   "cell_type": "code",
   "execution_count": 38,
   "outputs": [
    {
     "name": "stdout",
     "output_type": "stream",
     "text": [
      "./../Past_Trials/csv_results/full_path_history_2023-06-09-025823_cleaned.csv\n",
      "./../Past_Trials/csv_results/full_path_history_2023-05-29-19:01:58_cleaned.csv\n",
      "./../Past_Trials/csv_results/full_path_history_2023-05-30-15:22:27_cleaned.csv\n",
      "./../Past_Trials/csv_results/full_path_history_2023-06-07-015322_cleaned.csv\n",
      "./../Past_Trials/csv_results/full_path_history_2023-06-08-031146_cleaned.csv\n",
      "./../Past_Trials/csv_results/full_path_history_2023-05-30-23:04:30_cleaned.csv\n",
      "./../Past_Trials/csv_results/Starting_with_RBF.csv\n"
     ]
    },
    {
     "data": {
      "text/plain": "    path_location                                    Kernel          BIC\n0          (0, 0)                                      'RQ'  -589.327698\n1          (1, 0)                              'RQ+AR2+RBF' -1818.655396\n2          (2, 0)                      'RQ+AR2+Mat_2.5+RBF'          NaN\n3          (3, 0)           'RQ+AR2+Mat_2.5+Per_Season+RBF' -2335.488037\n4          (0, 1)                              'RQ+Mat_2.5' -2026.503540\n..            ...                                       ...          ...\n110       (0, 22)                           'RBF*Per_Month'  1889.415039\n111       (1, 22)                       'RBF+AR2*Per_Month'   290.225006\n112       (2, 22)              'RBF+AR2*Per_Year*Per_Month' -2197.544922\n113       (3, 22)          'RBF+AR2*Per_Year*RBF*Per_Month' -1335.378174\n114       (4, 22)  'RBF+AR2*Per_Year*RBF*Mat_1.5*Per_Month' -2038.764526\n\n[345 rows x 3 columns]",
      "text/html": "<div>\n<style scoped>\n    .dataframe tbody tr th:only-of-type {\n        vertical-align: middle;\n    }\n\n    .dataframe tbody tr th {\n        vertical-align: top;\n    }\n\n    .dataframe thead th {\n        text-align: right;\n    }\n</style>\n<table border=\"1\" class=\"dataframe\">\n  <thead>\n    <tr style=\"text-align: right;\">\n      <th></th>\n      <th>path_location</th>\n      <th>Kernel</th>\n      <th>BIC</th>\n    </tr>\n  </thead>\n  <tbody>\n    <tr>\n      <th>0</th>\n      <td>(0, 0)</td>\n      <td>'RQ'</td>\n      <td>-589.327698</td>\n    </tr>\n    <tr>\n      <th>1</th>\n      <td>(1, 0)</td>\n      <td>'RQ+AR2+RBF'</td>\n      <td>-1818.655396</td>\n    </tr>\n    <tr>\n      <th>2</th>\n      <td>(2, 0)</td>\n      <td>'RQ+AR2+Mat_2.5+RBF'</td>\n      <td>NaN</td>\n    </tr>\n    <tr>\n      <th>3</th>\n      <td>(3, 0)</td>\n      <td>'RQ+AR2+Mat_2.5+Per_Season+RBF'</td>\n      <td>-2335.488037</td>\n    </tr>\n    <tr>\n      <th>4</th>\n      <td>(0, 1)</td>\n      <td>'RQ+Mat_2.5'</td>\n      <td>-2026.503540</td>\n    </tr>\n    <tr>\n      <th>...</th>\n      <td>...</td>\n      <td>...</td>\n      <td>...</td>\n    </tr>\n    <tr>\n      <th>110</th>\n      <td>(0, 22)</td>\n      <td>'RBF*Per_Month'</td>\n      <td>1889.415039</td>\n    </tr>\n    <tr>\n      <th>111</th>\n      <td>(1, 22)</td>\n      <td>'RBF+AR2*Per_Month'</td>\n      <td>290.225006</td>\n    </tr>\n    <tr>\n      <th>112</th>\n      <td>(2, 22)</td>\n      <td>'RBF+AR2*Per_Year*Per_Month'</td>\n      <td>-2197.544922</td>\n    </tr>\n    <tr>\n      <th>113</th>\n      <td>(3, 22)</td>\n      <td>'RBF+AR2*Per_Year*RBF*Per_Month'</td>\n      <td>-1335.378174</td>\n    </tr>\n    <tr>\n      <th>114</th>\n      <td>(4, 22)</td>\n      <td>'RBF+AR2*Per_Year*RBF*Mat_1.5*Per_Month'</td>\n      <td>-2038.764526</td>\n    </tr>\n  </tbody>\n</table>\n<p>345 rows × 3 columns</p>\n</div>"
     },
     "execution_count": 38,
     "metadata": {},
     "output_type": "execute_result"
    }
   ],
   "source": [
    "cleaned_all_trials_2 = add_past_trials()\n",
    "cleaned_all_trials_2.drop_duplicates(inplace=True)\n",
    "cleaned_all_trials_2"
   ],
   "metadata": {
    "collapsed": false,
    "ExecuteTime": {
     "end_time": "2023-07-13T07:54:24.407350138Z",
     "start_time": "2023-07-13T07:54:24.388384023Z"
    }
   }
  },
  {
   "cell_type": "code",
   "execution_count": 4,
   "outputs": [],
   "source": [
    "# all_past_trials = pd.read_csv(\"./../Past_Trials/full_results/cleaned_all_trials.csv\")\n",
    "# all_past_trials.sort_values(by=\"BIC\", inplace=True)\n",
    "# list_of_kernels_ranked = all_past_trials.loc[:, [\"Kernel\"]]\n",
    "# all_past_trials\n"
   ],
   "metadata": {
    "collapsed": false,
    "ExecuteTime": {
     "end_time": "2023-07-13T07:18:06.686051794Z",
     "start_time": "2023-07-13T07:18:06.673513631Z"
    }
   }
  },
  {
   "cell_type": "code",
   "execution_count": 50,
   "outputs": [
    {
     "data": {
      "text/plain": "                                    Kernel          BIC\n38             'RQ+AR2+Mat_2.5+Per_Season' -2385.041992\n5                         'RQ+AR2+Mat_2.5' -2372.063965\n54                'RQ+AR2+Mat_2.5*Mat_2.5' -2364.126953\n73          'RBF+AR2*Per_Year*RBF*Mat_1.5' -2355.538086\n39  'RQ+AR2+Mat_2.5+Per_Season+Per_Season' -2352.207520\n..                                     ...          ...\n67                     'Min+AR2*Per_Month'  -455.552368\n36                         'RQ+Per_Season'  -345.876099\n66                         'AR2*Per_Month'  -340.112885\n89                      'RQ+AR2*Per_Month'  -311.452271\n18                               'Min+Min'    -0.923904\n\n[273 rows x 2 columns]",
      "text/html": "<div>\n<style scoped>\n    .dataframe tbody tr th:only-of-type {\n        vertical-align: middle;\n    }\n\n    .dataframe tbody tr th {\n        vertical-align: top;\n    }\n\n    .dataframe thead th {\n        text-align: right;\n    }\n</style>\n<table border=\"1\" class=\"dataframe\">\n  <thead>\n    <tr style=\"text-align: right;\">\n      <th></th>\n      <th>Kernel</th>\n      <th>BIC</th>\n    </tr>\n  </thead>\n  <tbody>\n    <tr>\n      <th>38</th>\n      <td>'RQ+AR2+Mat_2.5+Per_Season'</td>\n      <td>-2385.041992</td>\n    </tr>\n    <tr>\n      <th>5</th>\n      <td>'RQ+AR2+Mat_2.5'</td>\n      <td>-2372.063965</td>\n    </tr>\n    <tr>\n      <th>54</th>\n      <td>'RQ+AR2+Mat_2.5*Mat_2.5'</td>\n      <td>-2364.126953</td>\n    </tr>\n    <tr>\n      <th>73</th>\n      <td>'RBF+AR2*Per_Year*RBF*Mat_1.5'</td>\n      <td>-2355.538086</td>\n    </tr>\n    <tr>\n      <th>39</th>\n      <td>'RQ+AR2+Mat_2.5+Per_Season+Per_Season'</td>\n      <td>-2352.207520</td>\n    </tr>\n    <tr>\n      <th>...</th>\n      <td>...</td>\n      <td>...</td>\n    </tr>\n    <tr>\n      <th>67</th>\n      <td>'Min+AR2*Per_Month'</td>\n      <td>-455.552368</td>\n    </tr>\n    <tr>\n      <th>36</th>\n      <td>'RQ+Per_Season'</td>\n      <td>-345.876099</td>\n    </tr>\n    <tr>\n      <th>66</th>\n      <td>'AR2*Per_Month'</td>\n      <td>-340.112885</td>\n    </tr>\n    <tr>\n      <th>89</th>\n      <td>'RQ+AR2*Per_Month'</td>\n      <td>-311.452271</td>\n    </tr>\n    <tr>\n      <th>18</th>\n      <td>'Min+Min'</td>\n      <td>-0.923904</td>\n    </tr>\n  </tbody>\n</table>\n<p>273 rows × 2 columns</p>\n</div>"
     },
     "execution_count": 50,
     "metadata": {},
     "output_type": "execute_result"
    }
   ],
   "source": [
    "# print(\n",
    "new_kernel_potential_list = cleaned_all_trials_2 \\\n",
    "    .loc[cleaned_all_trials_2[\"BIC\"]<10].sort_values(by=\"BIC\", inplace=False).loc[:,[\"Kernel\", \"BIC\"]]\n",
    "        # .to_latex(\n",
    "        #     index=False,\n",
    "        #     formatters={\"Kernel\": lambda x: x.replace(\"_\", \"\").replace(\"'\", \"\").replace(\" \", \"\")},\n",
    "        #     float_format=\"{:0.2f}\".format,))\n",
    "new_kernel_potential_list.to_csv(\"new_kernel_potential_list.csv\", index=False)\n",
    "new_kernel_potential_list"
   ],
   "metadata": {
    "collapsed": false,
    "ExecuteTime": {
     "end_time": "2023-07-13T08:15:25.873217722Z",
     "start_time": "2023-07-13T08:15:25.868013571Z"
    }
   }
  },
  {
   "cell_type": "code",
   "execution_count": 51,
   "outputs": [
    {
     "data": {
      "text/plain": "                                     Kernel  BIC_rank          BIC     Error  \\\n0                              'AR2+RQ*AR2'         9 -2326.191406  0.095826   \n1        'RBF+AR2*Per_Year*RBF*Mat_1.5+RBF'         8 -2326.375732  0.095949   \n2                         'RBF+AR2+Mat_2.5'         6 -2333.447754  0.095949   \n3  'RBF+AR2*Per_Year*RBF*Mat_1.5+Per_Month'         5 -2335.052002  0.096061   \n4        'RBF+AR2*Per_Year*RBF*Mat_1.5*RBF'         1 -2350.953613  0.096677   \n5                    'RBF+AR2*Per_Year*RBF'         2 -2346.211914  0.096680   \n6    'RBF+AR2*Per_Year*RBF*Mat_1.5*Mat_2.5'         4 -2335.255371  0.096698   \n7            'RBF+AR2*Per_Year*RBF*Mat_1.5'         0 -2355.538086  0.096761   \n8                        'RBF+AR2*Per_Year'         3 -2337.717529  0.096776   \n9          'RBF+AR2*Per_Year*RBF+Per_Month'         7 -2333.310303  0.096863   \n\n   Error_rank  \n0           0  \n1           1  \n2           2  \n3           3  \n4           4  \n5           5  \n6           6  \n7           7  \n8           8  \n9           9  ",
      "text/html": "<div>\n<style scoped>\n    .dataframe tbody tr th:only-of-type {\n        vertical-align: middle;\n    }\n\n    .dataframe tbody tr th {\n        vertical-align: top;\n    }\n\n    .dataframe thead th {\n        text-align: right;\n    }\n</style>\n<table border=\"1\" class=\"dataframe\">\n  <thead>\n    <tr style=\"text-align: right;\">\n      <th></th>\n      <th>Kernel</th>\n      <th>BIC_rank</th>\n      <th>BIC</th>\n      <th>Error</th>\n      <th>Error_rank</th>\n    </tr>\n  </thead>\n  <tbody>\n    <tr>\n      <th>0</th>\n      <td>'AR2+RQ*AR2'</td>\n      <td>9</td>\n      <td>-2326.191406</td>\n      <td>0.095826</td>\n      <td>0</td>\n    </tr>\n    <tr>\n      <th>1</th>\n      <td>'RBF+AR2*Per_Year*RBF*Mat_1.5+RBF'</td>\n      <td>8</td>\n      <td>-2326.375732</td>\n      <td>0.095949</td>\n      <td>1</td>\n    </tr>\n    <tr>\n      <th>2</th>\n      <td>'RBF+AR2+Mat_2.5'</td>\n      <td>6</td>\n      <td>-2333.447754</td>\n      <td>0.095949</td>\n      <td>2</td>\n    </tr>\n    <tr>\n      <th>3</th>\n      <td>'RBF+AR2*Per_Year*RBF*Mat_1.5+Per_Month'</td>\n      <td>5</td>\n      <td>-2335.052002</td>\n      <td>0.096061</td>\n      <td>3</td>\n    </tr>\n    <tr>\n      <th>4</th>\n      <td>'RBF+AR2*Per_Year*RBF*Mat_1.5*RBF'</td>\n      <td>1</td>\n      <td>-2350.953613</td>\n      <td>0.096677</td>\n      <td>4</td>\n    </tr>\n    <tr>\n      <th>5</th>\n      <td>'RBF+AR2*Per_Year*RBF'</td>\n      <td>2</td>\n      <td>-2346.211914</td>\n      <td>0.096680</td>\n      <td>5</td>\n    </tr>\n    <tr>\n      <th>6</th>\n      <td>'RBF+AR2*Per_Year*RBF*Mat_1.5*Mat_2.5'</td>\n      <td>4</td>\n      <td>-2335.255371</td>\n      <td>0.096698</td>\n      <td>6</td>\n    </tr>\n    <tr>\n      <th>7</th>\n      <td>'RBF+AR2*Per_Year*RBF*Mat_1.5'</td>\n      <td>0</td>\n      <td>-2355.538086</td>\n      <td>0.096761</td>\n      <td>7</td>\n    </tr>\n    <tr>\n      <th>8</th>\n      <td>'RBF+AR2*Per_Year'</td>\n      <td>3</td>\n      <td>-2337.717529</td>\n      <td>0.096776</td>\n      <td>8</td>\n    </tr>\n    <tr>\n      <th>9</th>\n      <td>'RBF+AR2*Per_Year*RBF+Per_Month'</td>\n      <td>7</td>\n      <td>-2333.310303</td>\n      <td>0.096863</td>\n      <td>9</td>\n    </tr>\n  </tbody>\n</table>\n</div>"
     },
     "execution_count": 51,
     "metadata": {},
     "output_type": "execute_result"
    }
   ],
   "source": [
    "trials_with_cv = pd.read_csv(\"top_10_trials_with_cv.csv\")\n",
    "# trials_with_cv.sort_values(by=\"BIC\", inplace=True)\n",
    "trials_with_cv.columns = [\"BIC_rank\", \"Kernel\", \"BIC\", \"Error\"]\n",
    "trials_with_cv.sort_values(by=\"Error\", inplace=True)\n",
    "trials_with_cv.reset_index(drop=True, inplace=True)\n",
    "# trials_with_cv.columns = [\"Error_rank\", \"BIC_rank\", \"Kernel\", \"BIC\", \"Error\"]\n",
    "trials_with_cv[\"Error_rank\"] = trials_with_cv.index\n",
    "trials_with_cv = trials_with_cv.loc[:, [\"Kernel\", \"BIC_rank\", \"BIC\", \"Error\", \"Error_rank\"]]\n",
    "trials_with_cv"
   ],
   "metadata": {
    "collapsed": false,
    "ExecuteTime": {
     "end_time": "2023-07-13T08:16:11.913463308Z",
     "start_time": "2023-07-13T08:16:11.905370097Z"
    }
   }
  },
  {
   "cell_type": "code",
   "execution_count": 6,
   "outputs": [],
   "source": [
    "# trials_with_cv.sort_values(by=\"BIC\", inplace=True)\n",
    "# trials_with_cv"
   ],
   "metadata": {
    "collapsed": false,
    "ExecuteTime": {
     "end_time": "2023-07-13T07:18:06.764184571Z",
     "start_time": "2023-07-13T07:18:06.721198444Z"
    }
   }
  },
  {
   "cell_type": "code",
   "execution_count": 7,
   "outputs": [],
   "source": [
    "# pd.read_csv(\"./../Past_Trials/full_results/cleaned_all_trials.csv\")"
   ],
   "metadata": {
    "collapsed": false,
    "ExecuteTime": {
     "end_time": "2023-07-13T07:18:06.764300631Z",
     "start_time": "2023-07-13T07:18:06.721390657Z"
    }
   }
  },
  {
   "cell_type": "code",
   "execution_count": 8,
   "outputs": [],
   "source": [
    "# dg = src.DataGrabber.DataGrab()\n",
    "# dg.grab_data_block_reduce()"
   ],
   "metadata": {
    "collapsed": false,
    "ExecuteTime": {
     "end_time": "2023-07-13T07:18:06.764411751Z",
     "start_time": "2023-07-13T07:18:06.721518149Z"
    }
   }
  }
 ],
 "metadata": {
  "kernelspec": {
   "display_name": "Python 3",
   "language": "python",
   "name": "python3"
  },
  "language_info": {
   "codemirror_mode": {
    "name": "ipython",
    "version": 2
   },
   "file_extension": ".py",
   "mimetype": "text/x-python",
   "name": "python",
   "nbconvert_exporter": "python",
   "pygments_lexer": "ipython2",
   "version": "2.7.6"
  }
 },
 "nbformat": 4,
 "nbformat_minor": 0
}
