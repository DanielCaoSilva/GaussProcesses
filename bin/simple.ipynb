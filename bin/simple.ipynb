{
 "cells": [
  {
   "cell_type": "code",
   "execution_count": 1,
   "id": "initial_id",
   "metadata": {
    "collapsed": true,
    "ExecuteTime": {
     "end_time": "2023-07-28T22:45:30.026319639Z",
     "start_time": "2023-07-28T22:45:28.587101985Z"
    }
   },
   "outputs": [],
   "source": [
    "import numpy as np\n",
    "from skimage.measure import block_reduce\n",
    "from datetime import datetime\n",
    "import gc\n",
    "import sys\n",
    "import os\n",
    "import sys\n",
    "import os\n",
    "from pathlib import Path\n",
    "sys.path.append(Path(os.getcwd()).parent.__str__())\n",
    "from src.utils import *\n",
    "plt.style.use('classic')\n",
    "set_gpytorch_settings(False)"
   ]
  },
  {
   "cell_type": "code",
   "execution_count": 2,
   "outputs": [
    {
     "name": "stdout",
     "output_type": "stream",
     "text": [
      "Scale Max: 1677108352.0\n",
      " Scale Min: 1349069952.0\n",
      " Scale Factor: 328038400.0\n",
      " Before Block Reduce: (174818, 2)\n",
      "After Block Reduce: (7285, 2)\n",
      "Number of Nans: 0\n",
      "Start Time: 2012-09-30 16:55:44\n",
      "End Time: 2023-02-22 23:25:52\n",
      "Number of Days: 3642.0416666666665\n",
      "Time Period (Days): 3797.312592592593\n",
      " \n"
     ]
    }
   ],
   "source": [
    "# Reading data file and cleaning missing values\n",
    "df = pd.read_feather(\n",
    "    '../Data/feather/46221_9999_wave_height.feather')\n",
    "parameters_wave = ['time', 'wave_height']\n",
    "parameters_temp = ['time', 'sea_surface_temperature']\n",
    "df_as_np = df \\\n",
    "    .loc[:, parameters_wave] \\\n",
    "    .astype(float) \\\n",
    "    .replace(\n",
    "        to_replace=[999.0, 99.0, 9999.0],\n",
    "        value=np.nan) \\\n",
    "    .to_numpy()\n",
    "using_sk = block_reduce(\n",
    "    df_as_np, block_size=(24, 1),\n",
    "    func=np.mean).astype(float)\n",
    "\n",
    "# Convert to torch tensors\n",
    "X = torch \\\n",
    "    .tensor(using_sk[:-1, 0]) \\\n",
    "    .float() \\\n",
    "    .cuda()\n",
    "y = torch \\\n",
    "    .tensor(using_sk[:-1, 1]) \\\n",
    "    .float() \\\n",
    "    .cuda()\n",
    "X = X.reshape(-1, 1)\n",
    "y = y.reshape(-1, 1)\n",
    "\n",
    "X = X[~torch.any(y.isnan(), dim=1)]\n",
    "y = y[~torch.any(y.isnan(), dim=1)]\n",
    "y = y.flatten()\n",
    "X_old = X\n",
    "\n",
    "\n",
    "# Helper functions\n",
    "def scaler(\n",
    "        a,\n",
    "        X_old=X_old,\n",
    "        center=True):\n",
    "    if center is True:\n",
    "        a = a - X_old.min(0).values\n",
    "    return a / (X_old.max(0).values - X_old.min(0).values)\n",
    "\n",
    "\n",
    "def add_new_kernel_term(\n",
    "        original_kernel, new_kernel_term, operation):\n",
    "    return str(original_kernel) + str(operation) + str(new_kernel_term)\n",
    "\n",
    "\n",
    "# GP Model Declaration\n",
    "class ExactGPModel(gpytorch.models.ExactGP):\n",
    "    def __init__(\n",
    "            self,\n",
    "            train_x_, train_y_,\n",
    "            likelihood, kernel):\n",
    "        super(ExactGPModel, self).__init__(train_x_, train_y_, likelihood)\n",
    "        self.mean_module = gpytorch.means.ConstantMean()\n",
    "        self.covar_module = kernel\n",
    "\n",
    "    def forward(\n",
    "            self, x):\n",
    "        mean_x = self.mean_module(x)\n",
    "        covar_x = self.covar_module(x)\n",
    "        return gpytorch.distributions \\\n",
    "            .MultivariateNormal(mean_x, covar_x)\n",
    "\n",
    "\n",
    "# Scale the time axis and log transform the Y-values\n",
    "X = scaler(X, X_old)\n",
    "y = y.log()\n",
    "\n",
    "# max, min, and scale factor declaration\n",
    "scaler_max = X_old.max(0).values.item()\n",
    "scaler_min = X_old.min(0).values.item()\n",
    "scale_factor = scaler_max - scaler_min\n",
    "scaler_consts = [scaler_max, scaler_min, scale_factor]\n",
    "\n",
    "# Plot the block reduced data set\n",
    "temp_for_plotting = pd.Series(\n",
    "    using_sk[:-1, 0] * 1e9, dtype='datetime64[ns]')\n",
    "# plt.plot(temp_for_plotting, using_sk[:-1, 1])\n",
    "# plt.xlabel(\"Time (epoch)\")\n",
    "# plt.ylabel(\"Significant Wave Height (meters)\")\n",
    "# plt.title(f'Significant wave height - after block reducing')\n",
    "# plt.show()\n",
    "\n",
    "print(\n",
    "    f'Scale Max: {scaler_max}\\n '\n",
    "    f'Scale Min: {scaler_min}\\n '\n",
    "    f'Scale Factor: {scale_factor}\\n '\n",
    "    f'Before Block Reduce: {df_as_np.shape}\\n'\n",
    "    f'After Block Reduce: {using_sk.shape}\\n'\n",
    "    f'Number of Nans: {np.count_nonzero(np.isnan(df_as_np))}\\n'\n",
    "    f'Start Time: {datetime.fromtimestamp(df_as_np[0, 0])}\\n'\n",
    "    f'End Time: {datetime.fromtimestamp(df_as_np[-1, 0])}\\n'\n",
    "    f'Number of Days: {df_as_np.shape[0] / 48}\\n'\n",
    "    f'Time Period (Days): {(df_as_np[-1, 0] - df_as_np[0, 0]) / 24 / 60 / 60}\\n ')\n",
    "\n",
    "# Prediction range, training and test set define (14, 3, 365)\n",
    "predict_days_out = 3\n",
    "test_n = 2 * predict_days_out\n",
    "\n",
    "# Split the data into train and test sets\n",
    "# *contiguous means they are sitting next to each other in memory*\n",
    "train_x = X[test_n:].contiguous().cuda()\n",
    "train_y = y[test_n:].contiguous().cuda()\n",
    "test_x = X[-test_n:].contiguous().cuda()\n",
    "test_y = y[-test_n:].contiguous().cuda()\n",
    "\n",
    "# Create a list of random starting indices for the subtest sets\n",
    "n_total = train_x.shape[0]\n",
    "np.random.seed(2023)\n",
    "torch.manual_seed(2023)\n",
    "idx_list = np.random.randint(\n",
    "    low=n_total / 2,\n",
    "    high=n_total - test_n,\n",
    "    size=100)\n",
    "    # size=10)"
   ],
   "metadata": {
    "collapsed": false,
    "ExecuteTime": {
     "end_time": "2023-07-28T22:45:30.203808119Z",
     "start_time": "2023-07-28T22:45:30.031622118Z"
    }
   },
   "id": "7a88eabed47b4b48"
  },
  {
   "cell_type": "code",
   "execution_count": 3,
   "outputs": [
    {
     "name": "stderr",
     "output_type": "stream",
     "text": [
      "Training exactGP: 1000 iterations: 100%|██████████| 1000/1000 [05:46<00:00,  2.89it/s]\n"
     ]
    }
   ],
   "source": [
    "likelihood = gpytorch.likelihoods.GaussianLikelihood().cuda()\n",
    "model = ExactGPModel(\n",
    "    train_x, train_y, likelihood, \n",
    "    kernel=\\\n",
    "        ScaleKernel(RQKernel(\n",
    "            alpha_constraint=GreaterThan(0.000329),\n",
    "            lengthscale_constraint=GreaterThan(0.000329)))\n",
    "        # +ScaleKernel(RBFKernel())\n",
    "        +ScaleKernel(PeriodicKernel(\n",
    "            period_length_constraint=Interval(\n",
    "                lower_bound=1e-4, \n",
    "                upper_bound=0.8, \n",
    "                initial_value=scaler(60*60*24*365, center=False)),\n",
    "            lengthscale_constraint=GreaterThan(0.000329)))\n",
    "        +ScaleKernel(AR2Kernel(\n",
    "            period_constraint=Interval(\n",
    "                lower_bound=1e-4, \n",
    "                upper_bound=0.006),\n",
    "            lengthscale_constraint=GreaterThan(0.000329)))\n",
    "        +ScaleKernel(MaternKernel(\n",
    "            nu=2.5, \n",
    "            lengthscale_constraint=GreaterThan(0.000435)))\n",
    "    ).cuda()\n",
    "\n",
    "model.train()\n",
    "likelihood.train()\n",
    "\n",
    "optimizer = torch.optim.Adam(model.parameters(), lr=0.01, weight_decay=1e-8, betas=(0.9, 0.999), eps=1e-10)\n",
    "\n",
    "scheduler = torch.optim.lr_scheduler.ReduceLROnPlateau(optimizer, factor=0.4, patience=4, verbose=False, eps=1e-9)\n",
    "\n",
    "mll = gpytorch.mlls.ExactMarginalLogLikelihood(likelihood, model)\n",
    "num_iter_trys = tqdm.tqdm(\n",
    "    range(1000), \n",
    "    desc=f'Training exactGP: {1000} iterations')\n",
    "for i in num_iter_trys:\n",
    "    # Zero gradients from previous iteration\n",
    "    optimizer.zero_grad()\n",
    "    # Output from model\n",
    "    output = model(train_x)\n",
    "    # Calc loss and backprop gradients\n",
    "    loss = -mll(output, train_y)\n",
    "    loss.backward()\n",
    "    optimizer.step()\n",
    "    scheduler.step(loss)"
   ],
   "metadata": {
    "collapsed": false,
    "ExecuteTime": {
     "end_time": "2023-07-28T22:51:16.416128714Z",
     "start_time": "2023-07-28T22:45:30.200801700Z"
    }
   },
   "id": "206f046bfbefd588"
  },
  {
   "cell_type": "code",
   "execution_count": 4,
   "outputs": [],
   "source": [
    "model.eval()\n",
    "likelihood.eval()\n",
    "with torch.no_grad(), gpytorch.settings.fast_pred_var():\n",
    "    model.set_train_data(train_x[:-6, 0], train_y[:-6], strict=False)\n",
    "    test_y_hat = likelihood(model(test_x))\n",
    "    trained_predictive_mean = test_y_hat.mean\n",
    "    lower, upper = test_y_hat.confidence_region()"
   ],
   "metadata": {
    "collapsed": false,
    "ExecuteTime": {
     "end_time": "2023-07-28T22:51:16.599652100Z",
     "start_time": "2023-07-28T22:51:16.412605553Z"
    }
   },
   "id": "668e978662a2e3fd"
  },
  {
   "cell_type": "code",
   "execution_count": 8,
   "outputs": [
    {
     "data": {
      "text/plain": "<matplotlib.legend.Legend at 0x7fe2a8d0c340>"
     },
     "execution_count": 8,
     "metadata": {},
     "output_type": "execute_result"
    },
    {
     "data": {
      "text/plain": "<Figure size 960x480 with 1 Axes>",
      "image/png": "[encoded data removed]"
     },
     "metadata": {},
     "output_type": "display_data"
    }
   ],
   "source": [
    "# Plot the results  \n",
    "fig, ax = plt.subplots(figsize=(12, 6))\n",
    "ax.plot(\n",
    "    train_x[:-6, 0].detach().cpu().numpy(),\n",
    "    train_y[:-6].detach().cpu().numpy(),\n",
    "    'k.',\n",
    "    label='Observed')\n",
    "ax.plot(\n",
    "    test_x[:, 0].detach().cpu().numpy(),\n",
    "    trained_predictive_mean.detach().cpu().numpy(),\n",
    "    'b',\n",
    "    label='Predicted')\n",
    "# ax.fill_between(\n",
    "#     test_x[:, 0].cpu.numpy(),\n",
    "#     lower.cpu().numpy(),\n",
    "#     upper.cpu().numpy(),\n",
    "#     alpha=0.5)\n",
    "ax.set_xlim([.997, 1])\n",
    "ax.legend()"
   ],
   "metadata": {
    "collapsed": false,
    "ExecuteTime": {
     "end_time": "2023-07-28T23:30:27.452500224Z",
     "start_time": "2023-07-28T23:30:27.317303208Z"
    }
   },
   "id": "4135c9b1e6558b5a"
  },
  {
   "cell_type": "code",
   "execution_count": 7,
   "outputs": [
    {
     "data": {
      "text/plain": "tensor([nan, nan, nan, nan, nan, nan])"
     },
     "execution_count": 7,
     "metadata": {},
     "output_type": "execute_result"
    }
   ],
   "source": [
    "# trained_predictive_mean\n",
    "test_y_hat.mean\n",
    "# test_x[:, 0].detach().cpu().numpy()\n",
    "# train_x[:, 0].detach().cpu().numpy()"
   ],
   "metadata": {
    "collapsed": false,
    "ExecuteTime": {
     "end_time": "2023-07-28T23:29:21.223178485Z",
     "start_time": "2023-07-28T23:29:21.180665077Z"
    }
   },
   "id": "c5eb08e7d0652f59"
  }
 ],
 "metadata": {
  "kernelspec": {
   "display_name": "Python 3",
   "language": "python",
   "name": "python3"
  },
  "language_info": {
   "codemirror_mode": {
    "name": "ipython",
    "version": 2
   },
   "file_extension": ".py",
   "mimetype": "text/x-python",
   "name": "python",
   "nbconvert_exporter": "python",
   "pygments_lexer": "ipython2",
   "version": "2.7.6"
  }
 },
 "nbformat": 4,
 "nbformat_minor": 5
}
