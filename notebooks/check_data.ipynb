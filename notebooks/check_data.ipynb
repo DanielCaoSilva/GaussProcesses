{
 "cells": [
  {
   "cell_type": "code",
   "execution_count": 1,
   "metadata": {
    "collapsed": true
   },
   "outputs": [],
   "source": [
    "import pandas as pd\n",
    "import glob"
   ]
  },
  {
   "cell_type": "code",
   "execution_count": 14,
   "outputs": [],
   "source": [
    "# list_of_file = glob.glob('../data/*.csv')\n",
    "list_of_file = glob.glob('../data/*.feather')\n",
    "# file_of_interest = list_of_file[0]\n",
    "# print(file_of_interest)\n",
    "# df = pd.read_csv(file_of_interest, low_memory=False)\n",
    "# df = pd.read_feather(file_of_interest)\n",
    "# df"
   ],
   "metadata": {
    "collapsed": false
   }
  },
  {
   "cell_type": "code",
   "execution_count": 16,
   "outputs": [
    {
     "data": {
      "text/plain": "                time  wind_dir  wind_spd  gust  wave_height  dominant_wpd  \\\n0       1.514765e+09     999.0      99.0  99.0         0.45         10.53   \n1       1.514767e+09     999.0      99.0  99.0         0.51         10.53   \n2       1.514768e+09     999.0      99.0  99.0         0.47         11.11   \n3       1.514770e+09     999.0      99.0  99.0         0.51         10.53   \n4       1.514772e+09     999.0      99.0  99.0         0.52          9.88   \n...              ...       ...       ...   ...          ...           ...   \n259918  1.677130e+09     999.0      99.0  99.0         2.30          7.00   \n259919  1.677132e+09     999.0      99.0  99.0         2.10          7.00   \n259920  1.677134e+09     999.0      99.0  99.0         1.90          6.00   \n259921  1.677135e+09     999.0      99.0  99.0         1.80          6.00   \n259922  1.677137e+09     999.0      99.0  99.0         1.70          6.00   \n\n        average_wpd  mean_wave_dir  air_pressure  air_temperature  \\\n0              7.67          262.0        9999.0            999.0   \n1              7.71          255.0        9999.0            999.0   \n2              7.01          255.0        9999.0            999.0   \n3              6.39          254.0        9999.0            999.0   \n4              5.28          255.0        9999.0            999.0   \n...             ...            ...           ...              ...   \n259918        99.00          999.0        9999.0            999.0   \n259919        99.00          999.0        9999.0            999.0   \n259920        99.00          999.0        9999.0            999.0   \n259921        99.00          999.0        9999.0            999.0   \n259922        99.00          999.0        9999.0            999.0   \n\n        sea_surface_temperature  dewpt_temperature  visibility  water_level  \n0                     16.400000              999.0        99.0         99.0  \n1                     16.400000              999.0        99.0         99.0  \n2                     16.200001              999.0        99.0         99.0  \n3                     16.200001              999.0        99.0         99.0  \n4                     16.200001              999.0        99.0         99.0  \n...                         ...                ...         ...          ...  \n259918                12.400000              999.0        99.0         99.0  \n259919                12.300000              999.0        99.0         99.0  \n259920                12.200000              999.0        99.0         99.0  \n259921                12.100000              999.0        99.0         99.0  \n259922                12.100000              999.0        99.0         99.0  \n\n[259923 rows x 14 columns]",
      "text/html": "<div>\n<style scoped>\n    .dataframe tbody tr th:only-of-type {\n        vertical-align: middle;\n    }\n\n    .dataframe tbody tr th {\n        vertical-align: top;\n    }\n\n    .dataframe thead th {\n        text-align: right;\n    }\n</style>\n<table border=\"1\" class=\"dataframe\">\n  <thead>\n    <tr style=\"text-align: right;\">\n      <th></th>\n      <th>time</th>\n      <th>wind_dir</th>\n      <th>wind_spd</th>\n      <th>gust</th>\n      <th>wave_height</th>\n      <th>dominant_wpd</th>\n      <th>average_wpd</th>\n      <th>mean_wave_dir</th>\n      <th>air_pressure</th>\n      <th>air_temperature</th>\n      <th>sea_surface_temperature</th>\n      <th>dewpt_temperature</th>\n      <th>visibility</th>\n      <th>water_level</th>\n    </tr>\n  </thead>\n  <tbody>\n    <tr>\n      <th>0</th>\n      <td>1.514765e+09</td>\n      <td>999.0</td>\n      <td>99.0</td>\n      <td>99.0</td>\n      <td>0.45</td>\n      <td>10.53</td>\n      <td>7.67</td>\n      <td>262.0</td>\n      <td>9999.0</td>\n      <td>999.0</td>\n      <td>16.400000</td>\n      <td>999.0</td>\n      <td>99.0</td>\n      <td>99.0</td>\n    </tr>\n    <tr>\n      <th>1</th>\n      <td>1.514767e+09</td>\n      <td>999.0</td>\n      <td>99.0</td>\n      <td>99.0</td>\n      <td>0.51</td>\n      <td>10.53</td>\n      <td>7.71</td>\n      <td>255.0</td>\n      <td>9999.0</td>\n      <td>999.0</td>\n      <td>16.400000</td>\n      <td>999.0</td>\n      <td>99.0</td>\n      <td>99.0</td>\n    </tr>\n    <tr>\n      <th>2</th>\n      <td>1.514768e+09</td>\n      <td>999.0</td>\n      <td>99.0</td>\n      <td>99.0</td>\n      <td>0.47</td>\n      <td>11.11</td>\n      <td>7.01</td>\n      <td>255.0</td>\n      <td>9999.0</td>\n      <td>999.0</td>\n      <td>16.200001</td>\n      <td>999.0</td>\n      <td>99.0</td>\n      <td>99.0</td>\n    </tr>\n    <tr>\n      <th>3</th>\n      <td>1.514770e+09</td>\n      <td>999.0</td>\n      <td>99.0</td>\n      <td>99.0</td>\n      <td>0.51</td>\n      <td>10.53</td>\n      <td>6.39</td>\n      <td>254.0</td>\n      <td>9999.0</td>\n      <td>999.0</td>\n      <td>16.200001</td>\n      <td>999.0</td>\n      <td>99.0</td>\n      <td>99.0</td>\n    </tr>\n    <tr>\n      <th>4</th>\n      <td>1.514772e+09</td>\n      <td>999.0</td>\n      <td>99.0</td>\n      <td>99.0</td>\n      <td>0.52</td>\n      <td>9.88</td>\n      <td>5.28</td>\n      <td>255.0</td>\n      <td>9999.0</td>\n      <td>999.0</td>\n      <td>16.200001</td>\n      <td>999.0</td>\n      <td>99.0</td>\n      <td>99.0</td>\n    </tr>\n    <tr>\n      <th>...</th>\n      <td>...</td>\n      <td>...</td>\n      <td>...</td>\n      <td>...</td>\n      <td>...</td>\n      <td>...</td>\n      <td>...</td>\n      <td>...</td>\n      <td>...</td>\n      <td>...</td>\n      <td>...</td>\n      <td>...</td>\n      <td>...</td>\n      <td>...</td>\n    </tr>\n    <tr>\n      <th>259918</th>\n      <td>1.677130e+09</td>\n      <td>999.0</td>\n      <td>99.0</td>\n      <td>99.0</td>\n      <td>2.30</td>\n      <td>7.00</td>\n      <td>99.00</td>\n      <td>999.0</td>\n      <td>9999.0</td>\n      <td>999.0</td>\n      <td>12.400000</td>\n      <td>999.0</td>\n      <td>99.0</td>\n      <td>99.0</td>\n    </tr>\n    <tr>\n      <th>259919</th>\n      <td>1.677132e+09</td>\n      <td>999.0</td>\n      <td>99.0</td>\n      <td>99.0</td>\n      <td>2.10</td>\n      <td>7.00</td>\n      <td>99.00</td>\n      <td>999.0</td>\n      <td>9999.0</td>\n      <td>999.0</td>\n      <td>12.300000</td>\n      <td>999.0</td>\n      <td>99.0</td>\n      <td>99.0</td>\n    </tr>\n    <tr>\n      <th>259920</th>\n      <td>1.677134e+09</td>\n      <td>999.0</td>\n      <td>99.0</td>\n      <td>99.0</td>\n      <td>1.90</td>\n      <td>6.00</td>\n      <td>99.00</td>\n      <td>999.0</td>\n      <td>9999.0</td>\n      <td>999.0</td>\n      <td>12.200000</td>\n      <td>999.0</td>\n      <td>99.0</td>\n      <td>99.0</td>\n    </tr>\n    <tr>\n      <th>259921</th>\n      <td>1.677135e+09</td>\n      <td>999.0</td>\n      <td>99.0</td>\n      <td>99.0</td>\n      <td>1.80</td>\n      <td>6.00</td>\n      <td>99.00</td>\n      <td>999.0</td>\n      <td>9999.0</td>\n      <td>999.0</td>\n      <td>12.100000</td>\n      <td>999.0</td>\n      <td>99.0</td>\n      <td>99.0</td>\n    </tr>\n    <tr>\n      <th>259922</th>\n      <td>1.677137e+09</td>\n      <td>999.0</td>\n      <td>99.0</td>\n      <td>99.0</td>\n      <td>1.70</td>\n      <td>6.00</td>\n      <td>99.00</td>\n      <td>999.0</td>\n      <td>9999.0</td>\n      <td>999.0</td>\n      <td>12.100000</td>\n      <td>999.0</td>\n      <td>99.0</td>\n      <td>99.0</td>\n    </tr>\n  </tbody>\n</table>\n<p>259923 rows × 14 columns</p>\n</div>"
     },
     "execution_count": 16,
     "metadata": {},
     "output_type": "execute_result"
    }
   ],
   "source": [
    "# list_of_file = glob.glob('../data/*.csv')\n",
    "out_df = pd.DataFrame()\n",
    "for file in list_of_file:\n",
    "\t# temp_df = pd.read_csv(file, low_memory=False)\n",
    "\ttemp_df = pd.read_feather(file)\n",
    "\tout_df = pd.concat([out_df, temp_df], ignore_index=True)\n",
    "out_df.to_feather('../data/combined_data.feather')\n",
    "out_df"
   ],
   "metadata": {
    "collapsed": false
   }
  },
  {
   "cell_type": "code",
   "execution_count": 17,
   "outputs": [
    {
     "data": {
      "text/plain": "                time  wind_dir  wind_spd  gust  wave_height  dominant_wpd  \\\n0       1.514765e+09     999.0      99.0  99.0         0.45         10.53   \n1       1.514767e+09     999.0      99.0  99.0         0.51         10.53   \n2       1.514768e+09     999.0      99.0  99.0         0.47         11.11   \n3       1.514770e+09     999.0      99.0  99.0         0.51         10.53   \n4       1.514772e+09     999.0      99.0  99.0         0.52          9.88   \n...              ...       ...       ...   ...          ...           ...   \n259918  1.677130e+09     999.0      99.0  99.0         2.30          7.00   \n259919  1.677132e+09     999.0      99.0  99.0         2.10          7.00   \n259920  1.677134e+09     999.0      99.0  99.0         1.90          6.00   \n259921  1.677135e+09     999.0      99.0  99.0         1.80          6.00   \n259922  1.677137e+09     999.0      99.0  99.0         1.70          6.00   \n\n        average_wpd  mean_wave_dir  air_pressure  air_temperature  \\\n0              7.67          262.0        9999.0            999.0   \n1              7.71          255.0        9999.0            999.0   \n2              7.01          255.0        9999.0            999.0   \n3              6.39          254.0        9999.0            999.0   \n4              5.28          255.0        9999.0            999.0   \n...             ...            ...           ...              ...   \n259918        99.00          999.0        9999.0            999.0   \n259919        99.00          999.0        9999.0            999.0   \n259920        99.00          999.0        9999.0            999.0   \n259921        99.00          999.0        9999.0            999.0   \n259922        99.00          999.0        9999.0            999.0   \n\n        sea_surface_temperature  dewpt_temperature  visibility  water_level  \n0                     16.400000              999.0        99.0         99.0  \n1                     16.400000              999.0        99.0         99.0  \n2                     16.200001              999.0        99.0         99.0  \n3                     16.200001              999.0        99.0         99.0  \n4                     16.200001              999.0        99.0         99.0  \n...                         ...                ...         ...          ...  \n259918                12.400000              999.0        99.0         99.0  \n259919                12.300000              999.0        99.0         99.0  \n259920                12.200000              999.0        99.0         99.0  \n259921                12.100000              999.0        99.0         99.0  \n259922                12.100000              999.0        99.0         99.0  \n\n[259923 rows x 14 columns]",
      "text/html": "<div>\n<style scoped>\n    .dataframe tbody tr th:only-of-type {\n        vertical-align: middle;\n    }\n\n    .dataframe tbody tr th {\n        vertical-align: top;\n    }\n\n    .dataframe thead th {\n        text-align: right;\n    }\n</style>\n<table border=\"1\" class=\"dataframe\">\n  <thead>\n    <tr style=\"text-align: right;\">\n      <th></th>\n      <th>time</th>\n      <th>wind_dir</th>\n      <th>wind_spd</th>\n      <th>gust</th>\n      <th>wave_height</th>\n      <th>dominant_wpd</th>\n      <th>average_wpd</th>\n      <th>mean_wave_dir</th>\n      <th>air_pressure</th>\n      <th>air_temperature</th>\n      <th>sea_surface_temperature</th>\n      <th>dewpt_temperature</th>\n      <th>visibility</th>\n      <th>water_level</th>\n    </tr>\n  </thead>\n  <tbody>\n    <tr>\n      <th>0</th>\n      <td>1.514765e+09</td>\n      <td>999.0</td>\n      <td>99.0</td>\n      <td>99.0</td>\n      <td>0.45</td>\n      <td>10.53</td>\n      <td>7.67</td>\n      <td>262.0</td>\n      <td>9999.0</td>\n      <td>999.0</td>\n      <td>16.400000</td>\n      <td>999.0</td>\n      <td>99.0</td>\n      <td>99.0</td>\n    </tr>\n    <tr>\n      <th>1</th>\n      <td>1.514767e+09</td>\n      <td>999.0</td>\n      <td>99.0</td>\n      <td>99.0</td>\n      <td>0.51</td>\n      <td>10.53</td>\n      <td>7.71</td>\n      <td>255.0</td>\n      <td>9999.0</td>\n      <td>999.0</td>\n      <td>16.400000</td>\n      <td>999.0</td>\n      <td>99.0</td>\n      <td>99.0</td>\n    </tr>\n    <tr>\n      <th>2</th>\n      <td>1.514768e+09</td>\n      <td>999.0</td>\n      <td>99.0</td>\n      <td>99.0</td>\n      <td>0.47</td>\n      <td>11.11</td>\n      <td>7.01</td>\n      <td>255.0</td>\n      <td>9999.0</td>\n      <td>999.0</td>\n      <td>16.200001</td>\n      <td>999.0</td>\n      <td>99.0</td>\n      <td>99.0</td>\n    </tr>\n    <tr>\n      <th>3</th>\n      <td>1.514770e+09</td>\n      <td>999.0</td>\n      <td>99.0</td>\n      <td>99.0</td>\n      <td>0.51</td>\n      <td>10.53</td>\n      <td>6.39</td>\n      <td>254.0</td>\n      <td>9999.0</td>\n      <td>999.0</td>\n      <td>16.200001</td>\n      <td>999.0</td>\n      <td>99.0</td>\n      <td>99.0</td>\n    </tr>\n    <tr>\n      <th>4</th>\n      <td>1.514772e+09</td>\n      <td>999.0</td>\n      <td>99.0</td>\n      <td>99.0</td>\n      <td>0.52</td>\n      <td>9.88</td>\n      <td>5.28</td>\n      <td>255.0</td>\n      <td>9999.0</td>\n      <td>999.0</td>\n      <td>16.200001</td>\n      <td>999.0</td>\n      <td>99.0</td>\n      <td>99.0</td>\n    </tr>\n    <tr>\n      <th>...</th>\n      <td>...</td>\n      <td>...</td>\n      <td>...</td>\n      <td>...</td>\n      <td>...</td>\n      <td>...</td>\n      <td>...</td>\n      <td>...</td>\n      <td>...</td>\n      <td>...</td>\n      <td>...</td>\n      <td>...</td>\n      <td>...</td>\n      <td>...</td>\n    </tr>\n    <tr>\n      <th>259918</th>\n      <td>1.677130e+09</td>\n      <td>999.0</td>\n      <td>99.0</td>\n      <td>99.0</td>\n      <td>2.30</td>\n      <td>7.00</td>\n      <td>99.00</td>\n      <td>999.0</td>\n      <td>9999.0</td>\n      <td>999.0</td>\n      <td>12.400000</td>\n      <td>999.0</td>\n      <td>99.0</td>\n      <td>99.0</td>\n    </tr>\n    <tr>\n      <th>259919</th>\n      <td>1.677132e+09</td>\n      <td>999.0</td>\n      <td>99.0</td>\n      <td>99.0</td>\n      <td>2.10</td>\n      <td>7.00</td>\n      <td>99.00</td>\n      <td>999.0</td>\n      <td>9999.0</td>\n      <td>999.0</td>\n      <td>12.300000</td>\n      <td>999.0</td>\n      <td>99.0</td>\n      <td>99.0</td>\n    </tr>\n    <tr>\n      <th>259920</th>\n      <td>1.677134e+09</td>\n      <td>999.0</td>\n      <td>99.0</td>\n      <td>99.0</td>\n      <td>1.90</td>\n      <td>6.00</td>\n      <td>99.00</td>\n      <td>999.0</td>\n      <td>9999.0</td>\n      <td>999.0</td>\n      <td>12.200000</td>\n      <td>999.0</td>\n      <td>99.0</td>\n      <td>99.0</td>\n    </tr>\n    <tr>\n      <th>259921</th>\n      <td>1.677135e+09</td>\n      <td>999.0</td>\n      <td>99.0</td>\n      <td>99.0</td>\n      <td>1.80</td>\n      <td>6.00</td>\n      <td>99.00</td>\n      <td>999.0</td>\n      <td>9999.0</td>\n      <td>999.0</td>\n      <td>12.100000</td>\n      <td>999.0</td>\n      <td>99.0</td>\n      <td>99.0</td>\n    </tr>\n    <tr>\n      <th>259922</th>\n      <td>1.677137e+09</td>\n      <td>999.0</td>\n      <td>99.0</td>\n      <td>99.0</td>\n      <td>1.70</td>\n      <td>6.00</td>\n      <td>99.00</td>\n      <td>999.0</td>\n      <td>9999.0</td>\n      <td>999.0</td>\n      <td>12.100000</td>\n      <td>999.0</td>\n      <td>99.0</td>\n      <td>99.0</td>\n    </tr>\n  </tbody>\n</table>\n<p>259923 rows × 14 columns</p>\n</div>"
     },
     "execution_count": 17,
     "metadata": {},
     "output_type": "execute_result"
    }
   ],
   "source": [
    "# combined_df = pd.read_csv('../data/combined_data.csv')\n",
    "# combined_df\n",
    "out_df"
   ],
   "metadata": {
    "collapsed": false
   }
  }
 ],
 "metadata": {
  "kernelspec": {
   "display_name": "Python 3",
   "language": "python",
   "name": "python3"
  },
  "language_info": {
   "codemirror_mode": {
    "name": "ipython",
    "version": 2
   },
   "file_extension": ".py",
   "mimetype": "text/x-python",
   "name": "python",
   "nbconvert_exporter": "python",
   "pygments_lexer": "ipython2",
   "version": "2.7.6"
  }
 },
 "nbformat": 4,
 "nbformat_minor": 0
}
