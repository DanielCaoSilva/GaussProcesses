{
 "cells": [
  {
   "cell_type": "markdown",
   "source": [
    "This is an example taken from https://docs.gpytorch.ai/en/stable/examples/01_Exact_GPs/Simple_GP_Regression.html\n",
    "in order to get familiar with the configuration of pytorch with gpytorch, and confirm the packages were loaded properly."
   ],
   "metadata": {
    "collapsed": false,
    "pycharm": {
     "name": "#%% md\n"
    }
   }
  },
  {
   "cell_type": "code",
   "execution_count": 1,
   "outputs": [],
   "source": [
    "import math\n",
    "import torch\n",
    "import gpytorch\n",
    "from matplotlib import pyplot as plt\n",
    "\n",
    "%matplotlib inline\n",
    "%load_ext autoreload\n",
    "%autoreload 2"
   ],
   "metadata": {
    "collapsed": false,
    "pycharm": {
     "name": "#%%\n"
    }
   }
  },
  {
   "cell_type": "code",
   "execution_count": 2,
   "outputs": [],
   "source": [
    "# Training data is 100 points in [0,1] inclusive regularly spaced\n",
    "train_x = torch.linspace(0, 1, 100)\n",
    "# True function is sin(2*pi*x) with Gaussian noise\n",
    "train_y = torch.sin(train_x * (2 * math.pi)) + torch.randn(train_x.size()) * math.sqrt(0.04)\n"
   ],
   "metadata": {
    "collapsed": false,
    "pycharm": {
     "name": "#%%\n"
    }
   }
  },
  {
   "cell_type": "code",
   "execution_count": null,
   "outputs": [],
   "source": [
    "# We will use the simplest form of GP model, exact inference\n",
    "class ExactGPModel(gpytorch.models.ExactGP):\n",
    "    def __init__(self, train_x, train_y, likelihood):\n",
    "        super(ExactGPModel, self).__init__(train_x, train_y, likelihood)\n",
    "        self.mean_module = gpytorch.means.ConstantMean()\n",
    "        self.covar_module = gpytorch.kernels.ScaleKernel(gpytorch.kernels.RBFKernel())\n",
    "\n",
    "    def forward(self, x):\n",
    "        mean_x = self.mean_module(x)\n",
    "        covar_x = self.covar_module(x)\n",
    "        return gpytorch.distributions.MultivariateNormal(mean_x, covar_x)\n",
    "\n",
    "# initialize likelihood and model\n",
    "likelihood = gpytorch.likelihoods.GaussianLikelihood()\n",
    "model = ExactGPModel(train_x, train_y, likelihood)"
   ],
   "metadata": {
    "collapsed": false,
    "pycharm": {
     "name": "#%%\n"
    }
   }
  },
  {
   "cell_type": "code",
   "execution_count": 10,
   "outputs": [
    {
     "name": "stdout",
     "output_type": "stream",
     "text": [
      "Iter 1/50 - Loss: 0.946   lengthscale: 0.693   noise: 0.693\n",
      "Iter 2/50 - Loss: 0.915   lengthscale: 0.644   noise: 0.644\n",
      "Iter 3/50 - Loss: 0.882   lengthscale: 0.598   noise: 0.598\n",
      "Iter 4/50 - Loss: 0.845   lengthscale: 0.555   noise: 0.554\n",
      "Iter 5/50 - Loss: 0.804   lengthscale: 0.514   noise: 0.513\n",
      "Iter 6/50 - Loss: 0.757   lengthscale: 0.476   noise: 0.474\n",
      "Iter 7/50 - Loss: 0.706   lengthscale: 0.439   noise: 0.437\n",
      "Iter 8/50 - Loss: 0.654   lengthscale: 0.405   noise: 0.402\n",
      "Iter 9/50 - Loss: 0.605   lengthscale: 0.373   noise: 0.369\n",
      "Iter 10/50 - Loss: 0.560   lengthscale: 0.343   noise: 0.339\n",
      "Iter 11/50 - Loss: 0.520   lengthscale: 0.316   noise: 0.310\n",
      "Iter 12/50 - Loss: 0.483   lengthscale: 0.292   noise: 0.284\n",
      "Iter 13/50 - Loss: 0.449   lengthscale: 0.272   noise: 0.259\n",
      "Iter 14/50 - Loss: 0.416   lengthscale: 0.256   noise: 0.237\n",
      "Iter 15/50 - Loss: 0.384   lengthscale: 0.243   noise: 0.216\n",
      "Iter 16/50 - Loss: 0.352   lengthscale: 0.232   noise: 0.196\n",
      "Iter 17/50 - Loss: 0.321   lengthscale: 0.224   noise: 0.179\n",
      "Iter 18/50 - Loss: 0.291   lengthscale: 0.218   noise: 0.163\n",
      "Iter 19/50 - Loss: 0.261   lengthscale: 0.214   noise: 0.148\n",
      "Iter 20/50 - Loss: 0.233   lengthscale: 0.211   noise: 0.134\n",
      "Iter 21/50 - Loss: 0.205   lengthscale: 0.211   noise: 0.122\n",
      "Iter 22/50 - Loss: 0.178   lengthscale: 0.212   noise: 0.111\n",
      "Iter 23/50 - Loss: 0.153   lengthscale: 0.214   noise: 0.101\n",
      "Iter 24/50 - Loss: 0.130   lengthscale: 0.217   noise: 0.092\n",
      "Iter 25/50 - Loss: 0.108   lengthscale: 0.222   noise: 0.084\n",
      "Iter 26/50 - Loss: 0.089   lengthscale: 0.227   noise: 0.077\n",
      "Iter 27/50 - Loss: 0.073   lengthscale: 0.234   noise: 0.071\n",
      "Iter 28/50 - Loss: 0.059   lengthscale: 0.241   noise: 0.065\n",
      "Iter 29/50 - Loss: 0.049   lengthscale: 0.249   noise: 0.060\n",
      "Iter 30/50 - Loss: 0.041   lengthscale: 0.257   noise: 0.055\n",
      "Iter 31/50 - Loss: 0.037   lengthscale: 0.265   noise: 0.052\n",
      "Iter 32/50 - Loss: 0.036   lengthscale: 0.273   noise: 0.048\n",
      "Iter 33/50 - Loss: 0.037   lengthscale: 0.281   noise: 0.045\n",
      "Iter 34/50 - Loss: 0.039   lengthscale: 0.287   noise: 0.043\n",
      "Iter 35/50 - Loss: 0.043   lengthscale: 0.292   noise: 0.041\n",
      "Iter 36/50 - Loss: 0.048   lengthscale: 0.296   noise: 0.039\n",
      "Iter 37/50 - Loss: 0.052   lengthscale: 0.299   noise: 0.038\n",
      "Iter 38/50 - Loss: 0.056   lengthscale: 0.299   noise: 0.037\n",
      "Iter 39/50 - Loss: 0.058   lengthscale: 0.299   noise: 0.036\n",
      "Iter 40/50 - Loss: 0.059   lengthscale: 0.296   noise: 0.036\n",
      "Iter 41/50 - Loss: 0.059   lengthscale: 0.293   noise: 0.036\n",
      "Iter 42/50 - Loss: 0.058   lengthscale: 0.289   noise: 0.036\n",
      "Iter 43/50 - Loss: 0.056   lengthscale: 0.284   noise: 0.036\n",
      "Iter 44/50 - Loss: 0.053   lengthscale: 0.280   noise: 0.037\n",
      "Iter 45/50 - Loss: 0.050   lengthscale: 0.275   noise: 0.038\n",
      "Iter 46/50 - Loss: 0.047   lengthscale: 0.270   noise: 0.038\n",
      "Iter 47/50 - Loss: 0.045   lengthscale: 0.266   noise: 0.039\n",
      "Iter 48/50 - Loss: 0.042   lengthscale: 0.263   noise: 0.041\n",
      "Iter 49/50 - Loss: 0.041   lengthscale: 0.260   noise: 0.042\n",
      "Iter 50/50 - Loss: 0.039   lengthscale: 0.258   noise: 0.043\n"
     ]
    }
   ],
   "source": [
    "# this is for running the notebook in our testing framework\n",
    "import os\n",
    "smoke_test = ('CI' in os.environ)\n",
    "training_iter = 2 if smoke_test else 50\n",
    "\n",
    "\n",
    "# Find optimal model hyperparameters\n",
    "model.train()\n",
    "likelihood.train()\n",
    "\n",
    "# Use the adam optimizer\n",
    "optimizer = torch.optim.Adam(model.parameters(), lr=0.1)  # Includes GaussianLikelihood parameters\n",
    "\n",
    "# \"Loss\" for GPs - the marginal log likelihood\n",
    "mll = gpytorch.mlls.ExactMarginalLogLikelihood(likelihood, model)\n",
    "\n",
    "for i in range(training_iter):\n",
    "    # Zero gradients from previous iteration\n",
    "    optimizer.zero_grad()\n",
    "    # Output from model\n",
    "    output = model(train_x)\n",
    "    # Calc loss and backprop gradients\n",
    "    loss = -mll(output, train_y)\n",
    "    loss.backward()\n",
    "    print('Iter %d/%d - Loss: %.3f   lengthscale: %.3f   noise: %.3f' % (\n",
    "        i + 1, training_iter, loss.item(),\n",
    "        model.covar_module.base_kernel.lengthscale.item(),\n",
    "        model.likelihood.noise.item()\n",
    "    ))\n",
    "    optimizer.step()"
   ],
   "metadata": {
    "collapsed": false,
    "pycharm": {
     "name": "#%%\n"
    }
   }
  },
  {
   "cell_type": "code",
   "execution_count": 12,
   "outputs": [],
   "source": [
    "# f_preds = model(test_x)\n",
    "# y_preds = likelihood(model(test_x))\n",
    "#\n",
    "# f_mean = f_preds.mean\n",
    "# f_var = f_preds.variance\n",
    "# f_covar = f_preds.covariance_matrix\n",
    "# f_samples = f_preds.sample(sample_shape=torch.Size(1000,))"
   ],
   "metadata": {
    "collapsed": false,
    "pycharm": {
     "name": "#%%\n"
    }
   }
  },
  {
   "cell_type": "code",
   "execution_count": 13,
   "outputs": [],
   "source": [
    "# Get into evaluation (predictive posterior) mode\n",
    "model.eval()\n",
    "likelihood.eval()\n",
    "\n",
    "# Test points are regularly spaced along [0,1]\n",
    "# Make predictions by feeding model through likelihood\n",
    "with torch.no_grad(), gpytorch.settings.fast_pred_var():\n",
    "    test_x = torch.linspace(0, 1, 51)\n",
    "    observed_pred = likelihood(model(test_x))"
   ],
   "metadata": {
    "collapsed": false,
    "pycharm": {
     "name": "#%%\n"
    }
   }
  },
  {
   "cell_type": "code",
   "execution_count": 14,
   "outputs": [
    {
     "data": {
      "text/plain": "<Figure size 288x216 with 1 Axes>",
      "image/png": "[encoded data removed]"
     },
     "metadata": {
      "needs_background": "light"
     },
     "output_type": "display_data"
    }
   ],
   "source": [
    "with torch.no_grad():\n",
    "    # Initialize plot\n",
    "    f, ax = plt.subplots(1, 1, figsize=(4, 3))\n",
    "\n",
    "    # Get upper and lower confidence bounds\n",
    "    lower, upper = observed_pred.confidence_region()\n",
    "    # Plot training data as black stars\n",
    "    ax.plot(train_x.numpy(), train_y.numpy(), 'k*')\n",
    "    # Plot predictive means as blue line\n",
    "    ax.plot(test_x.numpy(), observed_pred.mean.numpy(), 'b')\n",
    "    # Shade between the lower and upper confidence bounds\n",
    "    ax.fill_between(test_x.numpy(), lower.numpy(), upper.numpy(), alpha=0.5)\n",
    "    ax.set_ylim([-3, 3])\n",
    "    ax.legend(['Observed Data', 'Mean', 'Confidence'])"
   ],
   "metadata": {
    "collapsed": false,
    "pycharm": {
     "name": "#%%\n"
    }
   }
  },
  {
   "cell_type": "code",
   "execution_count": null,
   "outputs": [],
   "source": [],
   "metadata": {
    "collapsed": false,
    "pycharm": {
     "name": "#%%\n"
    }
   }
  }
 ],
 "metadata": {
  "kernelspec": {
   "display_name": "Python 3",
   "language": "python",
   "name": "python3"
  },
  "language_info": {
   "codemirror_mode": {
    "name": "ipython",
    "version": 2
   },
   "file_extension": ".py",
   "mimetype": "text/x-python",
   "name": "python",
   "nbconvert_exporter": "python",
   "pygments_lexer": "ipython2",
   "version": "2.7.6"
  }
 },
 "nbformat": 4,
 "nbformat_minor": 0
}